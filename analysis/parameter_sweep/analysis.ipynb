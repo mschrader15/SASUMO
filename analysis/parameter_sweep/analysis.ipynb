{
 "cells": [
  {
   "cell_type": "markdown",
   "id": "6fd041be",
   "metadata": {},
   "source": [
    "# Analyzing SASUMO outputs"
   ]
  },
  {
   "cell_type": "markdown",
   "id": "99a14216-3daf-47ed-95dc-4412d52f605a",
   "metadata": {
    "tags": []
   },
   "source": [
    "### Import the Required Libraries"
   ]
  },
  {
   "cell_type": "code",
   "execution_count": 1,
   "id": "79e6f5cd-ca24-4399-8c15-f092459a62d8",
   "metadata": {},
   "outputs": [],
   "source": [
    "import os\n",
    "import sys\n",
    "import pathlib"
   ]
  },
  {
   "cell_type": "code",
   "execution_count": 2,
   "id": "fb4407f0",
   "metadata": {},
   "outputs": [],
   "source": [
    "def find_root(path):\n",
    "    if os.path.split(path)[-1] != \"airport-harper-sumo\":\n",
    "        return find_root(os.path.split(path)[0])\n",
    "    return path\n"
   ]
  },
  {
   "cell_type": "code",
   "execution_count": 3,
   "id": "aa5285b6",
   "metadata": {},
   "outputs": [
    {
     "name": "stdout",
     "output_type": "stream",
     "text": [
      "adding /home/max/Development/airport-harper-sumo to path\n"
     ]
    }
   ],
   "source": [
    "import pathlib\n",
    "\n",
    "PATH = find_root(pathlib.Path().absolute())\n",
    "if PATH not in sys.path:\n",
    "    print(f\"adding {PATH} to path\")\n",
    "    sys.path.append(PATH)\n"
   ]
  },
  {
   "cell_type": "code",
   "execution_count": 4,
   "id": "93d83291",
   "metadata": {},
   "outputs": [],
   "source": [
    "import json5 as json\n",
    "import sys\n",
    "\n",
    "import numpy as np\n",
    "import pandas as pd\n",
    "import pint\n",
    "import plotly.graph_objects as go\n",
    "\n",
    "from SALib.analyze import sobol\n",
    "# from SASUMO.params import SASUMOConf, ReplayProcessConf\n"
   ]
  },
  {
   "cell_type": "markdown",
   "id": "91a180f1",
   "metadata": {
    "tags": []
   },
   "source": [
    "## Defining the Analysis Root"
   ]
  },
  {
   "cell_type": "code",
   "execution_count": 5,
   "id": "fe823880",
   "metadata": {},
   "outputs": [],
   "source": [
    "ROOT = r\"/home/max/tmp/sasumo-output/CFPaperParametersCorr/07.26.2022_19.21.48\"\n",
    "TOP_LEVEL_SETTINGS = os.path.join(ROOT, \"sasumo_params.yaml\")\n",
    "OUTPUT = os.path.join(ROOT, \"output.txt\")\n",
    "PROBLEM = os.path.join(ROOT, \"SALib_Problem.json\")\n"
   ]
  },
  {
   "cell_type": "code",
   "execution_count": 6,
   "id": "307f18e5",
   "metadata": {},
   "outputs": [],
   "source": [
    "# with open(TOP_LEVEL_SETTINGS, 'rb') as f:\n",
    "# settings = Config(os.path.join(ROOT, \"sasumo_params.yaml\"))"
   ]
  },
  {
   "cell_type": "markdown",
   "id": "931f3204",
   "metadata": {
    "tags": []
   },
   "source": [
    "## Open up the Problem"
   ]
  },
  {
   "cell_type": "markdown",
   "id": "dbff2049",
   "metadata": {
    "tags": []
   },
   "source": [
    "## Creating a table of the Results and Parameters"
   ]
  },
  {
   "cell_type": "code",
   "execution_count": 7,
   "id": "d7f0d199",
   "metadata": {},
   "outputs": [],
   "source": [
    "def gen_import_func():\n",
    "\n",
    "    from SASUMO.functions.free_flow_speed import FreeFlowSpeed\n",
    "    from SASUMO.functions.simulation_metrics import SimulationMetrics\n",
    "    from SASUMO.functions.per_phase_delay import E3SimulationMetrics\n",
    "    from SASUMO.params import ParameterSweepConf\n",
    "    from tools.output_tools import USDOTCalibration\n",
    "\n",
    "    def import_data(\n",
    "        _dir_name,\n",
    "        _dir,\n",
    "    ):\n",
    "        try:\n",
    "            with open(os.path.join(_dir, \"f_out.txt\"), \"r\") as f:\n",
    "                d = {\"f_out\": float(f.read()), \"sample_num\": int(_dir_name)}\n",
    "        except Exception as e:\n",
    "            raise f\"issue with {_dir}\" from e\n",
    "\n",
    "        d |= {\n",
    "            # load the variable values\n",
    "            **ParameterSweepConf.var_2_records(os.path.join(_dir, \"params.yaml\")),\n",
    "            # load the calibration data\n",
    "            **USDOTCalibration.load_calibration_data(\n",
    "                os.path.join(_dir, \"calibration_results.json\"), load_all=True\n",
    "            ),\n",
    "            # load the simulation metrics\n",
    "            **SimulationMetrics.load_traffic_metrics(\n",
    "                os.path.join(_dir, \"simulation_metrics.json\")\n",
    "            ),\n",
    "            # load the simulation speed\n",
    "            **FreeFlowSpeed.speed_analysis_loader(\n",
    "                os.path.join(_dir, \"speed_analysis.json\")\n",
    "            ),\n",
    "            # load the per-phase\n",
    "            **E3SimulationMetrics.load_traffic_metrics(\n",
    "                os.path.join(_dir, \"per_phase_delay.json\")\n",
    "            ),\n",
    "        }\n",
    "\n",
    "        return d\n",
    "\n",
    "    return import_data"
   ]
  },
  {
   "cell_type": "code",
   "execution_count": 8,
   "id": "a88272cf",
   "metadata": {},
   "outputs": [],
   "source": [
    "def prepare_df(df: pd.DataFrame) -> pd.DataFrame:\n",
    "\n",
    "    from tools.output_tools import FuelProperties\n",
    "\n",
    "    df[\"Fuel_Gal\"] = FuelProperties.joule_2_gal_gas(\n",
    "        df[\"f_out\"].values * 1e6\n",
    "    )  # this value is in MJ\n",
    "\n",
    "    for key in CAL_KEYS:\n",
    "        if \"63082004-EB\" not in key:\n",
    "            res = 0.95 - df[key] if \"1.96\" in key else 0.666 - df[key]\n",
    "            res[res < 0] = 0\n",
    "            df[f\"{key}_score\"] = 1 - res\n",
    "        else:\n",
    "            df[f\"{key}_score\"] = 1\n",
    "\n",
    "    df[\"cal_score\"] = df[[f\"{key}_score\" for key in CAL_KEYS]].mean(axis=1)\n",
    "    df[\"Fuel_L\"] = df[\"Fuel_Gal\"] * 3.78541178\n",
    "    df[\"cal_score_2\"] = df[CAL_KEYS_EXTENDED].sum(axis=1)\n",
    "    # df.drop([f\"{key}_score\" for key in CAL_KEYS], inplace=True, axis=1)\n",
    "    return df\n"
   ]
  },
  {
   "cell_type": "code",
   "execution_count": 18,
   "id": "36c128df-d5f8-4b45-85e1-356adf1827c7",
   "metadata": {},
   "outputs": [
    {
     "name": "stdout",
     "output_type": "stream",
     "text": [
      "reading from csv\n"
     ]
    }
   ],
   "source": [
    "FORCE_RECOMPUTE = False\n",
    "CAL_KEYS = [\n",
    "    \"_\".join([key, movement, sigma])\n",
    "    for key in [\"63082002\", \"63082003\", \"63082004\"]\n",
    "    for movement in [\"WB\", \"EB\"]\n",
    "    for sigma in [\"sigma_1\", \"sigma_1.96\"]\n",
    "]\n",
    "\n",
    "CAL_KEYS_EXTENDED = [\n",
    "    \"_\".join([key, movement, sigma])\n",
    "    for key in [\"63082002\", \"63082003\", \"63082004\"]\n",
    "    for movement in [\"WB\", \"EB\", \"4\"] + ([\"8\"] if key != \"63082002\" else [])\n",
    "    for sigma in [\"sigma_1\", \"sigma_1.96\"]\n",
    "]\n",
    "\n",
    "if FORCE_RECOMPUTE or not os.path.exists(os.path.join(ROOT, \"processed_results.csv\")):\n",
    "    print(\"Processing the SA runs\")\n",
    "\n",
    "    from joblib import Parallel, delayed\n",
    "\n",
    "    results = Parallel(n_jobs=os.cpu_count() - 1)(\n",
    "        delayed(gen_import_func())(\n",
    "            dir.name,\n",
    "            dir.path,\n",
    "        )\n",
    "        for dir in os.scandir(ROOT)\n",
    "        if dir.is_dir()\n",
    "    )\n",
    "    results_df = pd.DataFrame.from_records(results, index=\"sample_num\").sort_index()\n",
    "    results_df = prepare_df(results_df)\n",
    "    print(f\"Saving processed csv to {os.path.join(ROOT, 'processed_results.csv')}\")\n",
    "    results_df.to_csv(os.path.join(ROOT, \"processed_results.csv\"))\n",
    "\n",
    "else:\n",
    "    print(\"reading from csv\")\n",
    "    results_df = pd.read_csv(os.path.join(ROOT, \"processed_results.csv\"))\n"
   ]
  },
  {
   "cell_type": "code",
   "execution_count": 19,
   "id": "35f3e06a",
   "metadata": {},
   "outputs": [
    {
     "data": {
      "text/html": [
       "<div>\n",
       "<style scoped>\n",
       "    .dataframe tbody tr th:only-of-type {\n",
       "        vertical-align: middle;\n",
       "    }\n",
       "\n",
       "    .dataframe tbody tr th {\n",
       "        vertical-align: top;\n",
       "    }\n",
       "\n",
       "    .dataframe thead th {\n",
       "        text-align: right;\n",
       "    }\n",
       "</style>\n",
       "<table border=\"1\" class=\"dataframe\">\n",
       "  <thead>\n",
       "    <tr style=\"text-align: right;\">\n",
       "      <th></th>\n",
       "      <th>sample_num</th>\n",
       "      <th>f_out</th>\n",
       "      <th>RandomSeed</th>\n",
       "      <th>63082002_4_sigma_1.96</th>\n",
       "      <th>63082002_4_sigma_1</th>\n",
       "      <th>63082002_4_BDAE</th>\n",
       "      <th>63082002_4_BDSE</th>\n",
       "      <th>63082002_5_sigma_1.96</th>\n",
       "      <th>63082002_5_sigma_1</th>\n",
       "      <th>63082002_5_BDAE</th>\n",
       "      <th>...</th>\n",
       "      <th>63082003_WB_sigma_1.96_score</th>\n",
       "      <th>63082003_EB_sigma_1_score</th>\n",
       "      <th>63082003_EB_sigma_1.96_score</th>\n",
       "      <th>63082004_WB_sigma_1_score</th>\n",
       "      <th>63082004_WB_sigma_1.96_score</th>\n",
       "      <th>63082004_EB_sigma_1_score</th>\n",
       "      <th>63082004_EB_sigma_1.96_score</th>\n",
       "      <th>cal_score</th>\n",
       "      <th>Fuel_L</th>\n",
       "      <th>cal_score_2</th>\n",
       "    </tr>\n",
       "  </thead>\n",
       "  <tbody>\n",
       "    <tr>\n",
       "      <th>95</th>\n",
       "      <td>95</td>\n",
       "      <td>10202.561787</td>\n",
       "      <td>959.636364</td>\n",
       "      <td>1.0</td>\n",
       "      <td>1.0</td>\n",
       "      <td>True</td>\n",
       "      <td>True</td>\n",
       "      <td>0.941176</td>\n",
       "      <td>0.882353</td>\n",
       "      <td>True</td>\n",
       "      <td>...</td>\n",
       "      <td>1.0</td>\n",
       "      <td>1.0</td>\n",
       "      <td>1.0</td>\n",
       "      <td>1.0</td>\n",
       "      <td>1.0</td>\n",
       "      <td>1.0</td>\n",
       "      <td>1.0</td>\n",
       "      <td>1.0</td>\n",
       "      <td>316.822132</td>\n",
       "      <td>20.647059</td>\n",
       "    </tr>\n",
       "    <tr>\n",
       "      <th>96</th>\n",
       "      <td>96</td>\n",
       "      <td>10409.560952</td>\n",
       "      <td>969.727273</td>\n",
       "      <td>1.0</td>\n",
       "      <td>1.0</td>\n",
       "      <td>True</td>\n",
       "      <td>True</td>\n",
       "      <td>0.882353</td>\n",
       "      <td>0.764706</td>\n",
       "      <td>True</td>\n",
       "      <td>...</td>\n",
       "      <td>1.0</td>\n",
       "      <td>1.0</td>\n",
       "      <td>1.0</td>\n",
       "      <td>1.0</td>\n",
       "      <td>1.0</td>\n",
       "      <td>1.0</td>\n",
       "      <td>1.0</td>\n",
       "      <td>1.0</td>\n",
       "      <td>323.250117</td>\n",
       "      <td>20.529412</td>\n",
       "    </tr>\n",
       "    <tr>\n",
       "      <th>97</th>\n",
       "      <td>97</td>\n",
       "      <td>10187.957036</td>\n",
       "      <td>979.818182</td>\n",
       "      <td>1.0</td>\n",
       "      <td>1.0</td>\n",
       "      <td>True</td>\n",
       "      <td>True</td>\n",
       "      <td>0.941176</td>\n",
       "      <td>0.823529</td>\n",
       "      <td>True</td>\n",
       "      <td>...</td>\n",
       "      <td>1.0</td>\n",
       "      <td>1.0</td>\n",
       "      <td>1.0</td>\n",
       "      <td>1.0</td>\n",
       "      <td>1.0</td>\n",
       "      <td>1.0</td>\n",
       "      <td>1.0</td>\n",
       "      <td>1.0</td>\n",
       "      <td>316.368608</td>\n",
       "      <td>20.647059</td>\n",
       "    </tr>\n",
       "    <tr>\n",
       "      <th>98</th>\n",
       "      <td>98</td>\n",
       "      <td>10216.827811</td>\n",
       "      <td>989.909091</td>\n",
       "      <td>1.0</td>\n",
       "      <td>1.0</td>\n",
       "      <td>True</td>\n",
       "      <td>True</td>\n",
       "      <td>1.000000</td>\n",
       "      <td>0.882353</td>\n",
       "      <td>True</td>\n",
       "      <td>...</td>\n",
       "      <td>1.0</td>\n",
       "      <td>1.0</td>\n",
       "      <td>1.0</td>\n",
       "      <td>1.0</td>\n",
       "      <td>1.0</td>\n",
       "      <td>1.0</td>\n",
       "      <td>1.0</td>\n",
       "      <td>1.0</td>\n",
       "      <td>317.265138</td>\n",
       "      <td>20.588235</td>\n",
       "    </tr>\n",
       "    <tr>\n",
       "      <th>99</th>\n",
       "      <td>99</td>\n",
       "      <td>10209.991839</td>\n",
       "      <td>1000.000000</td>\n",
       "      <td>1.0</td>\n",
       "      <td>1.0</td>\n",
       "      <td>True</td>\n",
       "      <td>True</td>\n",
       "      <td>1.000000</td>\n",
       "      <td>0.882353</td>\n",
       "      <td>True</td>\n",
       "      <td>...</td>\n",
       "      <td>1.0</td>\n",
       "      <td>1.0</td>\n",
       "      <td>1.0</td>\n",
       "      <td>1.0</td>\n",
       "      <td>1.0</td>\n",
       "      <td>1.0</td>\n",
       "      <td>1.0</td>\n",
       "      <td>1.0</td>\n",
       "      <td>317.052859</td>\n",
       "      <td>20.647059</td>\n",
       "    </tr>\n",
       "  </tbody>\n",
       "</table>\n",
       "<p>5 rows × 339 columns</p>\n",
       "</div>"
      ],
      "text/plain": [
       "    sample_num         f_out   RandomSeed  63082002_4_sigma_1.96  \\\n",
       "95          95  10202.561787   959.636364                    1.0   \n",
       "96          96  10409.560952   969.727273                    1.0   \n",
       "97          97  10187.957036   979.818182                    1.0   \n",
       "98          98  10216.827811   989.909091                    1.0   \n",
       "99          99  10209.991839  1000.000000                    1.0   \n",
       "\n",
       "    63082002_4_sigma_1  63082002_4_BDAE  63082002_4_BDSE  \\\n",
       "95                 1.0             True             True   \n",
       "96                 1.0             True             True   \n",
       "97                 1.0             True             True   \n",
       "98                 1.0             True             True   \n",
       "99                 1.0             True             True   \n",
       "\n",
       "    63082002_5_sigma_1.96  63082002_5_sigma_1  63082002_5_BDAE  ...  \\\n",
       "95               0.941176            0.882353             True  ...   \n",
       "96               0.882353            0.764706             True  ...   \n",
       "97               0.941176            0.823529             True  ...   \n",
       "98               1.000000            0.882353             True  ...   \n",
       "99               1.000000            0.882353             True  ...   \n",
       "\n",
       "    63082003_WB_sigma_1.96_score  63082003_EB_sigma_1_score  \\\n",
       "95                           1.0                        1.0   \n",
       "96                           1.0                        1.0   \n",
       "97                           1.0                        1.0   \n",
       "98                           1.0                        1.0   \n",
       "99                           1.0                        1.0   \n",
       "\n",
       "    63082003_EB_sigma_1.96_score  63082004_WB_sigma_1_score  \\\n",
       "95                           1.0                        1.0   \n",
       "96                           1.0                        1.0   \n",
       "97                           1.0                        1.0   \n",
       "98                           1.0                        1.0   \n",
       "99                           1.0                        1.0   \n",
       "\n",
       "    63082004_WB_sigma_1.96_score  63082004_EB_sigma_1_score  \\\n",
       "95                           1.0                        1.0   \n",
       "96                           1.0                        1.0   \n",
       "97                           1.0                        1.0   \n",
       "98                           1.0                        1.0   \n",
       "99                           1.0                        1.0   \n",
       "\n",
       "    63082004_EB_sigma_1.96_score  cal_score      Fuel_L  cal_score_2  \n",
       "95                           1.0        1.0  316.822132    20.647059  \n",
       "96                           1.0        1.0  323.250117    20.529412  \n",
       "97                           1.0        1.0  316.368608    20.647059  \n",
       "98                           1.0        1.0  317.265138    20.588235  \n",
       "99                           1.0        1.0  317.052859    20.647059  \n",
       "\n",
       "[5 rows x 339 columns]"
      ]
     },
     "execution_count": 19,
     "metadata": {},
     "output_type": "execute_result"
    }
   ],
   "source": [
    "results_df.tail()"
   ]
  },
  {
   "cell_type": "code",
   "execution_count": 20,
   "id": "0d884e81-2673-4900-8c50-69689035784c",
   "metadata": {},
   "outputs": [
    {
     "data": {
      "application/vnd.plotly.v1+json": {
       "config": {
        "plotlyServerURL": "https://plot.ly"
       },
       "data": [
        {
         "mode": "lines",
         "type": "scatter",
         "x": [
          0,
          1,
          2,
          3,
          4,
          5,
          6,
          7,
          8,
          9,
          10,
          11,
          12,
          13,
          14,
          15,
          16,
          17,
          18,
          19,
          20,
          21,
          22,
          23,
          24,
          25,
          26,
          27,
          28,
          29,
          30,
          31,
          32,
          33,
          34,
          35,
          36,
          37,
          38,
          39,
          40,
          41,
          42,
          43,
          44,
          45,
          46,
          47,
          48,
          49,
          50,
          51,
          52,
          53,
          54,
          55,
          56,
          57,
          58,
          59,
          60,
          61,
          62,
          63,
          64,
          65,
          66,
          67,
          68,
          69,
          70,
          71,
          72,
          73,
          74,
          75,
          76,
          77,
          78,
          79,
          80,
          81,
          82,
          83,
          84,
          85,
          86,
          87,
          88,
          89,
          90,
          91,
          92,
          93,
          94,
          95,
          96,
          97,
          98,
          99
         ],
         "y": [
          1,
          1,
          1,
          1,
          1,
          1,
          1,
          1,
          1,
          1,
          1,
          1,
          1,
          1,
          1,
          1,
          1,
          1,
          1,
          1,
          1,
          1,
          1,
          1,
          1,
          1,
          1,
          1,
          1,
          1,
          1,
          1,
          1,
          1,
          1,
          1,
          1,
          1,
          1,
          1,
          1,
          1,
          1,
          1,
          1,
          1,
          1,
          1,
          1,
          1,
          1,
          1,
          1,
          1,
          1,
          1,
          1,
          1,
          1,
          1,
          1,
          1,
          1,
          1,
          1,
          1,
          1,
          1,
          1,
          1,
          1,
          1,
          1,
          1,
          1,
          1,
          1,
          1,
          1,
          1,
          1,
          1,
          1,
          1,
          1,
          1,
          1,
          1,
          1,
          1,
          1,
          1,
          1,
          1,
          1,
          1,
          1,
          1,
          1,
          1
         ]
        }
       ],
       "layout": {
        "template": {
         "data": {
          "bar": [
           {
            "error_x": {
             "color": "#2a3f5f"
            },
            "error_y": {
             "color": "#2a3f5f"
            },
            "marker": {
             "line": {
              "color": "#E5ECF6",
              "width": 0.5
             },
             "pattern": {
              "fillmode": "overlay",
              "size": 10,
              "solidity": 0.2
             }
            },
            "type": "bar"
           }
          ],
          "barpolar": [
           {
            "marker": {
             "line": {
              "color": "#E5ECF6",
              "width": 0.5
             },
             "pattern": {
              "fillmode": "overlay",
              "size": 10,
              "solidity": 0.2
             }
            },
            "type": "barpolar"
           }
          ],
          "carpet": [
           {
            "aaxis": {
             "endlinecolor": "#2a3f5f",
             "gridcolor": "white",
             "linecolor": "white",
             "minorgridcolor": "white",
             "startlinecolor": "#2a3f5f"
            },
            "baxis": {
             "endlinecolor": "#2a3f5f",
             "gridcolor": "white",
             "linecolor": "white",
             "minorgridcolor": "white",
             "startlinecolor": "#2a3f5f"
            },
            "type": "carpet"
           }
          ],
          "choropleth": [
           {
            "colorbar": {
             "outlinewidth": 0,
             "ticks": ""
            },
            "type": "choropleth"
           }
          ],
          "contour": [
           {
            "colorbar": {
             "outlinewidth": 0,
             "ticks": ""
            },
            "colorscale": [
             [
              0,
              "#0d0887"
             ],
             [
              0.1111111111111111,
              "#46039f"
             ],
             [
              0.2222222222222222,
              "#7201a8"
             ],
             [
              0.3333333333333333,
              "#9c179e"
             ],
             [
              0.4444444444444444,
              "#bd3786"
             ],
             [
              0.5555555555555556,
              "#d8576b"
             ],
             [
              0.6666666666666666,
              "#ed7953"
             ],
             [
              0.7777777777777778,
              "#fb9f3a"
             ],
             [
              0.8888888888888888,
              "#fdca26"
             ],
             [
              1,
              "#f0f921"
             ]
            ],
            "type": "contour"
           }
          ],
          "contourcarpet": [
           {
            "colorbar": {
             "outlinewidth": 0,
             "ticks": ""
            },
            "type": "contourcarpet"
           }
          ],
          "heatmap": [
           {
            "colorbar": {
             "outlinewidth": 0,
             "ticks": ""
            },
            "colorscale": [
             [
              0,
              "#0d0887"
             ],
             [
              0.1111111111111111,
              "#46039f"
             ],
             [
              0.2222222222222222,
              "#7201a8"
             ],
             [
              0.3333333333333333,
              "#9c179e"
             ],
             [
              0.4444444444444444,
              "#bd3786"
             ],
             [
              0.5555555555555556,
              "#d8576b"
             ],
             [
              0.6666666666666666,
              "#ed7953"
             ],
             [
              0.7777777777777778,
              "#fb9f3a"
             ],
             [
              0.8888888888888888,
              "#fdca26"
             ],
             [
              1,
              "#f0f921"
             ]
            ],
            "type": "heatmap"
           }
          ],
          "heatmapgl": [
           {
            "colorbar": {
             "outlinewidth": 0,
             "ticks": ""
            },
            "colorscale": [
             [
              0,
              "#0d0887"
             ],
             [
              0.1111111111111111,
              "#46039f"
             ],
             [
              0.2222222222222222,
              "#7201a8"
             ],
             [
              0.3333333333333333,
              "#9c179e"
             ],
             [
              0.4444444444444444,
              "#bd3786"
             ],
             [
              0.5555555555555556,
              "#d8576b"
             ],
             [
              0.6666666666666666,
              "#ed7953"
             ],
             [
              0.7777777777777778,
              "#fb9f3a"
             ],
             [
              0.8888888888888888,
              "#fdca26"
             ],
             [
              1,
              "#f0f921"
             ]
            ],
            "type": "heatmapgl"
           }
          ],
          "histogram": [
           {
            "marker": {
             "pattern": {
              "fillmode": "overlay",
              "size": 10,
              "solidity": 0.2
             }
            },
            "type": "histogram"
           }
          ],
          "histogram2d": [
           {
            "colorbar": {
             "outlinewidth": 0,
             "ticks": ""
            },
            "colorscale": [
             [
              0,
              "#0d0887"
             ],
             [
              0.1111111111111111,
              "#46039f"
             ],
             [
              0.2222222222222222,
              "#7201a8"
             ],
             [
              0.3333333333333333,
              "#9c179e"
             ],
             [
              0.4444444444444444,
              "#bd3786"
             ],
             [
              0.5555555555555556,
              "#d8576b"
             ],
             [
              0.6666666666666666,
              "#ed7953"
             ],
             [
              0.7777777777777778,
              "#fb9f3a"
             ],
             [
              0.8888888888888888,
              "#fdca26"
             ],
             [
              1,
              "#f0f921"
             ]
            ],
            "type": "histogram2d"
           }
          ],
          "histogram2dcontour": [
           {
            "colorbar": {
             "outlinewidth": 0,
             "ticks": ""
            },
            "colorscale": [
             [
              0,
              "#0d0887"
             ],
             [
              0.1111111111111111,
              "#46039f"
             ],
             [
              0.2222222222222222,
              "#7201a8"
             ],
             [
              0.3333333333333333,
              "#9c179e"
             ],
             [
              0.4444444444444444,
              "#bd3786"
             ],
             [
              0.5555555555555556,
              "#d8576b"
             ],
             [
              0.6666666666666666,
              "#ed7953"
             ],
             [
              0.7777777777777778,
              "#fb9f3a"
             ],
             [
              0.8888888888888888,
              "#fdca26"
             ],
             [
              1,
              "#f0f921"
             ]
            ],
            "type": "histogram2dcontour"
           }
          ],
          "mesh3d": [
           {
            "colorbar": {
             "outlinewidth": 0,
             "ticks": ""
            },
            "type": "mesh3d"
           }
          ],
          "parcoords": [
           {
            "line": {
             "colorbar": {
              "outlinewidth": 0,
              "ticks": ""
             }
            },
            "type": "parcoords"
           }
          ],
          "pie": [
           {
            "automargin": true,
            "type": "pie"
           }
          ],
          "scatter": [
           {
            "fillpattern": {
             "fillmode": "overlay",
             "size": 10,
             "solidity": 0.2
            },
            "type": "scatter"
           }
          ],
          "scatter3d": [
           {
            "line": {
             "colorbar": {
              "outlinewidth": 0,
              "ticks": ""
             }
            },
            "marker": {
             "colorbar": {
              "outlinewidth": 0,
              "ticks": ""
             }
            },
            "type": "scatter3d"
           }
          ],
          "scattercarpet": [
           {
            "marker": {
             "colorbar": {
              "outlinewidth": 0,
              "ticks": ""
             }
            },
            "type": "scattercarpet"
           }
          ],
          "scattergeo": [
           {
            "marker": {
             "colorbar": {
              "outlinewidth": 0,
              "ticks": ""
             }
            },
            "type": "scattergeo"
           }
          ],
          "scattergl": [
           {
            "marker": {
             "colorbar": {
              "outlinewidth": 0,
              "ticks": ""
             }
            },
            "type": "scattergl"
           }
          ],
          "scattermapbox": [
           {
            "marker": {
             "colorbar": {
              "outlinewidth": 0,
              "ticks": ""
             }
            },
            "type": "scattermapbox"
           }
          ],
          "scatterpolar": [
           {
            "marker": {
             "colorbar": {
              "outlinewidth": 0,
              "ticks": ""
             }
            },
            "type": "scatterpolar"
           }
          ],
          "scatterpolargl": [
           {
            "marker": {
             "colorbar": {
              "outlinewidth": 0,
              "ticks": ""
             }
            },
            "type": "scatterpolargl"
           }
          ],
          "scatterternary": [
           {
            "marker": {
             "colorbar": {
              "outlinewidth": 0,
              "ticks": ""
             }
            },
            "type": "scatterternary"
           }
          ],
          "surface": [
           {
            "colorbar": {
             "outlinewidth": 0,
             "ticks": ""
            },
            "colorscale": [
             [
              0,
              "#0d0887"
             ],
             [
              0.1111111111111111,
              "#46039f"
             ],
             [
              0.2222222222222222,
              "#7201a8"
             ],
             [
              0.3333333333333333,
              "#9c179e"
             ],
             [
              0.4444444444444444,
              "#bd3786"
             ],
             [
              0.5555555555555556,
              "#d8576b"
             ],
             [
              0.6666666666666666,
              "#ed7953"
             ],
             [
              0.7777777777777778,
              "#fb9f3a"
             ],
             [
              0.8888888888888888,
              "#fdca26"
             ],
             [
              1,
              "#f0f921"
             ]
            ],
            "type": "surface"
           }
          ],
          "table": [
           {
            "cells": {
             "fill": {
              "color": "#EBF0F8"
             },
             "line": {
              "color": "white"
             }
            },
            "header": {
             "fill": {
              "color": "#C8D4E3"
             },
             "line": {
              "color": "white"
             }
            },
            "type": "table"
           }
          ]
         },
         "layout": {
          "annotationdefaults": {
           "arrowcolor": "#2a3f5f",
           "arrowhead": 0,
           "arrowwidth": 1
          },
          "autotypenumbers": "strict",
          "coloraxis": {
           "colorbar": {
            "outlinewidth": 0,
            "ticks": ""
           }
          },
          "colorscale": {
           "diverging": [
            [
             0,
             "#8e0152"
            ],
            [
             0.1,
             "#c51b7d"
            ],
            [
             0.2,
             "#de77ae"
            ],
            [
             0.3,
             "#f1b6da"
            ],
            [
             0.4,
             "#fde0ef"
            ],
            [
             0.5,
             "#f7f7f7"
            ],
            [
             0.6,
             "#e6f5d0"
            ],
            [
             0.7,
             "#b8e186"
            ],
            [
             0.8,
             "#7fbc41"
            ],
            [
             0.9,
             "#4d9221"
            ],
            [
             1,
             "#276419"
            ]
           ],
           "sequential": [
            [
             0,
             "#0d0887"
            ],
            [
             0.1111111111111111,
             "#46039f"
            ],
            [
             0.2222222222222222,
             "#7201a8"
            ],
            [
             0.3333333333333333,
             "#9c179e"
            ],
            [
             0.4444444444444444,
             "#bd3786"
            ],
            [
             0.5555555555555556,
             "#d8576b"
            ],
            [
             0.6666666666666666,
             "#ed7953"
            ],
            [
             0.7777777777777778,
             "#fb9f3a"
            ],
            [
             0.8888888888888888,
             "#fdca26"
            ],
            [
             1,
             "#f0f921"
            ]
           ],
           "sequentialminus": [
            [
             0,
             "#0d0887"
            ],
            [
             0.1111111111111111,
             "#46039f"
            ],
            [
             0.2222222222222222,
             "#7201a8"
            ],
            [
             0.3333333333333333,
             "#9c179e"
            ],
            [
             0.4444444444444444,
             "#bd3786"
            ],
            [
             0.5555555555555556,
             "#d8576b"
            ],
            [
             0.6666666666666666,
             "#ed7953"
            ],
            [
             0.7777777777777778,
             "#fb9f3a"
            ],
            [
             0.8888888888888888,
             "#fdca26"
            ],
            [
             1,
             "#f0f921"
            ]
           ]
          },
          "colorway": [
           "#636efa",
           "#EF553B",
           "#00cc96",
           "#ab63fa",
           "#FFA15A",
           "#19d3f3",
           "#FF6692",
           "#B6E880",
           "#FF97FF",
           "#FECB52"
          ],
          "font": {
           "color": "#2a3f5f"
          },
          "geo": {
           "bgcolor": "white",
           "lakecolor": "white",
           "landcolor": "#E5ECF6",
           "showlakes": true,
           "showland": true,
           "subunitcolor": "white"
          },
          "hoverlabel": {
           "align": "left"
          },
          "hovermode": "closest",
          "mapbox": {
           "style": "light"
          },
          "paper_bgcolor": "white",
          "plot_bgcolor": "#E5ECF6",
          "polar": {
           "angularaxis": {
            "gridcolor": "white",
            "linecolor": "white",
            "ticks": ""
           },
           "bgcolor": "#E5ECF6",
           "radialaxis": {
            "gridcolor": "white",
            "linecolor": "white",
            "ticks": ""
           }
          },
          "scene": {
           "xaxis": {
            "backgroundcolor": "#E5ECF6",
            "gridcolor": "white",
            "gridwidth": 2,
            "linecolor": "white",
            "showbackground": true,
            "ticks": "",
            "zerolinecolor": "white"
           },
           "yaxis": {
            "backgroundcolor": "#E5ECF6",
            "gridcolor": "white",
            "gridwidth": 2,
            "linecolor": "white",
            "showbackground": true,
            "ticks": "",
            "zerolinecolor": "white"
           },
           "zaxis": {
            "backgroundcolor": "#E5ECF6",
            "gridcolor": "white",
            "gridwidth": 2,
            "linecolor": "white",
            "showbackground": true,
            "ticks": "",
            "zerolinecolor": "white"
           }
          },
          "shapedefaults": {
           "line": {
            "color": "#2a3f5f"
           }
          },
          "ternary": {
           "aaxis": {
            "gridcolor": "white",
            "linecolor": "white",
            "ticks": ""
           },
           "baxis": {
            "gridcolor": "white",
            "linecolor": "white",
            "ticks": ""
           },
           "bgcolor": "#E5ECF6",
           "caxis": {
            "gridcolor": "white",
            "linecolor": "white",
            "ticks": ""
           }
          },
          "title": {
           "x": 0.05
          },
          "xaxis": {
           "automargin": true,
           "gridcolor": "white",
           "linecolor": "white",
           "ticks": "",
           "title": {
            "standoff": 15
           },
           "zerolinecolor": "white",
           "zerolinewidth": 2
          },
          "yaxis": {
           "automargin": true,
           "gridcolor": "white",
           "linecolor": "white",
           "ticks": "",
           "title": {
            "standoff": 15
           },
           "zerolinecolor": "white",
           "zerolinewidth": 2
          }
         }
        },
        "xaxis": {
         "title": {
          "text": "Sample Number"
         }
        },
        "yaxis": {
         "title": {
          "text": "Calibration"
         }
        }
       }
      },
      "text/html": [
       "<div>                            <div id=\"c600c486-158e-4593-b5d5-0cf5b9112312\" class=\"plotly-graph-div\" style=\"height:525px; width:100%;\"></div>            <script type=\"text/javascript\">                require([\"plotly\"], function(Plotly) {                    window.PLOTLYENV=window.PLOTLYENV || {};                                    if (document.getElementById(\"c600c486-158e-4593-b5d5-0cf5b9112312\")) {                    Plotly.newPlot(                        \"c600c486-158e-4593-b5d5-0cf5b9112312\",                        [{\"mode\":\"lines\",\"x\":[0,1,2,3,4,5,6,7,8,9,10,11,12,13,14,15,16,17,18,19,20,21,22,23,24,25,26,27,28,29,30,31,32,33,34,35,36,37,38,39,40,41,42,43,44,45,46,47,48,49,50,51,52,53,54,55,56,57,58,59,60,61,62,63,64,65,66,67,68,69,70,71,72,73,74,75,76,77,78,79,80,81,82,83,84,85,86,87,88,89,90,91,92,93,94,95,96,97,98,99],\"y\":[1.0,1.0,1.0,1.0,1.0,1.0,1.0,1.0,1.0,1.0,1.0,1.0,1.0,1.0,1.0,1.0,1.0,1.0,1.0,1.0,1.0,1.0,1.0,1.0,1.0,1.0,1.0,1.0,1.0,1.0,1.0,1.0,1.0,1.0,1.0,1.0,1.0,1.0,1.0,1.0,1.0,1.0,1.0,1.0,1.0,1.0,1.0,1.0,1.0,1.0,1.0,1.0,1.0,1.0,1.0,1.0,1.0,1.0,1.0,1.0,1.0,1.0,1.0,1.0,1.0,1.0,1.0,1.0,1.0,1.0,1.0,1.0,1.0,1.0,1.0,1.0,1.0,1.0,1.0,1.0,1.0,1.0,1.0,1.0,1.0,1.0,1.0,1.0,1.0,1.0,1.0,1.0,1.0,1.0,1.0,1.0,1.0,1.0,1.0,1.0],\"type\":\"scatter\"}],                        {\"template\":{\"data\":{\"histogram2dcontour\":[{\"type\":\"histogram2dcontour\",\"colorbar\":{\"outlinewidth\":0,\"ticks\":\"\"},\"colorscale\":[[0.0,\"#0d0887\"],[0.1111111111111111,\"#46039f\"],[0.2222222222222222,\"#7201a8\"],[0.3333333333333333,\"#9c179e\"],[0.4444444444444444,\"#bd3786\"],[0.5555555555555556,\"#d8576b\"],[0.6666666666666666,\"#ed7953\"],[0.7777777777777778,\"#fb9f3a\"],[0.8888888888888888,\"#fdca26\"],[1.0,\"#f0f921\"]]}],\"choropleth\":[{\"type\":\"choropleth\",\"colorbar\":{\"outlinewidth\":0,\"ticks\":\"\"}}],\"histogram2d\":[{\"type\":\"histogram2d\",\"colorbar\":{\"outlinewidth\":0,\"ticks\":\"\"},\"colorscale\":[[0.0,\"#0d0887\"],[0.1111111111111111,\"#46039f\"],[0.2222222222222222,\"#7201a8\"],[0.3333333333333333,\"#9c179e\"],[0.4444444444444444,\"#bd3786\"],[0.5555555555555556,\"#d8576b\"],[0.6666666666666666,\"#ed7953\"],[0.7777777777777778,\"#fb9f3a\"],[0.8888888888888888,\"#fdca26\"],[1.0,\"#f0f921\"]]}],\"heatmap\":[{\"type\":\"heatmap\",\"colorbar\":{\"outlinewidth\":0,\"ticks\":\"\"},\"colorscale\":[[0.0,\"#0d0887\"],[0.1111111111111111,\"#46039f\"],[0.2222222222222222,\"#7201a8\"],[0.3333333333333333,\"#9c179e\"],[0.4444444444444444,\"#bd3786\"],[0.5555555555555556,\"#d8576b\"],[0.6666666666666666,\"#ed7953\"],[0.7777777777777778,\"#fb9f3a\"],[0.8888888888888888,\"#fdca26\"],[1.0,\"#f0f921\"]]}],\"heatmapgl\":[{\"type\":\"heatmapgl\",\"colorbar\":{\"outlinewidth\":0,\"ticks\":\"\"},\"colorscale\":[[0.0,\"#0d0887\"],[0.1111111111111111,\"#46039f\"],[0.2222222222222222,\"#7201a8\"],[0.3333333333333333,\"#9c179e\"],[0.4444444444444444,\"#bd3786\"],[0.5555555555555556,\"#d8576b\"],[0.6666666666666666,\"#ed7953\"],[0.7777777777777778,\"#fb9f3a\"],[0.8888888888888888,\"#fdca26\"],[1.0,\"#f0f921\"]]}],\"contourcarpet\":[{\"type\":\"contourcarpet\",\"colorbar\":{\"outlinewidth\":0,\"ticks\":\"\"}}],\"contour\":[{\"type\":\"contour\",\"colorbar\":{\"outlinewidth\":0,\"ticks\":\"\"},\"colorscale\":[[0.0,\"#0d0887\"],[0.1111111111111111,\"#46039f\"],[0.2222222222222222,\"#7201a8\"],[0.3333333333333333,\"#9c179e\"],[0.4444444444444444,\"#bd3786\"],[0.5555555555555556,\"#d8576b\"],[0.6666666666666666,\"#ed7953\"],[0.7777777777777778,\"#fb9f3a\"],[0.8888888888888888,\"#fdca26\"],[1.0,\"#f0f921\"]]}],\"surface\":[{\"type\":\"surface\",\"colorbar\":{\"outlinewidth\":0,\"ticks\":\"\"},\"colorscale\":[[0.0,\"#0d0887\"],[0.1111111111111111,\"#46039f\"],[0.2222222222222222,\"#7201a8\"],[0.3333333333333333,\"#9c179e\"],[0.4444444444444444,\"#bd3786\"],[0.5555555555555556,\"#d8576b\"],[0.6666666666666666,\"#ed7953\"],[0.7777777777777778,\"#fb9f3a\"],[0.8888888888888888,\"#fdca26\"],[1.0,\"#f0f921\"]]}],\"mesh3d\":[{\"type\":\"mesh3d\",\"colorbar\":{\"outlinewidth\":0,\"ticks\":\"\"}}],\"scatter\":[{\"fillpattern\":{\"fillmode\":\"overlay\",\"size\":10,\"solidity\":0.2},\"type\":\"scatter\"}],\"parcoords\":[{\"type\":\"parcoords\",\"line\":{\"colorbar\":{\"outlinewidth\":0,\"ticks\":\"\"}}}],\"scatterpolargl\":[{\"type\":\"scatterpolargl\",\"marker\":{\"colorbar\":{\"outlinewidth\":0,\"ticks\":\"\"}}}],\"bar\":[{\"error_x\":{\"color\":\"#2a3f5f\"},\"error_y\":{\"color\":\"#2a3f5f\"},\"marker\":{\"line\":{\"color\":\"#E5ECF6\",\"width\":0.5},\"pattern\":{\"fillmode\":\"overlay\",\"size\":10,\"solidity\":0.2}},\"type\":\"bar\"}],\"scattergeo\":[{\"type\":\"scattergeo\",\"marker\":{\"colorbar\":{\"outlinewidth\":0,\"ticks\":\"\"}}}],\"scatterpolar\":[{\"type\":\"scatterpolar\",\"marker\":{\"colorbar\":{\"outlinewidth\":0,\"ticks\":\"\"}}}],\"histogram\":[{\"marker\":{\"pattern\":{\"fillmode\":\"overlay\",\"size\":10,\"solidity\":0.2}},\"type\":\"histogram\"}],\"scattergl\":[{\"type\":\"scattergl\",\"marker\":{\"colorbar\":{\"outlinewidth\":0,\"ticks\":\"\"}}}],\"scatter3d\":[{\"type\":\"scatter3d\",\"line\":{\"colorbar\":{\"outlinewidth\":0,\"ticks\":\"\"}},\"marker\":{\"colorbar\":{\"outlinewidth\":0,\"ticks\":\"\"}}}],\"scattermapbox\":[{\"type\":\"scattermapbox\",\"marker\":{\"colorbar\":{\"outlinewidth\":0,\"ticks\":\"\"}}}],\"scatterternary\":[{\"type\":\"scatterternary\",\"marker\":{\"colorbar\":{\"outlinewidth\":0,\"ticks\":\"\"}}}],\"scattercarpet\":[{\"type\":\"scattercarpet\",\"marker\":{\"colorbar\":{\"outlinewidth\":0,\"ticks\":\"\"}}}],\"carpet\":[{\"aaxis\":{\"endlinecolor\":\"#2a3f5f\",\"gridcolor\":\"white\",\"linecolor\":\"white\",\"minorgridcolor\":\"white\",\"startlinecolor\":\"#2a3f5f\"},\"baxis\":{\"endlinecolor\":\"#2a3f5f\",\"gridcolor\":\"white\",\"linecolor\":\"white\",\"minorgridcolor\":\"white\",\"startlinecolor\":\"#2a3f5f\"},\"type\":\"carpet\"}],\"table\":[{\"cells\":{\"fill\":{\"color\":\"#EBF0F8\"},\"line\":{\"color\":\"white\"}},\"header\":{\"fill\":{\"color\":\"#C8D4E3\"},\"line\":{\"color\":\"white\"}},\"type\":\"table\"}],\"barpolar\":[{\"marker\":{\"line\":{\"color\":\"#E5ECF6\",\"width\":0.5},\"pattern\":{\"fillmode\":\"overlay\",\"size\":10,\"solidity\":0.2}},\"type\":\"barpolar\"}],\"pie\":[{\"automargin\":true,\"type\":\"pie\"}]},\"layout\":{\"autotypenumbers\":\"strict\",\"colorway\":[\"#636efa\",\"#EF553B\",\"#00cc96\",\"#ab63fa\",\"#FFA15A\",\"#19d3f3\",\"#FF6692\",\"#B6E880\",\"#FF97FF\",\"#FECB52\"],\"font\":{\"color\":\"#2a3f5f\"},\"hovermode\":\"closest\",\"hoverlabel\":{\"align\":\"left\"},\"paper_bgcolor\":\"white\",\"plot_bgcolor\":\"#E5ECF6\",\"polar\":{\"bgcolor\":\"#E5ECF6\",\"angularaxis\":{\"gridcolor\":\"white\",\"linecolor\":\"white\",\"ticks\":\"\"},\"radialaxis\":{\"gridcolor\":\"white\",\"linecolor\":\"white\",\"ticks\":\"\"}},\"ternary\":{\"bgcolor\":\"#E5ECF6\",\"aaxis\":{\"gridcolor\":\"white\",\"linecolor\":\"white\",\"ticks\":\"\"},\"baxis\":{\"gridcolor\":\"white\",\"linecolor\":\"white\",\"ticks\":\"\"},\"caxis\":{\"gridcolor\":\"white\",\"linecolor\":\"white\",\"ticks\":\"\"}},\"coloraxis\":{\"colorbar\":{\"outlinewidth\":0,\"ticks\":\"\"}},\"colorscale\":{\"sequential\":[[0.0,\"#0d0887\"],[0.1111111111111111,\"#46039f\"],[0.2222222222222222,\"#7201a8\"],[0.3333333333333333,\"#9c179e\"],[0.4444444444444444,\"#bd3786\"],[0.5555555555555556,\"#d8576b\"],[0.6666666666666666,\"#ed7953\"],[0.7777777777777778,\"#fb9f3a\"],[0.8888888888888888,\"#fdca26\"],[1.0,\"#f0f921\"]],\"sequentialminus\":[[0.0,\"#0d0887\"],[0.1111111111111111,\"#46039f\"],[0.2222222222222222,\"#7201a8\"],[0.3333333333333333,\"#9c179e\"],[0.4444444444444444,\"#bd3786\"],[0.5555555555555556,\"#d8576b\"],[0.6666666666666666,\"#ed7953\"],[0.7777777777777778,\"#fb9f3a\"],[0.8888888888888888,\"#fdca26\"],[1.0,\"#f0f921\"]],\"diverging\":[[0,\"#8e0152\"],[0.1,\"#c51b7d\"],[0.2,\"#de77ae\"],[0.3,\"#f1b6da\"],[0.4,\"#fde0ef\"],[0.5,\"#f7f7f7\"],[0.6,\"#e6f5d0\"],[0.7,\"#b8e186\"],[0.8,\"#7fbc41\"],[0.9,\"#4d9221\"],[1,\"#276419\"]]},\"xaxis\":{\"gridcolor\":\"white\",\"linecolor\":\"white\",\"ticks\":\"\",\"title\":{\"standoff\":15},\"zerolinecolor\":\"white\",\"automargin\":true,\"zerolinewidth\":2},\"yaxis\":{\"gridcolor\":\"white\",\"linecolor\":\"white\",\"ticks\":\"\",\"title\":{\"standoff\":15},\"zerolinecolor\":\"white\",\"automargin\":true,\"zerolinewidth\":2},\"scene\":{\"xaxis\":{\"backgroundcolor\":\"#E5ECF6\",\"gridcolor\":\"white\",\"linecolor\":\"white\",\"showbackground\":true,\"ticks\":\"\",\"zerolinecolor\":\"white\",\"gridwidth\":2},\"yaxis\":{\"backgroundcolor\":\"#E5ECF6\",\"gridcolor\":\"white\",\"linecolor\":\"white\",\"showbackground\":true,\"ticks\":\"\",\"zerolinecolor\":\"white\",\"gridwidth\":2},\"zaxis\":{\"backgroundcolor\":\"#E5ECF6\",\"gridcolor\":\"white\",\"linecolor\":\"white\",\"showbackground\":true,\"ticks\":\"\",\"zerolinecolor\":\"white\",\"gridwidth\":2}},\"shapedefaults\":{\"line\":{\"color\":\"#2a3f5f\"}},\"annotationdefaults\":{\"arrowcolor\":\"#2a3f5f\",\"arrowhead\":0,\"arrowwidth\":1},\"geo\":{\"bgcolor\":\"white\",\"landcolor\":\"#E5ECF6\",\"subunitcolor\":\"white\",\"showland\":true,\"showlakes\":true,\"lakecolor\":\"white\"},\"title\":{\"x\":0.05},\"mapbox\":{\"style\":\"light\"}}},\"yaxis\":{\"title\":{\"text\":\"Calibration\"}},\"xaxis\":{\"title\":{\"text\":\"Sample Number\"}}},                        {\"responsive\": true}                    ).then(function(){\n",
       "                            \n",
       "var gd = document.getElementById('c600c486-158e-4593-b5d5-0cf5b9112312');\n",
       "var x = new MutationObserver(function (mutations, observer) {{\n",
       "        var display = window.getComputedStyle(gd).display;\n",
       "        if (!display || display === 'none') {{\n",
       "            console.log([gd, 'removed!']);\n",
       "            Plotly.purge(gd);\n",
       "            observer.disconnect();\n",
       "        }}\n",
       "}});\n",
       "\n",
       "// Listen for the removal of the full notebook cells\n",
       "var notebookContainer = gd.closest('#notebook-container');\n",
       "if (notebookContainer) {{\n",
       "    x.observe(notebookContainer, {childList: true});\n",
       "}}\n",
       "\n",
       "// Listen for the clearing of the current output cell\n",
       "var outputEl = gd.closest('.output');\n",
       "if (outputEl) {{\n",
       "    x.observe(outputEl, {childList: true});\n",
       "}}\n",
       "\n",
       "                        })                };                });            </script>        </div>"
      ]
     },
     "metadata": {},
     "output_type": "display_data"
    }
   ],
   "source": [
    "fig = go.Figure()\n",
    "fig.add_trace(go.Scatter(x=results_df.index, y=results_df['cal_score'], mode='lines'))\n",
    "fig.update_layout(yaxis=dict(title=\"Calibration\"),\n",
    "                  xaxis=dict(title='Sample Number')\n",
    "                 )\n",
    "fig.show()"
   ]
  },
  {
   "cell_type": "code",
   "execution_count": 21,
   "id": "8cb24395-0ba6-45f2-8a80-ba0cb7a97c43",
   "metadata": {},
   "outputs": [
    {
     "data": {
      "text/html": [
       "<div>\n",
       "<style scoped>\n",
       "    .dataframe tbody tr th:only-of-type {\n",
       "        vertical-align: middle;\n",
       "    }\n",
       "\n",
       "    .dataframe tbody tr th {\n",
       "        vertical-align: top;\n",
       "    }\n",
       "\n",
       "    .dataframe thead th {\n",
       "        text-align: right;\n",
       "    }\n",
       "</style>\n",
       "<table border=\"1\" class=\"dataframe\">\n",
       "  <thead>\n",
       "    <tr style=\"text-align: right;\">\n",
       "      <th></th>\n",
       "      <th>sample_num</th>\n",
       "      <th>f_out</th>\n",
       "      <th>RandomSeed</th>\n",
       "      <th>63082002_4_sigma_1.96</th>\n",
       "      <th>63082002_4_sigma_1</th>\n",
       "      <th>63082002_4_BDAE</th>\n",
       "      <th>63082002_4_BDSE</th>\n",
       "      <th>63082002_5_sigma_1.96</th>\n",
       "      <th>63082002_5_sigma_1</th>\n",
       "      <th>63082002_5_BDAE</th>\n",
       "      <th>...</th>\n",
       "      <th>63082003_WB_sigma_1.96_score</th>\n",
       "      <th>63082003_EB_sigma_1_score</th>\n",
       "      <th>63082003_EB_sigma_1.96_score</th>\n",
       "      <th>63082004_WB_sigma_1_score</th>\n",
       "      <th>63082004_WB_sigma_1.96_score</th>\n",
       "      <th>63082004_EB_sigma_1_score</th>\n",
       "      <th>63082004_EB_sigma_1.96_score</th>\n",
       "      <th>cal_score</th>\n",
       "      <th>Fuel_L</th>\n",
       "      <th>cal_score_2</th>\n",
       "    </tr>\n",
       "  </thead>\n",
       "  <tbody>\n",
       "    <tr>\n",
       "      <th>22</th>\n",
       "      <td>22</td>\n",
       "      <td>10180.030886</td>\n",
       "      <td>223.000000</td>\n",
       "      <td>1.0</td>\n",
       "      <td>1.0</td>\n",
       "      <td>True</td>\n",
       "      <td>True</td>\n",
       "      <td>1.000000</td>\n",
       "      <td>0.882353</td>\n",
       "      <td>True</td>\n",
       "      <td>...</td>\n",
       "      <td>1.0</td>\n",
       "      <td>1.0</td>\n",
       "      <td>1.0</td>\n",
       "      <td>1.0</td>\n",
       "      <td>1.0</td>\n",
       "      <td>1.0</td>\n",
       "      <td>1.0</td>\n",
       "      <td>1.0</td>\n",
       "      <td>316.122476</td>\n",
       "      <td>20.529412</td>\n",
       "    </tr>\n",
       "    <tr>\n",
       "      <th>86</th>\n",
       "      <td>86</td>\n",
       "      <td>10222.175223</td>\n",
       "      <td>868.818182</td>\n",
       "      <td>1.0</td>\n",
       "      <td>1.0</td>\n",
       "      <td>True</td>\n",
       "      <td>True</td>\n",
       "      <td>1.000000</td>\n",
       "      <td>0.941176</td>\n",
       "      <td>True</td>\n",
       "      <td>...</td>\n",
       "      <td>1.0</td>\n",
       "      <td>1.0</td>\n",
       "      <td>1.0</td>\n",
       "      <td>1.0</td>\n",
       "      <td>1.0</td>\n",
       "      <td>1.0</td>\n",
       "      <td>1.0</td>\n",
       "      <td>1.0</td>\n",
       "      <td>317.431192</td>\n",
       "      <td>20.529412</td>\n",
       "    </tr>\n",
       "    <tr>\n",
       "      <th>59</th>\n",
       "      <td>59</td>\n",
       "      <td>10207.594408</td>\n",
       "      <td>596.363636</td>\n",
       "      <td>1.0</td>\n",
       "      <td>1.0</td>\n",
       "      <td>True</td>\n",
       "      <td>True</td>\n",
       "      <td>1.000000</td>\n",
       "      <td>0.823529</td>\n",
       "      <td>True</td>\n",
       "      <td>...</td>\n",
       "      <td>1.0</td>\n",
       "      <td>1.0</td>\n",
       "      <td>1.0</td>\n",
       "      <td>1.0</td>\n",
       "      <td>1.0</td>\n",
       "      <td>1.0</td>\n",
       "      <td>1.0</td>\n",
       "      <td>1.0</td>\n",
       "      <td>316.978411</td>\n",
       "      <td>20.529412</td>\n",
       "    </tr>\n",
       "    <tr>\n",
       "      <th>94</th>\n",
       "      <td>94</td>\n",
       "      <td>10201.826777</td>\n",
       "      <td>949.545455</td>\n",
       "      <td>1.0</td>\n",
       "      <td>1.0</td>\n",
       "      <td>True</td>\n",
       "      <td>True</td>\n",
       "      <td>1.000000</td>\n",
       "      <td>0.823529</td>\n",
       "      <td>True</td>\n",
       "      <td>...</td>\n",
       "      <td>1.0</td>\n",
       "      <td>1.0</td>\n",
       "      <td>1.0</td>\n",
       "      <td>1.0</td>\n",
       "      <td>1.0</td>\n",
       "      <td>1.0</td>\n",
       "      <td>1.0</td>\n",
       "      <td>1.0</td>\n",
       "      <td>316.799308</td>\n",
       "      <td>20.529412</td>\n",
       "    </tr>\n",
       "    <tr>\n",
       "      <th>50</th>\n",
       "      <td>50</td>\n",
       "      <td>10236.579239</td>\n",
       "      <td>505.545455</td>\n",
       "      <td>1.0</td>\n",
       "      <td>1.0</td>\n",
       "      <td>True</td>\n",
       "      <td>True</td>\n",
       "      <td>0.941176</td>\n",
       "      <td>0.823529</td>\n",
       "      <td>True</td>\n",
       "      <td>...</td>\n",
       "      <td>1.0</td>\n",
       "      <td>1.0</td>\n",
       "      <td>1.0</td>\n",
       "      <td>1.0</td>\n",
       "      <td>1.0</td>\n",
       "      <td>1.0</td>\n",
       "      <td>1.0</td>\n",
       "      <td>1.0</td>\n",
       "      <td>317.878483</td>\n",
       "      <td>20.529412</td>\n",
       "    </tr>\n",
       "  </tbody>\n",
       "</table>\n",
       "<p>5 rows × 339 columns</p>\n",
       "</div>"
      ],
      "text/plain": [
       "    sample_num         f_out  RandomSeed  63082002_4_sigma_1.96  \\\n",
       "22          22  10180.030886  223.000000                    1.0   \n",
       "86          86  10222.175223  868.818182                    1.0   \n",
       "59          59  10207.594408  596.363636                    1.0   \n",
       "94          94  10201.826777  949.545455                    1.0   \n",
       "50          50  10236.579239  505.545455                    1.0   \n",
       "\n",
       "    63082002_4_sigma_1  63082002_4_BDAE  63082002_4_BDSE  \\\n",
       "22                 1.0             True             True   \n",
       "86                 1.0             True             True   \n",
       "59                 1.0             True             True   \n",
       "94                 1.0             True             True   \n",
       "50                 1.0             True             True   \n",
       "\n",
       "    63082002_5_sigma_1.96  63082002_5_sigma_1  63082002_5_BDAE  ...  \\\n",
       "22               1.000000            0.882353             True  ...   \n",
       "86               1.000000            0.941176             True  ...   \n",
       "59               1.000000            0.823529             True  ...   \n",
       "94               1.000000            0.823529             True  ...   \n",
       "50               0.941176            0.823529             True  ...   \n",
       "\n",
       "    63082003_WB_sigma_1.96_score  63082003_EB_sigma_1_score  \\\n",
       "22                           1.0                        1.0   \n",
       "86                           1.0                        1.0   \n",
       "59                           1.0                        1.0   \n",
       "94                           1.0                        1.0   \n",
       "50                           1.0                        1.0   \n",
       "\n",
       "    63082003_EB_sigma_1.96_score  63082004_WB_sigma_1_score  \\\n",
       "22                           1.0                        1.0   \n",
       "86                           1.0                        1.0   \n",
       "59                           1.0                        1.0   \n",
       "94                           1.0                        1.0   \n",
       "50                           1.0                        1.0   \n",
       "\n",
       "    63082004_WB_sigma_1.96_score  63082004_EB_sigma_1_score  \\\n",
       "22                           1.0                        1.0   \n",
       "86                           1.0                        1.0   \n",
       "59                           1.0                        1.0   \n",
       "94                           1.0                        1.0   \n",
       "50                           1.0                        1.0   \n",
       "\n",
       "    63082004_EB_sigma_1.96_score  cal_score      Fuel_L  cal_score_2  \n",
       "22                           1.0        1.0  316.122476    20.529412  \n",
       "86                           1.0        1.0  317.431192    20.529412  \n",
       "59                           1.0        1.0  316.978411    20.529412  \n",
       "94                           1.0        1.0  316.799308    20.529412  \n",
       "50                           1.0        1.0  317.878483    20.529412  \n",
       "\n",
       "[5 rows x 339 columns]"
      ]
     },
     "execution_count": 21,
     "metadata": {},
     "output_type": "execute_result"
    }
   ],
   "source": [
    "results_df.sort_values('cal_score_2',).head()"
   ]
  },
  {
   "cell_type": "markdown",
   "id": "d0b5abeb-c990-4352-8c8a-7bb4c486dca9",
   "metadata": {},
   "source": [
    "## Display the top Fuel Consumers"
   ]
  },
  {
   "cell_type": "code",
   "execution_count": 13,
   "id": "ce0c2de3",
   "metadata": {},
   "outputs": [],
   "source": [
    "import itertools\n",
    "\n",
    "MAINLINE_PHASES = [\"1\", \"2\", \"5\", \"6\"]\n",
    "SIDE_PHASES = [\"3\", \"4\", \"7\", \"8\"]\n",
    "\n",
    "TL = [\"63082002\", \"63082003\", \"63082004\"]\n",
    "\n",
    "MAINLINE_SUMBOIS = [\n",
    "    f\"{tl}_{p}_meanTimeLoss\"\n",
    "    for tl, p in itertools.product(TL, MAINLINE_PHASES)\n",
    "    if tl != \"63082002\" and p not in [\"1\", \"3\", \"7\", \"8\"]\n",
    "]\n",
    "SIDESTREET_SUMBOIS = [\n",
    "    f\"{tl}_{p}_meanTimeLoss\"\n",
    "    for tl, p in itertools.product(TL, SIDE_PHASES)\n",
    "    if tl != \"63082002\" and p not in [\"1\", \"3\", \"7\", \"8\"]\n",
    "]\n"
   ]
  },
  {
   "cell_type": "code",
   "execution_count": 14,
   "id": "30e6f412",
   "metadata": {},
   "outputs": [],
   "source": [
    "results_df[\"mainline_timeloss\"] = results_df[MAINLINE_SUMBOIS].sum(axis=1)\n",
    "results_df[\"sidestreet_timeloss\"] = results_df[SIDESTREET_SUMBOIS].sum(axis=1)\n",
    "results_df[\"timeloss_ratio\"] = results_df[\"sidestreet_timeloss\"] / (\n",
    "    results_df[\"mainline_timeloss\"] + results_df[\"sidestreet_timeloss\"]\n",
    ")\n"
   ]
  },
  {
   "cell_type": "code",
   "execution_count": 15,
   "id": "6189ee83",
   "metadata": {},
   "outputs": [],
   "source": [
    "res = {}\n",
    "for val in [\"Fuel_L\", \"all_delay_average\", \"all_travel_time_average\", \"timeloss_ratio\"]:\n",
    "    res[val] = {\n",
    "        'q5': results_df[val].quantile(0.05),\n",
    "        'q95': results_df[val].quantile(0.95)\n",
    "    }"
   ]
  },
  {
   "cell_type": "code",
   "execution_count": 17,
   "id": "e26f9fe7",
   "metadata": {},
   "outputs": [
    {
     "data": {
      "text/plain": [
       "{'Fuel_L': {'q5': 313.18594496708704, 'q95': 320.3336839263023},\n",
       " 'all_delay_average': {'q5': 39.18076873553245, 'q95': 44.528955706015665},\n",
       " 'all_travel_time_average': {'q5': 91.32667384941915,\n",
       "  'q95': 96.68207290611696},\n",
       " 'timeloss_ratio': {'q5': 0.4073369243279511, 'q95': 0.5075664787085372}}"
      ]
     },
     "execution_count": 17,
     "metadata": {},
     "output_type": "execute_result"
    }
   ],
   "source": [
    "res"
   ]
  },
  {
   "cell_type": "markdown",
   "id": "391ed358",
   "metadata": {},
   "source": [
    "## Plotting with Plotly"
   ]
  },
  {
   "cell_type": "code",
   "execution_count": 22,
   "id": "7819fac9",
   "metadata": {},
   "outputs": [
    {
     "data": {
      "application/vnd.plotly.v1+json": {
       "config": {
        "plotlyServerURL": "https://plot.ly"
       },
       "data": [
        {
         "mode": "markers",
         "type": "scatter",
         "x": [
          1,
          11.090909090909092,
          21.181818181818183,
          31.272727272727277,
          41.36363636363637,
          51.45454545454546,
          61.54545454545455,
          71.63636363636364,
          81.72727272727273,
          91.81818181818184,
          101.90909090909092,
          112,
          122.0909090909091,
          132.1818181818182,
          142.27272727272728,
          152.36363636363637,
          162.45454545454547,
          172.54545454545456,
          182.63636363636363,
          192.72727272727275,
          202.81818181818184,
          212.9090909090909,
          223.00000000000003,
          233.09090909090912,
          243.1818181818182,
          253.27272727272728,
          263.3636363636364,
          273.4545454545455,
          283.54545454545456,
          293.6363636363637,
          303.72727272727275,
          313.81818181818187,
          323.90909090909093,
          334,
          344.0909090909091,
          354.1818181818182,
          364.2727272727273,
          374.3636363636364,
          384.4545454545455,
          394.54545454545456,
          404.6363636363637,
          414.7272727272728,
          424.8181818181818,
          434.9090909090909,
          445.00000000000006,
          455.0909090909091,
          465.18181818181824,
          475.2727272727273,
          485.3636363636364,
          495.4545454545455,
          505.54545454545456,
          515.6363636363636,
          525.7272727272727,
          535.8181818181819,
          545.909090909091,
          556,
          566.0909090909091,
          576.1818181818182,
          586.2727272727274,
          596.3636363636364,
          606.4545454545455,
          616.5454545454546,
          626.6363636363637,
          636.7272727272727,
          646.8181818181819,
          656.909090909091,
          667,
          677.0909090909091,
          687.1818181818182,
          697.2727272727274,
          707.3636363636364,
          717.4545454545455,
          727.5454545454546,
          737.6363636363637,
          747.7272727272727,
          757.8181818181819,
          767.909090909091,
          778.0000000000001,
          788.0909090909091,
          798.1818181818182,
          808.2727272727274,
          818.3636363636364,
          828.4545454545455,
          838.5454545454546,
          848.6363636363637,
          858.7272727272727,
          868.8181818181819,
          878.909090909091,
          889.0000000000001,
          899.0909090909091,
          909.1818181818182,
          919.2727272727274,
          929.3636363636364,
          939.4545454545456,
          949.5454545454546,
          959.6363636363636,
          969.7272727272727,
          979.818181818182,
          989.909090909091,
          1000
         ],
         "y": [
          42.448647942521234,
          43.29581537121707,
          42.22580975185024,
          41.87346187363835,
          42.04062404538512,
          39.72996732026144,
          44.03756744995648,
          43.06993691537959,
          41.490921367893705,
          41.50856739130435,
          39.239714845450585,
          42.14005441880714,
          43.98246446534004,
          40.7087815491732,
          39.18090810104529,
          41.1132405998696,
          40.75031297544012,
          41.5851143541712,
          39.19851318944845,
          40.52444977119198,
          40.23073816760747,
          39.92838568935428,
          41.39189884456072,
          40.32413515862668,
          42.60642189876168,
          45.29350533420423,
          41.82172286273657,
          44.5111038536904,
          44.8681409001957,
          39.75481925087108,
          43.38210663764962,
          41.550405052264814,
          42.44808168585705,
          40.82274569623012,
          43.78470139494333,
          42.283617206169886,
          40.198052597261466,
          42.65272529386156,
          41.09406086956522,
          41.23673681926665,
          45.45946086956521,
          44.91187432050446,
          40.629497389033936,
          41.2607128885025,
          41.67868323523,
          42.309960835509145,
          40.812372955288986,
          40.35533623503809,
          41.9179003481288,
          42.37037633239069,
          42.00134653034588,
          43.11104334567632,
          41.51085050987199,
          42.293532738742655,
          38.454939050936,
          43.48354039965248,
          42.679089921807126,
          42.85714068275712,
          39.76314794699109,
          40.25630557977332,
          40.62129081410535,
          42.39782476024411,
          41.62062010443864,
          40.41705625817706,
          41.0809767239504,
          40.47790960451977,
          39.41893408744833,
          40.3511860718172,
          41.49277995642702,
          41.72239721557537,
          39.412848761408085,
          39.14704703832752,
          40.7534081010453,
          42.215966020474845,
          41.14527541911605,
          43.333012625163256,
          39.17812079078862,
          38.25282793125952,
          44.01477758395116,
          40.08620156726165,
          42.52290568503594,
          39.770850599781895,
          41.33863913043478,
          41.920233064691786,
          42.84595082680592,
          41.80470241988228,
          42.591624918318445,
          42.0944232022594,
          42.00522989758117,
          38.660443671161374,
          40.823998692525606,
          39.40729134887775,
          39.86367204535543,
          41.37400261039809,
          41.64471406827571,
          41.88198039215686,
          46.19967320261438,
          42.843168338421286,
          42.833776665215495,
          41.77472034820457
         ]
        }
       ],
       "layout": {
        "template": {
         "data": {
          "bar": [
           {
            "error_x": {
             "color": "#2a3f5f"
            },
            "error_y": {
             "color": "#2a3f5f"
            },
            "marker": {
             "line": {
              "color": "#E5ECF6",
              "width": 0.5
             },
             "pattern": {
              "fillmode": "overlay",
              "size": 10,
              "solidity": 0.2
             }
            },
            "type": "bar"
           }
          ],
          "barpolar": [
           {
            "marker": {
             "line": {
              "color": "#E5ECF6",
              "width": 0.5
             },
             "pattern": {
              "fillmode": "overlay",
              "size": 10,
              "solidity": 0.2
             }
            },
            "type": "barpolar"
           }
          ],
          "carpet": [
           {
            "aaxis": {
             "endlinecolor": "#2a3f5f",
             "gridcolor": "white",
             "linecolor": "white",
             "minorgridcolor": "white",
             "startlinecolor": "#2a3f5f"
            },
            "baxis": {
             "endlinecolor": "#2a3f5f",
             "gridcolor": "white",
             "linecolor": "white",
             "minorgridcolor": "white",
             "startlinecolor": "#2a3f5f"
            },
            "type": "carpet"
           }
          ],
          "choropleth": [
           {
            "colorbar": {
             "outlinewidth": 0,
             "ticks": ""
            },
            "type": "choropleth"
           }
          ],
          "contour": [
           {
            "colorbar": {
             "outlinewidth": 0,
             "ticks": ""
            },
            "colorscale": [
             [
              0,
              "#0d0887"
             ],
             [
              0.1111111111111111,
              "#46039f"
             ],
             [
              0.2222222222222222,
              "#7201a8"
             ],
             [
              0.3333333333333333,
              "#9c179e"
             ],
             [
              0.4444444444444444,
              "#bd3786"
             ],
             [
              0.5555555555555556,
              "#d8576b"
             ],
             [
              0.6666666666666666,
              "#ed7953"
             ],
             [
              0.7777777777777778,
              "#fb9f3a"
             ],
             [
              0.8888888888888888,
              "#fdca26"
             ],
             [
              1,
              "#f0f921"
             ]
            ],
            "type": "contour"
           }
          ],
          "contourcarpet": [
           {
            "colorbar": {
             "outlinewidth": 0,
             "ticks": ""
            },
            "type": "contourcarpet"
           }
          ],
          "heatmap": [
           {
            "colorbar": {
             "outlinewidth": 0,
             "ticks": ""
            },
            "colorscale": [
             [
              0,
              "#0d0887"
             ],
             [
              0.1111111111111111,
              "#46039f"
             ],
             [
              0.2222222222222222,
              "#7201a8"
             ],
             [
              0.3333333333333333,
              "#9c179e"
             ],
             [
              0.4444444444444444,
              "#bd3786"
             ],
             [
              0.5555555555555556,
              "#d8576b"
             ],
             [
              0.6666666666666666,
              "#ed7953"
             ],
             [
              0.7777777777777778,
              "#fb9f3a"
             ],
             [
              0.8888888888888888,
              "#fdca26"
             ],
             [
              1,
              "#f0f921"
             ]
            ],
            "type": "heatmap"
           }
          ],
          "heatmapgl": [
           {
            "colorbar": {
             "outlinewidth": 0,
             "ticks": ""
            },
            "colorscale": [
             [
              0,
              "#0d0887"
             ],
             [
              0.1111111111111111,
              "#46039f"
             ],
             [
              0.2222222222222222,
              "#7201a8"
             ],
             [
              0.3333333333333333,
              "#9c179e"
             ],
             [
              0.4444444444444444,
              "#bd3786"
             ],
             [
              0.5555555555555556,
              "#d8576b"
             ],
             [
              0.6666666666666666,
              "#ed7953"
             ],
             [
              0.7777777777777778,
              "#fb9f3a"
             ],
             [
              0.8888888888888888,
              "#fdca26"
             ],
             [
              1,
              "#f0f921"
             ]
            ],
            "type": "heatmapgl"
           }
          ],
          "histogram": [
           {
            "marker": {
             "pattern": {
              "fillmode": "overlay",
              "size": 10,
              "solidity": 0.2
             }
            },
            "type": "histogram"
           }
          ],
          "histogram2d": [
           {
            "colorbar": {
             "outlinewidth": 0,
             "ticks": ""
            },
            "colorscale": [
             [
              0,
              "#0d0887"
             ],
             [
              0.1111111111111111,
              "#46039f"
             ],
             [
              0.2222222222222222,
              "#7201a8"
             ],
             [
              0.3333333333333333,
              "#9c179e"
             ],
             [
              0.4444444444444444,
              "#bd3786"
             ],
             [
              0.5555555555555556,
              "#d8576b"
             ],
             [
              0.6666666666666666,
              "#ed7953"
             ],
             [
              0.7777777777777778,
              "#fb9f3a"
             ],
             [
              0.8888888888888888,
              "#fdca26"
             ],
             [
              1,
              "#f0f921"
             ]
            ],
            "type": "histogram2d"
           }
          ],
          "histogram2dcontour": [
           {
            "colorbar": {
             "outlinewidth": 0,
             "ticks": ""
            },
            "colorscale": [
             [
              0,
              "#0d0887"
             ],
             [
              0.1111111111111111,
              "#46039f"
             ],
             [
              0.2222222222222222,
              "#7201a8"
             ],
             [
              0.3333333333333333,
              "#9c179e"
             ],
             [
              0.4444444444444444,
              "#bd3786"
             ],
             [
              0.5555555555555556,
              "#d8576b"
             ],
             [
              0.6666666666666666,
              "#ed7953"
             ],
             [
              0.7777777777777778,
              "#fb9f3a"
             ],
             [
              0.8888888888888888,
              "#fdca26"
             ],
             [
              1,
              "#f0f921"
             ]
            ],
            "type": "histogram2dcontour"
           }
          ],
          "mesh3d": [
           {
            "colorbar": {
             "outlinewidth": 0,
             "ticks": ""
            },
            "type": "mesh3d"
           }
          ],
          "parcoords": [
           {
            "line": {
             "colorbar": {
              "outlinewidth": 0,
              "ticks": ""
             }
            },
            "type": "parcoords"
           }
          ],
          "pie": [
           {
            "automargin": true,
            "type": "pie"
           }
          ],
          "scatter": [
           {
            "fillpattern": {
             "fillmode": "overlay",
             "size": 10,
             "solidity": 0.2
            },
            "type": "scatter"
           }
          ],
          "scatter3d": [
           {
            "line": {
             "colorbar": {
              "outlinewidth": 0,
              "ticks": ""
             }
            },
            "marker": {
             "colorbar": {
              "outlinewidth": 0,
              "ticks": ""
             }
            },
            "type": "scatter3d"
           }
          ],
          "scattercarpet": [
           {
            "marker": {
             "colorbar": {
              "outlinewidth": 0,
              "ticks": ""
             }
            },
            "type": "scattercarpet"
           }
          ],
          "scattergeo": [
           {
            "marker": {
             "colorbar": {
              "outlinewidth": 0,
              "ticks": ""
             }
            },
            "type": "scattergeo"
           }
          ],
          "scattergl": [
           {
            "marker": {
             "colorbar": {
              "outlinewidth": 0,
              "ticks": ""
             }
            },
            "type": "scattergl"
           }
          ],
          "scattermapbox": [
           {
            "marker": {
             "colorbar": {
              "outlinewidth": 0,
              "ticks": ""
             }
            },
            "type": "scattermapbox"
           }
          ],
          "scatterpolar": [
           {
            "marker": {
             "colorbar": {
              "outlinewidth": 0,
              "ticks": ""
             }
            },
            "type": "scatterpolar"
           }
          ],
          "scatterpolargl": [
           {
            "marker": {
             "colorbar": {
              "outlinewidth": 0,
              "ticks": ""
             }
            },
            "type": "scatterpolargl"
           }
          ],
          "scatterternary": [
           {
            "marker": {
             "colorbar": {
              "outlinewidth": 0,
              "ticks": ""
             }
            },
            "type": "scatterternary"
           }
          ],
          "surface": [
           {
            "colorbar": {
             "outlinewidth": 0,
             "ticks": ""
            },
            "colorscale": [
             [
              0,
              "#0d0887"
             ],
             [
              0.1111111111111111,
              "#46039f"
             ],
             [
              0.2222222222222222,
              "#7201a8"
             ],
             [
              0.3333333333333333,
              "#9c179e"
             ],
             [
              0.4444444444444444,
              "#bd3786"
             ],
             [
              0.5555555555555556,
              "#d8576b"
             ],
             [
              0.6666666666666666,
              "#ed7953"
             ],
             [
              0.7777777777777778,
              "#fb9f3a"
             ],
             [
              0.8888888888888888,
              "#fdca26"
             ],
             [
              1,
              "#f0f921"
             ]
            ],
            "type": "surface"
           }
          ],
          "table": [
           {
            "cells": {
             "fill": {
              "color": "#EBF0F8"
             },
             "line": {
              "color": "white"
             }
            },
            "header": {
             "fill": {
              "color": "#C8D4E3"
             },
             "line": {
              "color": "white"
             }
            },
            "type": "table"
           }
          ]
         },
         "layout": {
          "annotationdefaults": {
           "arrowcolor": "#2a3f5f",
           "arrowhead": 0,
           "arrowwidth": 1
          },
          "autotypenumbers": "strict",
          "coloraxis": {
           "colorbar": {
            "outlinewidth": 0,
            "ticks": ""
           }
          },
          "colorscale": {
           "diverging": [
            [
             0,
             "#8e0152"
            ],
            [
             0.1,
             "#c51b7d"
            ],
            [
             0.2,
             "#de77ae"
            ],
            [
             0.3,
             "#f1b6da"
            ],
            [
             0.4,
             "#fde0ef"
            ],
            [
             0.5,
             "#f7f7f7"
            ],
            [
             0.6,
             "#e6f5d0"
            ],
            [
             0.7,
             "#b8e186"
            ],
            [
             0.8,
             "#7fbc41"
            ],
            [
             0.9,
             "#4d9221"
            ],
            [
             1,
             "#276419"
            ]
           ],
           "sequential": [
            [
             0,
             "#0d0887"
            ],
            [
             0.1111111111111111,
             "#46039f"
            ],
            [
             0.2222222222222222,
             "#7201a8"
            ],
            [
             0.3333333333333333,
             "#9c179e"
            ],
            [
             0.4444444444444444,
             "#bd3786"
            ],
            [
             0.5555555555555556,
             "#d8576b"
            ],
            [
             0.6666666666666666,
             "#ed7953"
            ],
            [
             0.7777777777777778,
             "#fb9f3a"
            ],
            [
             0.8888888888888888,
             "#fdca26"
            ],
            [
             1,
             "#f0f921"
            ]
           ],
           "sequentialminus": [
            [
             0,
             "#0d0887"
            ],
            [
             0.1111111111111111,
             "#46039f"
            ],
            [
             0.2222222222222222,
             "#7201a8"
            ],
            [
             0.3333333333333333,
             "#9c179e"
            ],
            [
             0.4444444444444444,
             "#bd3786"
            ],
            [
             0.5555555555555556,
             "#d8576b"
            ],
            [
             0.6666666666666666,
             "#ed7953"
            ],
            [
             0.7777777777777778,
             "#fb9f3a"
            ],
            [
             0.8888888888888888,
             "#fdca26"
            ],
            [
             1,
             "#f0f921"
            ]
           ]
          },
          "colorway": [
           "#636efa",
           "#EF553B",
           "#00cc96",
           "#ab63fa",
           "#FFA15A",
           "#19d3f3",
           "#FF6692",
           "#B6E880",
           "#FF97FF",
           "#FECB52"
          ],
          "font": {
           "color": "#2a3f5f"
          },
          "geo": {
           "bgcolor": "white",
           "lakecolor": "white",
           "landcolor": "#E5ECF6",
           "showlakes": true,
           "showland": true,
           "subunitcolor": "white"
          },
          "hoverlabel": {
           "align": "left"
          },
          "hovermode": "closest",
          "mapbox": {
           "style": "light"
          },
          "paper_bgcolor": "white",
          "plot_bgcolor": "#E5ECF6",
          "polar": {
           "angularaxis": {
            "gridcolor": "white",
            "linecolor": "white",
            "ticks": ""
           },
           "bgcolor": "#E5ECF6",
           "radialaxis": {
            "gridcolor": "white",
            "linecolor": "white",
            "ticks": ""
           }
          },
          "scene": {
           "xaxis": {
            "backgroundcolor": "#E5ECF6",
            "gridcolor": "white",
            "gridwidth": 2,
            "linecolor": "white",
            "showbackground": true,
            "ticks": "",
            "zerolinecolor": "white"
           },
           "yaxis": {
            "backgroundcolor": "#E5ECF6",
            "gridcolor": "white",
            "gridwidth": 2,
            "linecolor": "white",
            "showbackground": true,
            "ticks": "",
            "zerolinecolor": "white"
           },
           "zaxis": {
            "backgroundcolor": "#E5ECF6",
            "gridcolor": "white",
            "gridwidth": 2,
            "linecolor": "white",
            "showbackground": true,
            "ticks": "",
            "zerolinecolor": "white"
           }
          },
          "shapedefaults": {
           "line": {
            "color": "#2a3f5f"
           }
          },
          "ternary": {
           "aaxis": {
            "gridcolor": "white",
            "linecolor": "white",
            "ticks": ""
           },
           "baxis": {
            "gridcolor": "white",
            "linecolor": "white",
            "ticks": ""
           },
           "bgcolor": "#E5ECF6",
           "caxis": {
            "gridcolor": "white",
            "linecolor": "white",
            "ticks": ""
           }
          },
          "title": {
           "x": 0.05
          },
          "xaxis": {
           "automargin": true,
           "gridcolor": "white",
           "linecolor": "white",
           "ticks": "",
           "title": {
            "standoff": 15
           },
           "zerolinecolor": "white",
           "zerolinewidth": 2
          },
          "yaxis": {
           "automargin": true,
           "gridcolor": "white",
           "linecolor": "white",
           "ticks": "",
           "title": {
            "standoff": 15
           },
           "zerolinecolor": "white",
           "zerolinewidth": 2
          }
         }
        },
        "xaxis": {
         "title": {
          "text": "Random Seed"
         }
        },
        "yaxis": {
         "title": {
          "text": "Fuel [gal]"
         }
        }
       }
      },
      "text/html": [
       "<div>                            <div id=\"befb9fec-ca7b-4cb9-af40-ccf1f9ed9d71\" class=\"plotly-graph-div\" style=\"height:525px; width:100%;\"></div>            <script type=\"text/javascript\">                require([\"plotly\"], function(Plotly) {                    window.PLOTLYENV=window.PLOTLYENV || {};                                    if (document.getElementById(\"befb9fec-ca7b-4cb9-af40-ccf1f9ed9d71\")) {                    Plotly.newPlot(                        \"befb9fec-ca7b-4cb9-af40-ccf1f9ed9d71\",                        [{\"mode\":\"markers\",\"x\":[1.0,11.090909090909092,21.181818181818183,31.272727272727277,41.36363636363637,51.45454545454546,61.54545454545455,71.63636363636364,81.72727272727273,91.81818181818184,101.90909090909092,112.0,122.0909090909091,132.1818181818182,142.27272727272728,152.36363636363637,162.45454545454547,172.54545454545456,182.63636363636363,192.72727272727275,202.81818181818184,212.9090909090909,223.00000000000003,233.09090909090912,243.1818181818182,253.27272727272728,263.3636363636364,273.4545454545455,283.54545454545456,293.6363636363637,303.72727272727275,313.81818181818187,323.90909090909093,334.0,344.0909090909091,354.1818181818182,364.2727272727273,374.3636363636364,384.4545454545455,394.54545454545456,404.6363636363637,414.7272727272728,424.8181818181818,434.9090909090909,445.00000000000006,455.0909090909091,465.18181818181824,475.2727272727273,485.3636363636364,495.4545454545455,505.54545454545456,515.6363636363636,525.7272727272727,535.8181818181819,545.909090909091,556.0,566.0909090909091,576.1818181818182,586.2727272727274,596.3636363636364,606.4545454545455,616.5454545454546,626.6363636363637,636.7272727272727,646.8181818181819,656.909090909091,667.0,677.0909090909091,687.1818181818182,697.2727272727274,707.3636363636364,717.4545454545455,727.5454545454546,737.6363636363637,747.7272727272727,757.8181818181819,767.909090909091,778.0000000000001,788.0909090909091,798.1818181818182,808.2727272727274,818.3636363636364,828.4545454545455,838.5454545454546,848.6363636363637,858.7272727272727,868.8181818181819,878.909090909091,889.0000000000001,899.0909090909091,909.1818181818182,919.2727272727274,929.3636363636364,939.4545454545456,949.5454545454546,959.6363636363636,969.7272727272727,979.818181818182,989.909090909091,1000.0],\"y\":[42.448647942521234,43.29581537121707,42.22580975185024,41.87346187363835,42.04062404538512,39.72996732026144,44.03756744995648,43.06993691537959,41.490921367893705,41.50856739130435,39.239714845450585,42.14005441880714,43.98246446534004,40.7087815491732,39.18090810104529,41.1132405998696,40.75031297544012,41.5851143541712,39.19851318944845,40.52444977119198,40.23073816760747,39.92838568935428,41.39189884456072,40.32413515862668,42.60642189876168,45.29350533420423,41.82172286273657,44.5111038536904,44.8681409001957,39.75481925087108,43.38210663764962,41.550405052264814,42.44808168585705,40.82274569623012,43.78470139494333,42.283617206169886,40.198052597261466,42.65272529386156,41.09406086956522,41.23673681926665,45.45946086956521,44.91187432050446,40.629497389033936,41.2607128885025,41.67868323523,42.309960835509145,40.812372955288986,40.35533623503809,41.9179003481288,42.37037633239069,42.00134653034588,43.11104334567632,41.51085050987199,42.293532738742655,38.454939050936,43.48354039965248,42.679089921807126,42.85714068275712,39.76314794699109,40.25630557977332,40.62129081410535,42.39782476024411,41.62062010443864,40.41705625817706,41.0809767239504,40.47790960451977,39.41893408744833,40.3511860718172,41.49277995642702,41.72239721557537,39.412848761408085,39.14704703832752,40.7534081010453,42.215966020474845,41.14527541911605,43.333012625163256,39.17812079078862,38.25282793125952,44.01477758395116,40.08620156726165,42.52290568503594,39.770850599781895,41.33863913043478,41.920233064691786,42.84595082680592,41.80470241988228,42.591624918318445,42.0944232022594,42.00522989758117,38.660443671161374,40.823998692525606,39.40729134887775,39.86367204535543,41.37400261039809,41.64471406827571,41.88198039215686,46.19967320261438,42.843168338421286,42.833776665215495,41.77472034820457],\"type\":\"scatter\"}],                        {\"template\":{\"data\":{\"histogram2dcontour\":[{\"type\":\"histogram2dcontour\",\"colorbar\":{\"outlinewidth\":0,\"ticks\":\"\"},\"colorscale\":[[0.0,\"#0d0887\"],[0.1111111111111111,\"#46039f\"],[0.2222222222222222,\"#7201a8\"],[0.3333333333333333,\"#9c179e\"],[0.4444444444444444,\"#bd3786\"],[0.5555555555555556,\"#d8576b\"],[0.6666666666666666,\"#ed7953\"],[0.7777777777777778,\"#fb9f3a\"],[0.8888888888888888,\"#fdca26\"],[1.0,\"#f0f921\"]]}],\"choropleth\":[{\"type\":\"choropleth\",\"colorbar\":{\"outlinewidth\":0,\"ticks\":\"\"}}],\"histogram2d\":[{\"type\":\"histogram2d\",\"colorbar\":{\"outlinewidth\":0,\"ticks\":\"\"},\"colorscale\":[[0.0,\"#0d0887\"],[0.1111111111111111,\"#46039f\"],[0.2222222222222222,\"#7201a8\"],[0.3333333333333333,\"#9c179e\"],[0.4444444444444444,\"#bd3786\"],[0.5555555555555556,\"#d8576b\"],[0.6666666666666666,\"#ed7953\"],[0.7777777777777778,\"#fb9f3a\"],[0.8888888888888888,\"#fdca26\"],[1.0,\"#f0f921\"]]}],\"heatmap\":[{\"type\":\"heatmap\",\"colorbar\":{\"outlinewidth\":0,\"ticks\":\"\"},\"colorscale\":[[0.0,\"#0d0887\"],[0.1111111111111111,\"#46039f\"],[0.2222222222222222,\"#7201a8\"],[0.3333333333333333,\"#9c179e\"],[0.4444444444444444,\"#bd3786\"],[0.5555555555555556,\"#d8576b\"],[0.6666666666666666,\"#ed7953\"],[0.7777777777777778,\"#fb9f3a\"],[0.8888888888888888,\"#fdca26\"],[1.0,\"#f0f921\"]]}],\"heatmapgl\":[{\"type\":\"heatmapgl\",\"colorbar\":{\"outlinewidth\":0,\"ticks\":\"\"},\"colorscale\":[[0.0,\"#0d0887\"],[0.1111111111111111,\"#46039f\"],[0.2222222222222222,\"#7201a8\"],[0.3333333333333333,\"#9c179e\"],[0.4444444444444444,\"#bd3786\"],[0.5555555555555556,\"#d8576b\"],[0.6666666666666666,\"#ed7953\"],[0.7777777777777778,\"#fb9f3a\"],[0.8888888888888888,\"#fdca26\"],[1.0,\"#f0f921\"]]}],\"contourcarpet\":[{\"type\":\"contourcarpet\",\"colorbar\":{\"outlinewidth\":0,\"ticks\":\"\"}}],\"contour\":[{\"type\":\"contour\",\"colorbar\":{\"outlinewidth\":0,\"ticks\":\"\"},\"colorscale\":[[0.0,\"#0d0887\"],[0.1111111111111111,\"#46039f\"],[0.2222222222222222,\"#7201a8\"],[0.3333333333333333,\"#9c179e\"],[0.4444444444444444,\"#bd3786\"],[0.5555555555555556,\"#d8576b\"],[0.6666666666666666,\"#ed7953\"],[0.7777777777777778,\"#fb9f3a\"],[0.8888888888888888,\"#fdca26\"],[1.0,\"#f0f921\"]]}],\"surface\":[{\"type\":\"surface\",\"colorbar\":{\"outlinewidth\":0,\"ticks\":\"\"},\"colorscale\":[[0.0,\"#0d0887\"],[0.1111111111111111,\"#46039f\"],[0.2222222222222222,\"#7201a8\"],[0.3333333333333333,\"#9c179e\"],[0.4444444444444444,\"#bd3786\"],[0.5555555555555556,\"#d8576b\"],[0.6666666666666666,\"#ed7953\"],[0.7777777777777778,\"#fb9f3a\"],[0.8888888888888888,\"#fdca26\"],[1.0,\"#f0f921\"]]}],\"mesh3d\":[{\"type\":\"mesh3d\",\"colorbar\":{\"outlinewidth\":0,\"ticks\":\"\"}}],\"scatter\":[{\"fillpattern\":{\"fillmode\":\"overlay\",\"size\":10,\"solidity\":0.2},\"type\":\"scatter\"}],\"parcoords\":[{\"type\":\"parcoords\",\"line\":{\"colorbar\":{\"outlinewidth\":0,\"ticks\":\"\"}}}],\"scatterpolargl\":[{\"type\":\"scatterpolargl\",\"marker\":{\"colorbar\":{\"outlinewidth\":0,\"ticks\":\"\"}}}],\"bar\":[{\"error_x\":{\"color\":\"#2a3f5f\"},\"error_y\":{\"color\":\"#2a3f5f\"},\"marker\":{\"line\":{\"color\":\"#E5ECF6\",\"width\":0.5},\"pattern\":{\"fillmode\":\"overlay\",\"size\":10,\"solidity\":0.2}},\"type\":\"bar\"}],\"scattergeo\":[{\"type\":\"scattergeo\",\"marker\":{\"colorbar\":{\"outlinewidth\":0,\"ticks\":\"\"}}}],\"scatterpolar\":[{\"type\":\"scatterpolar\",\"marker\":{\"colorbar\":{\"outlinewidth\":0,\"ticks\":\"\"}}}],\"histogram\":[{\"marker\":{\"pattern\":{\"fillmode\":\"overlay\",\"size\":10,\"solidity\":0.2}},\"type\":\"histogram\"}],\"scattergl\":[{\"type\":\"scattergl\",\"marker\":{\"colorbar\":{\"outlinewidth\":0,\"ticks\":\"\"}}}],\"scatter3d\":[{\"type\":\"scatter3d\",\"line\":{\"colorbar\":{\"outlinewidth\":0,\"ticks\":\"\"}},\"marker\":{\"colorbar\":{\"outlinewidth\":0,\"ticks\":\"\"}}}],\"scattermapbox\":[{\"type\":\"scattermapbox\",\"marker\":{\"colorbar\":{\"outlinewidth\":0,\"ticks\":\"\"}}}],\"scatterternary\":[{\"type\":\"scatterternary\",\"marker\":{\"colorbar\":{\"outlinewidth\":0,\"ticks\":\"\"}}}],\"scattercarpet\":[{\"type\":\"scattercarpet\",\"marker\":{\"colorbar\":{\"outlinewidth\":0,\"ticks\":\"\"}}}],\"carpet\":[{\"aaxis\":{\"endlinecolor\":\"#2a3f5f\",\"gridcolor\":\"white\",\"linecolor\":\"white\",\"minorgridcolor\":\"white\",\"startlinecolor\":\"#2a3f5f\"},\"baxis\":{\"endlinecolor\":\"#2a3f5f\",\"gridcolor\":\"white\",\"linecolor\":\"white\",\"minorgridcolor\":\"white\",\"startlinecolor\":\"#2a3f5f\"},\"type\":\"carpet\"}],\"table\":[{\"cells\":{\"fill\":{\"color\":\"#EBF0F8\"},\"line\":{\"color\":\"white\"}},\"header\":{\"fill\":{\"color\":\"#C8D4E3\"},\"line\":{\"color\":\"white\"}},\"type\":\"table\"}],\"barpolar\":[{\"marker\":{\"line\":{\"color\":\"#E5ECF6\",\"width\":0.5},\"pattern\":{\"fillmode\":\"overlay\",\"size\":10,\"solidity\":0.2}},\"type\":\"barpolar\"}],\"pie\":[{\"automargin\":true,\"type\":\"pie\"}]},\"layout\":{\"autotypenumbers\":\"strict\",\"colorway\":[\"#636efa\",\"#EF553B\",\"#00cc96\",\"#ab63fa\",\"#FFA15A\",\"#19d3f3\",\"#FF6692\",\"#B6E880\",\"#FF97FF\",\"#FECB52\"],\"font\":{\"color\":\"#2a3f5f\"},\"hovermode\":\"closest\",\"hoverlabel\":{\"align\":\"left\"},\"paper_bgcolor\":\"white\",\"plot_bgcolor\":\"#E5ECF6\",\"polar\":{\"bgcolor\":\"#E5ECF6\",\"angularaxis\":{\"gridcolor\":\"white\",\"linecolor\":\"white\",\"ticks\":\"\"},\"radialaxis\":{\"gridcolor\":\"white\",\"linecolor\":\"white\",\"ticks\":\"\"}},\"ternary\":{\"bgcolor\":\"#E5ECF6\",\"aaxis\":{\"gridcolor\":\"white\",\"linecolor\":\"white\",\"ticks\":\"\"},\"baxis\":{\"gridcolor\":\"white\",\"linecolor\":\"white\",\"ticks\":\"\"},\"caxis\":{\"gridcolor\":\"white\",\"linecolor\":\"white\",\"ticks\":\"\"}},\"coloraxis\":{\"colorbar\":{\"outlinewidth\":0,\"ticks\":\"\"}},\"colorscale\":{\"sequential\":[[0.0,\"#0d0887\"],[0.1111111111111111,\"#46039f\"],[0.2222222222222222,\"#7201a8\"],[0.3333333333333333,\"#9c179e\"],[0.4444444444444444,\"#bd3786\"],[0.5555555555555556,\"#d8576b\"],[0.6666666666666666,\"#ed7953\"],[0.7777777777777778,\"#fb9f3a\"],[0.8888888888888888,\"#fdca26\"],[1.0,\"#f0f921\"]],\"sequentialminus\":[[0.0,\"#0d0887\"],[0.1111111111111111,\"#46039f\"],[0.2222222222222222,\"#7201a8\"],[0.3333333333333333,\"#9c179e\"],[0.4444444444444444,\"#bd3786\"],[0.5555555555555556,\"#d8576b\"],[0.6666666666666666,\"#ed7953\"],[0.7777777777777778,\"#fb9f3a\"],[0.8888888888888888,\"#fdca26\"],[1.0,\"#f0f921\"]],\"diverging\":[[0,\"#8e0152\"],[0.1,\"#c51b7d\"],[0.2,\"#de77ae\"],[0.3,\"#f1b6da\"],[0.4,\"#fde0ef\"],[0.5,\"#f7f7f7\"],[0.6,\"#e6f5d0\"],[0.7,\"#b8e186\"],[0.8,\"#7fbc41\"],[0.9,\"#4d9221\"],[1,\"#276419\"]]},\"xaxis\":{\"gridcolor\":\"white\",\"linecolor\":\"white\",\"ticks\":\"\",\"title\":{\"standoff\":15},\"zerolinecolor\":\"white\",\"automargin\":true,\"zerolinewidth\":2},\"yaxis\":{\"gridcolor\":\"white\",\"linecolor\":\"white\",\"ticks\":\"\",\"title\":{\"standoff\":15},\"zerolinecolor\":\"white\",\"automargin\":true,\"zerolinewidth\":2},\"scene\":{\"xaxis\":{\"backgroundcolor\":\"#E5ECF6\",\"gridcolor\":\"white\",\"linecolor\":\"white\",\"showbackground\":true,\"ticks\":\"\",\"zerolinecolor\":\"white\",\"gridwidth\":2},\"yaxis\":{\"backgroundcolor\":\"#E5ECF6\",\"gridcolor\":\"white\",\"linecolor\":\"white\",\"showbackground\":true,\"ticks\":\"\",\"zerolinecolor\":\"white\",\"gridwidth\":2},\"zaxis\":{\"backgroundcolor\":\"#E5ECF6\",\"gridcolor\":\"white\",\"linecolor\":\"white\",\"showbackground\":true,\"ticks\":\"\",\"zerolinecolor\":\"white\",\"gridwidth\":2}},\"shapedefaults\":{\"line\":{\"color\":\"#2a3f5f\"}},\"annotationdefaults\":{\"arrowcolor\":\"#2a3f5f\",\"arrowhead\":0,\"arrowwidth\":1},\"geo\":{\"bgcolor\":\"white\",\"landcolor\":\"#E5ECF6\",\"subunitcolor\":\"white\",\"showland\":true,\"showlakes\":true,\"lakecolor\":\"white\"},\"title\":{\"x\":0.05},\"mapbox\":{\"style\":\"light\"}}},\"yaxis\":{\"title\":{\"text\":\"Fuel [gal]\"}},\"xaxis\":{\"title\":{\"text\":\"Random Seed\"}}},                        {\"responsive\": true}                    ).then(function(){\n",
       "                            \n",
       "var gd = document.getElementById('befb9fec-ca7b-4cb9-af40-ccf1f9ed9d71');\n",
       "var x = new MutationObserver(function (mutations, observer) {{\n",
       "        var display = window.getComputedStyle(gd).display;\n",
       "        if (!display || display === 'none') {{\n",
       "            console.log([gd, 'removed!']);\n",
       "            Plotly.purge(gd);\n",
       "            observer.disconnect();\n",
       "        }}\n",
       "}});\n",
       "\n",
       "// Listen for the removal of the full notebook cells\n",
       "var notebookContainer = gd.closest('#notebook-container');\n",
       "if (notebookContainer) {{\n",
       "    x.observe(notebookContainer, {childList: true});\n",
       "}}\n",
       "\n",
       "// Listen for the clearing of the current output cell\n",
       "var outputEl = gd.closest('.output');\n",
       "if (outputEl) {{\n",
       "    x.observe(outputEl, {childList: true});\n",
       "}}\n",
       "\n",
       "                        })                };                });            </script>        </div>"
      ]
     },
     "metadata": {},
     "output_type": "display_data"
    }
   ],
   "source": [
    "fig = go.Figure()\n",
    "# for r in results_dfs:\n",
    "fig.add_trace(go.Scatter(x=results_df.RandomSeed, y=results_df['all_delay_average'], mode='markers'))\n",
    "# fig.add_trace(go.Scatter(x=results_df.index, y=results_df['Fuel [gal]'], mode='markers', name=\"Samples\", ))\n",
    "# fig.add_trace(go.Scatter(x=results_poisson_df.index, y=results_poisson_df['Fuel [gal]'], mode='markers', name=\"Samples\", ))\n",
    "# fig.add_trace(go.Scatter(x=grouped.index, y=grouped['Fuel [gal]'], mode='lines+markers', name=\"Sample Average\"))\n",
    "# fig.add_trace(go.Scatter(x=grouped.index, y=grouped['Fuel [gal]'] + grouped_std['Fuel [gal]'], mode='lines+markers', name=\"+1 std dev\"))\n",
    "# fig.add_trace(go.Scatter(x=grouped.index, y=grouped['Fuel [gal]'] - grouped_std['Fuel [gal]'], mode='lines+markers', name=\"-1 std dev\"))\n",
    "fig.update_layout(yaxis=dict(title=\"Fuel [gal]\"),\n",
    "                  xaxis=dict(title='Random Seed')\n",
    "                 )\n",
    "fig.show()"
   ]
  },
  {
   "cell_type": "code",
   "execution_count": 23,
   "id": "080a7eaa",
   "metadata": {},
   "outputs": [
    {
     "data": {
      "application/vnd.plotly.v1+json": {
       "config": {
        "plotlyServerURL": "https://plot.ly"
       },
       "data": [
        {
         "mode": "markers",
         "type": "scatter",
         "x": [
          84.04230002868194,
          84.07770538866188,
          84.17076213321542,
          83.72912425221719,
          83.87392056937598,
          83.09602511737317,
          84.61763852180903,
          84.02088466917199,
          83.22504241714657,
          83.99414431232019,
          82.69365652632179,
          83.87633645685247,
          84.00755274860597,
          83.41020253759072,
          83.09836424973261,
          83.70177038763649,
          83.58179158055728,
          83.77826936572612,
          83.04023731962202,
          83.80497381526536,
          83.19637430684357,
          82.94185195348675,
          83.51072327040394,
          82.56625339798565,
          84.45479394512154,
          85.51636631038039,
          83.86209371922949,
          84.58533934036797,
          85.07328849401804,
          82.73714853977945,
          84.30648520753505,
          83.28617521270324,
          83.91450190547518,
          83.61850795174817,
          83.68932208185252,
          83.88844104262333,
          82.97995168703994,
          84.2717587196509,
          83.9935739276334,
          83.49813859557976,
          84.89885743820399,
          84.56125141409856,
          83.54418436576205,
          83.38643889087953,
          84.04765062712573,
          83.32836138126211,
          83.2203025740103,
          83.01892739860135,
          83.71634330540887,
          83.83650235688239,
          83.97461123820622,
          84.72900431918936,
          83.75651231176985,
          83.62395100868216,
          82.07817887365039,
          83.99514980775092,
          83.51634362305849,
          83.8218671011013,
          83.56291626364208,
          83.73683748108347,
          83.23725635078641,
          83.68458529066896,
          83.65211150563654,
          83.35113025949231,
          83.45060830899004,
          83.50261723589932,
          83.0875906344681,
          83.13764881032712,
          83.62448637134521,
          83.95711829315019,
          83.18128482888773,
          82.67916159599385,
          83.74314384746964,
          83.66261571527878,
          83.29552329629475,
          83.99481551723946,
          83.61833936515167,
          82.62939217078974,
          83.92840443341146,
          83.79265407399285,
          84.37924947185304,
          83.13292649157451,
          83.66246046838225,
          83.48065692982709,
          84.14761943378446,
          83.68218992242426,
          83.85644953273922,
          84.49661634137797,
          84.13879297661613,
          83.13760046789557,
          83.53381941680612,
          82.8046652507694,
          83.09068089147551,
          83.05186370389336,
          83.68952337734176,
          83.69555294414441,
          85.3936470093534,
          83.57574453545338,
          83.81258264964953,
          83.7565045322644
         ],
         "y": [
          4593,
          4593,
          4594,
          4590,
          4583,
          4590,
          4596,
          4597,
          4591,
          4600,
          4594,
          4594,
          4573,
          4596,
          4592,
          4601,
          4601,
          4591,
          4587,
          4589,
          4606,
          4584,
          4587,
          4602,
          4603,
          4593,
          4597,
          4593,
          4599,
          4592,
          4595,
          4592,
          4603,
          4589,
          4588,
          4603,
          4601,
          4594,
          4600,
          4609,
          4600,
          4599,
          4596,
          4601,
          4587,
          4596,
          4585,
          4595,
          4596,
          4597,
          4597,
          4591,
          4609,
          4597,
          4594,
          4604,
          4604,
          4599,
          4603,
          4588,
          4594,
          4588,
          4596,
          4586,
          4597,
          4602,
          4597,
          4595,
          4590,
          4597,
          4602,
          4592,
          4592,
          4591,
          4593,
          4594,
          4603,
          4597,
          4586,
          4594,
          4591,
          4585,
          4600,
          4591,
          4596,
          4587,
          4591,
          4603,
          4589,
          4598,
          4589,
          4589,
          4586,
          4597,
          4599,
          4590,
          4590,
          4586,
          4594,
          4595
         ]
        }
       ],
       "layout": {
        "template": {
         "data": {
          "bar": [
           {
            "error_x": {
             "color": "#2a3f5f"
            },
            "error_y": {
             "color": "#2a3f5f"
            },
            "marker": {
             "line": {
              "color": "#E5ECF6",
              "width": 0.5
             },
             "pattern": {
              "fillmode": "overlay",
              "size": 10,
              "solidity": 0.2
             }
            },
            "type": "bar"
           }
          ],
          "barpolar": [
           {
            "marker": {
             "line": {
              "color": "#E5ECF6",
              "width": 0.5
             },
             "pattern": {
              "fillmode": "overlay",
              "size": 10,
              "solidity": 0.2
             }
            },
            "type": "barpolar"
           }
          ],
          "carpet": [
           {
            "aaxis": {
             "endlinecolor": "#2a3f5f",
             "gridcolor": "white",
             "linecolor": "white",
             "minorgridcolor": "white",
             "startlinecolor": "#2a3f5f"
            },
            "baxis": {
             "endlinecolor": "#2a3f5f",
             "gridcolor": "white",
             "linecolor": "white",
             "minorgridcolor": "white",
             "startlinecolor": "#2a3f5f"
            },
            "type": "carpet"
           }
          ],
          "choropleth": [
           {
            "colorbar": {
             "outlinewidth": 0,
             "ticks": ""
            },
            "type": "choropleth"
           }
          ],
          "contour": [
           {
            "colorbar": {
             "outlinewidth": 0,
             "ticks": ""
            },
            "colorscale": [
             [
              0,
              "#0d0887"
             ],
             [
              0.1111111111111111,
              "#46039f"
             ],
             [
              0.2222222222222222,
              "#7201a8"
             ],
             [
              0.3333333333333333,
              "#9c179e"
             ],
             [
              0.4444444444444444,
              "#bd3786"
             ],
             [
              0.5555555555555556,
              "#d8576b"
             ],
             [
              0.6666666666666666,
              "#ed7953"
             ],
             [
              0.7777777777777778,
              "#fb9f3a"
             ],
             [
              0.8888888888888888,
              "#fdca26"
             ],
             [
              1,
              "#f0f921"
             ]
            ],
            "type": "contour"
           }
          ],
          "contourcarpet": [
           {
            "colorbar": {
             "outlinewidth": 0,
             "ticks": ""
            },
            "type": "contourcarpet"
           }
          ],
          "heatmap": [
           {
            "colorbar": {
             "outlinewidth": 0,
             "ticks": ""
            },
            "colorscale": [
             [
              0,
              "#0d0887"
             ],
             [
              0.1111111111111111,
              "#46039f"
             ],
             [
              0.2222222222222222,
              "#7201a8"
             ],
             [
              0.3333333333333333,
              "#9c179e"
             ],
             [
              0.4444444444444444,
              "#bd3786"
             ],
             [
              0.5555555555555556,
              "#d8576b"
             ],
             [
              0.6666666666666666,
              "#ed7953"
             ],
             [
              0.7777777777777778,
              "#fb9f3a"
             ],
             [
              0.8888888888888888,
              "#fdca26"
             ],
             [
              1,
              "#f0f921"
             ]
            ],
            "type": "heatmap"
           }
          ],
          "heatmapgl": [
           {
            "colorbar": {
             "outlinewidth": 0,
             "ticks": ""
            },
            "colorscale": [
             [
              0,
              "#0d0887"
             ],
             [
              0.1111111111111111,
              "#46039f"
             ],
             [
              0.2222222222222222,
              "#7201a8"
             ],
             [
              0.3333333333333333,
              "#9c179e"
             ],
             [
              0.4444444444444444,
              "#bd3786"
             ],
             [
              0.5555555555555556,
              "#d8576b"
             ],
             [
              0.6666666666666666,
              "#ed7953"
             ],
             [
              0.7777777777777778,
              "#fb9f3a"
             ],
             [
              0.8888888888888888,
              "#fdca26"
             ],
             [
              1,
              "#f0f921"
             ]
            ],
            "type": "heatmapgl"
           }
          ],
          "histogram": [
           {
            "marker": {
             "pattern": {
              "fillmode": "overlay",
              "size": 10,
              "solidity": 0.2
             }
            },
            "type": "histogram"
           }
          ],
          "histogram2d": [
           {
            "colorbar": {
             "outlinewidth": 0,
             "ticks": ""
            },
            "colorscale": [
             [
              0,
              "#0d0887"
             ],
             [
              0.1111111111111111,
              "#46039f"
             ],
             [
              0.2222222222222222,
              "#7201a8"
             ],
             [
              0.3333333333333333,
              "#9c179e"
             ],
             [
              0.4444444444444444,
              "#bd3786"
             ],
             [
              0.5555555555555556,
              "#d8576b"
             ],
             [
              0.6666666666666666,
              "#ed7953"
             ],
             [
              0.7777777777777778,
              "#fb9f3a"
             ],
             [
              0.8888888888888888,
              "#fdca26"
             ],
             [
              1,
              "#f0f921"
             ]
            ],
            "type": "histogram2d"
           }
          ],
          "histogram2dcontour": [
           {
            "colorbar": {
             "outlinewidth": 0,
             "ticks": ""
            },
            "colorscale": [
             [
              0,
              "#0d0887"
             ],
             [
              0.1111111111111111,
              "#46039f"
             ],
             [
              0.2222222222222222,
              "#7201a8"
             ],
             [
              0.3333333333333333,
              "#9c179e"
             ],
             [
              0.4444444444444444,
              "#bd3786"
             ],
             [
              0.5555555555555556,
              "#d8576b"
             ],
             [
              0.6666666666666666,
              "#ed7953"
             ],
             [
              0.7777777777777778,
              "#fb9f3a"
             ],
             [
              0.8888888888888888,
              "#fdca26"
             ],
             [
              1,
              "#f0f921"
             ]
            ],
            "type": "histogram2dcontour"
           }
          ],
          "mesh3d": [
           {
            "colorbar": {
             "outlinewidth": 0,
             "ticks": ""
            },
            "type": "mesh3d"
           }
          ],
          "parcoords": [
           {
            "line": {
             "colorbar": {
              "outlinewidth": 0,
              "ticks": ""
             }
            },
            "type": "parcoords"
           }
          ],
          "pie": [
           {
            "automargin": true,
            "type": "pie"
           }
          ],
          "scatter": [
           {
            "fillpattern": {
             "fillmode": "overlay",
             "size": 10,
             "solidity": 0.2
            },
            "type": "scatter"
           }
          ],
          "scatter3d": [
           {
            "line": {
             "colorbar": {
              "outlinewidth": 0,
              "ticks": ""
             }
            },
            "marker": {
             "colorbar": {
              "outlinewidth": 0,
              "ticks": ""
             }
            },
            "type": "scatter3d"
           }
          ],
          "scattercarpet": [
           {
            "marker": {
             "colorbar": {
              "outlinewidth": 0,
              "ticks": ""
             }
            },
            "type": "scattercarpet"
           }
          ],
          "scattergeo": [
           {
            "marker": {
             "colorbar": {
              "outlinewidth": 0,
              "ticks": ""
             }
            },
            "type": "scattergeo"
           }
          ],
          "scattergl": [
           {
            "marker": {
             "colorbar": {
              "outlinewidth": 0,
              "ticks": ""
             }
            },
            "type": "scattergl"
           }
          ],
          "scattermapbox": [
           {
            "marker": {
             "colorbar": {
              "outlinewidth": 0,
              "ticks": ""
             }
            },
            "type": "scattermapbox"
           }
          ],
          "scatterpolar": [
           {
            "marker": {
             "colorbar": {
              "outlinewidth": 0,
              "ticks": ""
             }
            },
            "type": "scatterpolar"
           }
          ],
          "scatterpolargl": [
           {
            "marker": {
             "colorbar": {
              "outlinewidth": 0,
              "ticks": ""
             }
            },
            "type": "scatterpolargl"
           }
          ],
          "scatterternary": [
           {
            "marker": {
             "colorbar": {
              "outlinewidth": 0,
              "ticks": ""
             }
            },
            "type": "scatterternary"
           }
          ],
          "surface": [
           {
            "colorbar": {
             "outlinewidth": 0,
             "ticks": ""
            },
            "colorscale": [
             [
              0,
              "#0d0887"
             ],
             [
              0.1111111111111111,
              "#46039f"
             ],
             [
              0.2222222222222222,
              "#7201a8"
             ],
             [
              0.3333333333333333,
              "#9c179e"
             ],
             [
              0.4444444444444444,
              "#bd3786"
             ],
             [
              0.5555555555555556,
              "#d8576b"
             ],
             [
              0.6666666666666666,
              "#ed7953"
             ],
             [
              0.7777777777777778,
              "#fb9f3a"
             ],
             [
              0.8888888888888888,
              "#fdca26"
             ],
             [
              1,
              "#f0f921"
             ]
            ],
            "type": "surface"
           }
          ],
          "table": [
           {
            "cells": {
             "fill": {
              "color": "#EBF0F8"
             },
             "line": {
              "color": "white"
             }
            },
            "header": {
             "fill": {
              "color": "#C8D4E3"
             },
             "line": {
              "color": "white"
             }
            },
            "type": "table"
           }
          ]
         },
         "layout": {
          "annotationdefaults": {
           "arrowcolor": "#2a3f5f",
           "arrowhead": 0,
           "arrowwidth": 1
          },
          "autotypenumbers": "strict",
          "coloraxis": {
           "colorbar": {
            "outlinewidth": 0,
            "ticks": ""
           }
          },
          "colorscale": {
           "diverging": [
            [
             0,
             "#8e0152"
            ],
            [
             0.1,
             "#c51b7d"
            ],
            [
             0.2,
             "#de77ae"
            ],
            [
             0.3,
             "#f1b6da"
            ],
            [
             0.4,
             "#fde0ef"
            ],
            [
             0.5,
             "#f7f7f7"
            ],
            [
             0.6,
             "#e6f5d0"
            ],
            [
             0.7,
             "#b8e186"
            ],
            [
             0.8,
             "#7fbc41"
            ],
            [
             0.9,
             "#4d9221"
            ],
            [
             1,
             "#276419"
            ]
           ],
           "sequential": [
            [
             0,
             "#0d0887"
            ],
            [
             0.1111111111111111,
             "#46039f"
            ],
            [
             0.2222222222222222,
             "#7201a8"
            ],
            [
             0.3333333333333333,
             "#9c179e"
            ],
            [
             0.4444444444444444,
             "#bd3786"
            ],
            [
             0.5555555555555556,
             "#d8576b"
            ],
            [
             0.6666666666666666,
             "#ed7953"
            ],
            [
             0.7777777777777778,
             "#fb9f3a"
            ],
            [
             0.8888888888888888,
             "#fdca26"
            ],
            [
             1,
             "#f0f921"
            ]
           ],
           "sequentialminus": [
            [
             0,
             "#0d0887"
            ],
            [
             0.1111111111111111,
             "#46039f"
            ],
            [
             0.2222222222222222,
             "#7201a8"
            ],
            [
             0.3333333333333333,
             "#9c179e"
            ],
            [
             0.4444444444444444,
             "#bd3786"
            ],
            [
             0.5555555555555556,
             "#d8576b"
            ],
            [
             0.6666666666666666,
             "#ed7953"
            ],
            [
             0.7777777777777778,
             "#fb9f3a"
            ],
            [
             0.8888888888888888,
             "#fdca26"
            ],
            [
             1,
             "#f0f921"
            ]
           ]
          },
          "colorway": [
           "#636efa",
           "#EF553B",
           "#00cc96",
           "#ab63fa",
           "#FFA15A",
           "#19d3f3",
           "#FF6692",
           "#B6E880",
           "#FF97FF",
           "#FECB52"
          ],
          "font": {
           "color": "#2a3f5f"
          },
          "geo": {
           "bgcolor": "white",
           "lakecolor": "white",
           "landcolor": "#E5ECF6",
           "showlakes": true,
           "showland": true,
           "subunitcolor": "white"
          },
          "hoverlabel": {
           "align": "left"
          },
          "hovermode": "closest",
          "mapbox": {
           "style": "light"
          },
          "paper_bgcolor": "white",
          "plot_bgcolor": "#E5ECF6",
          "polar": {
           "angularaxis": {
            "gridcolor": "white",
            "linecolor": "white",
            "ticks": ""
           },
           "bgcolor": "#E5ECF6",
           "radialaxis": {
            "gridcolor": "white",
            "linecolor": "white",
            "ticks": ""
           }
          },
          "scene": {
           "xaxis": {
            "backgroundcolor": "#E5ECF6",
            "gridcolor": "white",
            "gridwidth": 2,
            "linecolor": "white",
            "showbackground": true,
            "ticks": "",
            "zerolinecolor": "white"
           },
           "yaxis": {
            "backgroundcolor": "#E5ECF6",
            "gridcolor": "white",
            "gridwidth": 2,
            "linecolor": "white",
            "showbackground": true,
            "ticks": "",
            "zerolinecolor": "white"
           },
           "zaxis": {
            "backgroundcolor": "#E5ECF6",
            "gridcolor": "white",
            "gridwidth": 2,
            "linecolor": "white",
            "showbackground": true,
            "ticks": "",
            "zerolinecolor": "white"
           }
          },
          "shapedefaults": {
           "line": {
            "color": "#2a3f5f"
           }
          },
          "ternary": {
           "aaxis": {
            "gridcolor": "white",
            "linecolor": "white",
            "ticks": ""
           },
           "baxis": {
            "gridcolor": "white",
            "linecolor": "white",
            "ticks": ""
           },
           "bgcolor": "#E5ECF6",
           "caxis": {
            "gridcolor": "white",
            "linecolor": "white",
            "ticks": ""
           }
          },
          "title": {
           "x": 0.05
          },
          "xaxis": {
           "automargin": true,
           "gridcolor": "white",
           "linecolor": "white",
           "ticks": "",
           "title": {
            "standoff": 15
           },
           "zerolinecolor": "white",
           "zerolinewidth": 2
          },
          "yaxis": {
           "automargin": true,
           "gridcolor": "white",
           "linecolor": "white",
           "ticks": "",
           "title": {
            "standoff": 15
           },
           "zerolinecolor": "white",
           "zerolinewidth": 2
          }
         }
        },
        "xaxis": {
         "title": {
          "text": "Random Seed"
         }
        },
        "yaxis": {
         "title": {
          "text": "Fuel [gal]"
         }
        }
       }
      },
      "text/html": [
       "<div>                            <div id=\"ac166b9d-1004-4c48-add2-efccd20649d6\" class=\"plotly-graph-div\" style=\"height:525px; width:100%;\"></div>            <script type=\"text/javascript\">                require([\"plotly\"], function(Plotly) {                    window.PLOTLYENV=window.PLOTLYENV || {};                                    if (document.getElementById(\"ac166b9d-1004-4c48-add2-efccd20649d6\")) {                    Plotly.newPlot(                        \"ac166b9d-1004-4c48-add2-efccd20649d6\",                        [{\"mode\":\"markers\",\"x\":[84.04230002868194,84.07770538866188,84.17076213321542,83.72912425221719,83.87392056937598,83.09602511737317,84.61763852180903,84.02088466917199,83.22504241714657,83.99414431232019,82.69365652632179,83.87633645685247,84.00755274860597,83.41020253759072,83.09836424973261,83.70177038763649,83.58179158055728,83.77826936572612,83.04023731962202,83.80497381526536,83.19637430684357,82.94185195348675,83.51072327040394,82.56625339798565,84.45479394512154,85.51636631038039,83.86209371922949,84.58533934036797,85.07328849401804,82.73714853977945,84.30648520753505,83.28617521270324,83.91450190547518,83.61850795174817,83.68932208185252,83.88844104262333,82.97995168703994,84.2717587196509,83.9935739276334,83.49813859557976,84.89885743820399,84.56125141409856,83.54418436576205,83.38643889087953,84.04765062712573,83.32836138126211,83.2203025740103,83.01892739860135,83.71634330540887,83.83650235688239,83.97461123820622,84.72900431918936,83.75651231176985,83.62395100868216,82.07817887365039,83.99514980775092,83.51634362305849,83.8218671011013,83.56291626364208,83.73683748108347,83.23725635078641,83.68458529066896,83.65211150563654,83.35113025949231,83.45060830899004,83.50261723589932,83.0875906344681,83.13764881032712,83.62448637134521,83.95711829315019,83.18128482888773,82.67916159599385,83.74314384746964,83.66261571527878,83.29552329629475,83.99481551723946,83.61833936515167,82.62939217078974,83.92840443341146,83.79265407399285,84.37924947185304,83.13292649157451,83.66246046838225,83.48065692982709,84.14761943378446,83.68218992242426,83.85644953273922,84.49661634137797,84.13879297661613,83.13760046789557,83.53381941680612,82.8046652507694,83.09068089147551,83.05186370389336,83.68952337734176,83.69555294414441,85.3936470093534,83.57574453545338,83.81258264964953,83.7565045322644],\"y\":[4593,4593,4594,4590,4583,4590,4596,4597,4591,4600,4594,4594,4573,4596,4592,4601,4601,4591,4587,4589,4606,4584,4587,4602,4603,4593,4597,4593,4599,4592,4595,4592,4603,4589,4588,4603,4601,4594,4600,4609,4600,4599,4596,4601,4587,4596,4585,4595,4596,4597,4597,4591,4609,4597,4594,4604,4604,4599,4603,4588,4594,4588,4596,4586,4597,4602,4597,4595,4590,4597,4602,4592,4592,4591,4593,4594,4603,4597,4586,4594,4591,4585,4600,4591,4596,4587,4591,4603,4589,4598,4589,4589,4586,4597,4599,4590,4590,4586,4594,4595],\"type\":\"scatter\"}],                        {\"template\":{\"data\":{\"histogram2dcontour\":[{\"type\":\"histogram2dcontour\",\"colorbar\":{\"outlinewidth\":0,\"ticks\":\"\"},\"colorscale\":[[0.0,\"#0d0887\"],[0.1111111111111111,\"#46039f\"],[0.2222222222222222,\"#7201a8\"],[0.3333333333333333,\"#9c179e\"],[0.4444444444444444,\"#bd3786\"],[0.5555555555555556,\"#d8576b\"],[0.6666666666666666,\"#ed7953\"],[0.7777777777777778,\"#fb9f3a\"],[0.8888888888888888,\"#fdca26\"],[1.0,\"#f0f921\"]]}],\"choropleth\":[{\"type\":\"choropleth\",\"colorbar\":{\"outlinewidth\":0,\"ticks\":\"\"}}],\"histogram2d\":[{\"type\":\"histogram2d\",\"colorbar\":{\"outlinewidth\":0,\"ticks\":\"\"},\"colorscale\":[[0.0,\"#0d0887\"],[0.1111111111111111,\"#46039f\"],[0.2222222222222222,\"#7201a8\"],[0.3333333333333333,\"#9c179e\"],[0.4444444444444444,\"#bd3786\"],[0.5555555555555556,\"#d8576b\"],[0.6666666666666666,\"#ed7953\"],[0.7777777777777778,\"#fb9f3a\"],[0.8888888888888888,\"#fdca26\"],[1.0,\"#f0f921\"]]}],\"heatmap\":[{\"type\":\"heatmap\",\"colorbar\":{\"outlinewidth\":0,\"ticks\":\"\"},\"colorscale\":[[0.0,\"#0d0887\"],[0.1111111111111111,\"#46039f\"],[0.2222222222222222,\"#7201a8\"],[0.3333333333333333,\"#9c179e\"],[0.4444444444444444,\"#bd3786\"],[0.5555555555555556,\"#d8576b\"],[0.6666666666666666,\"#ed7953\"],[0.7777777777777778,\"#fb9f3a\"],[0.8888888888888888,\"#fdca26\"],[1.0,\"#f0f921\"]]}],\"heatmapgl\":[{\"type\":\"heatmapgl\",\"colorbar\":{\"outlinewidth\":0,\"ticks\":\"\"},\"colorscale\":[[0.0,\"#0d0887\"],[0.1111111111111111,\"#46039f\"],[0.2222222222222222,\"#7201a8\"],[0.3333333333333333,\"#9c179e\"],[0.4444444444444444,\"#bd3786\"],[0.5555555555555556,\"#d8576b\"],[0.6666666666666666,\"#ed7953\"],[0.7777777777777778,\"#fb9f3a\"],[0.8888888888888888,\"#fdca26\"],[1.0,\"#f0f921\"]]}],\"contourcarpet\":[{\"type\":\"contourcarpet\",\"colorbar\":{\"outlinewidth\":0,\"ticks\":\"\"}}],\"contour\":[{\"type\":\"contour\",\"colorbar\":{\"outlinewidth\":0,\"ticks\":\"\"},\"colorscale\":[[0.0,\"#0d0887\"],[0.1111111111111111,\"#46039f\"],[0.2222222222222222,\"#7201a8\"],[0.3333333333333333,\"#9c179e\"],[0.4444444444444444,\"#bd3786\"],[0.5555555555555556,\"#d8576b\"],[0.6666666666666666,\"#ed7953\"],[0.7777777777777778,\"#fb9f3a\"],[0.8888888888888888,\"#fdca26\"],[1.0,\"#f0f921\"]]}],\"surface\":[{\"type\":\"surface\",\"colorbar\":{\"outlinewidth\":0,\"ticks\":\"\"},\"colorscale\":[[0.0,\"#0d0887\"],[0.1111111111111111,\"#46039f\"],[0.2222222222222222,\"#7201a8\"],[0.3333333333333333,\"#9c179e\"],[0.4444444444444444,\"#bd3786\"],[0.5555555555555556,\"#d8576b\"],[0.6666666666666666,\"#ed7953\"],[0.7777777777777778,\"#fb9f3a\"],[0.8888888888888888,\"#fdca26\"],[1.0,\"#f0f921\"]]}],\"mesh3d\":[{\"type\":\"mesh3d\",\"colorbar\":{\"outlinewidth\":0,\"ticks\":\"\"}}],\"scatter\":[{\"fillpattern\":{\"fillmode\":\"overlay\",\"size\":10,\"solidity\":0.2},\"type\":\"scatter\"}],\"parcoords\":[{\"type\":\"parcoords\",\"line\":{\"colorbar\":{\"outlinewidth\":0,\"ticks\":\"\"}}}],\"scatterpolargl\":[{\"type\":\"scatterpolargl\",\"marker\":{\"colorbar\":{\"outlinewidth\":0,\"ticks\":\"\"}}}],\"bar\":[{\"error_x\":{\"color\":\"#2a3f5f\"},\"error_y\":{\"color\":\"#2a3f5f\"},\"marker\":{\"line\":{\"color\":\"#E5ECF6\",\"width\":0.5},\"pattern\":{\"fillmode\":\"overlay\",\"size\":10,\"solidity\":0.2}},\"type\":\"bar\"}],\"scattergeo\":[{\"type\":\"scattergeo\",\"marker\":{\"colorbar\":{\"outlinewidth\":0,\"ticks\":\"\"}}}],\"scatterpolar\":[{\"type\":\"scatterpolar\",\"marker\":{\"colorbar\":{\"outlinewidth\":0,\"ticks\":\"\"}}}],\"histogram\":[{\"marker\":{\"pattern\":{\"fillmode\":\"overlay\",\"size\":10,\"solidity\":0.2}},\"type\":\"histogram\"}],\"scattergl\":[{\"type\":\"scattergl\",\"marker\":{\"colorbar\":{\"outlinewidth\":0,\"ticks\":\"\"}}}],\"scatter3d\":[{\"type\":\"scatter3d\",\"line\":{\"colorbar\":{\"outlinewidth\":0,\"ticks\":\"\"}},\"marker\":{\"colorbar\":{\"outlinewidth\":0,\"ticks\":\"\"}}}],\"scattermapbox\":[{\"type\":\"scattermapbox\",\"marker\":{\"colorbar\":{\"outlinewidth\":0,\"ticks\":\"\"}}}],\"scatterternary\":[{\"type\":\"scatterternary\",\"marker\":{\"colorbar\":{\"outlinewidth\":0,\"ticks\":\"\"}}}],\"scattercarpet\":[{\"type\":\"scattercarpet\",\"marker\":{\"colorbar\":{\"outlinewidth\":0,\"ticks\":\"\"}}}],\"carpet\":[{\"aaxis\":{\"endlinecolor\":\"#2a3f5f\",\"gridcolor\":\"white\",\"linecolor\":\"white\",\"minorgridcolor\":\"white\",\"startlinecolor\":\"#2a3f5f\"},\"baxis\":{\"endlinecolor\":\"#2a3f5f\",\"gridcolor\":\"white\",\"linecolor\":\"white\",\"minorgridcolor\":\"white\",\"startlinecolor\":\"#2a3f5f\"},\"type\":\"carpet\"}],\"table\":[{\"cells\":{\"fill\":{\"color\":\"#EBF0F8\"},\"line\":{\"color\":\"white\"}},\"header\":{\"fill\":{\"color\":\"#C8D4E3\"},\"line\":{\"color\":\"white\"}},\"type\":\"table\"}],\"barpolar\":[{\"marker\":{\"line\":{\"color\":\"#E5ECF6\",\"width\":0.5},\"pattern\":{\"fillmode\":\"overlay\",\"size\":10,\"solidity\":0.2}},\"type\":\"barpolar\"}],\"pie\":[{\"automargin\":true,\"type\":\"pie\"}]},\"layout\":{\"autotypenumbers\":\"strict\",\"colorway\":[\"#636efa\",\"#EF553B\",\"#00cc96\",\"#ab63fa\",\"#FFA15A\",\"#19d3f3\",\"#FF6692\",\"#B6E880\",\"#FF97FF\",\"#FECB52\"],\"font\":{\"color\":\"#2a3f5f\"},\"hovermode\":\"closest\",\"hoverlabel\":{\"align\":\"left\"},\"paper_bgcolor\":\"white\",\"plot_bgcolor\":\"#E5ECF6\",\"polar\":{\"bgcolor\":\"#E5ECF6\",\"angularaxis\":{\"gridcolor\":\"white\",\"linecolor\":\"white\",\"ticks\":\"\"},\"radialaxis\":{\"gridcolor\":\"white\",\"linecolor\":\"white\",\"ticks\":\"\"}},\"ternary\":{\"bgcolor\":\"#E5ECF6\",\"aaxis\":{\"gridcolor\":\"white\",\"linecolor\":\"white\",\"ticks\":\"\"},\"baxis\":{\"gridcolor\":\"white\",\"linecolor\":\"white\",\"ticks\":\"\"},\"caxis\":{\"gridcolor\":\"white\",\"linecolor\":\"white\",\"ticks\":\"\"}},\"coloraxis\":{\"colorbar\":{\"outlinewidth\":0,\"ticks\":\"\"}},\"colorscale\":{\"sequential\":[[0.0,\"#0d0887\"],[0.1111111111111111,\"#46039f\"],[0.2222222222222222,\"#7201a8\"],[0.3333333333333333,\"#9c179e\"],[0.4444444444444444,\"#bd3786\"],[0.5555555555555556,\"#d8576b\"],[0.6666666666666666,\"#ed7953\"],[0.7777777777777778,\"#fb9f3a\"],[0.8888888888888888,\"#fdca26\"],[1.0,\"#f0f921\"]],\"sequentialminus\":[[0.0,\"#0d0887\"],[0.1111111111111111,\"#46039f\"],[0.2222222222222222,\"#7201a8\"],[0.3333333333333333,\"#9c179e\"],[0.4444444444444444,\"#bd3786\"],[0.5555555555555556,\"#d8576b\"],[0.6666666666666666,\"#ed7953\"],[0.7777777777777778,\"#fb9f3a\"],[0.8888888888888888,\"#fdca26\"],[1.0,\"#f0f921\"]],\"diverging\":[[0,\"#8e0152\"],[0.1,\"#c51b7d\"],[0.2,\"#de77ae\"],[0.3,\"#f1b6da\"],[0.4,\"#fde0ef\"],[0.5,\"#f7f7f7\"],[0.6,\"#e6f5d0\"],[0.7,\"#b8e186\"],[0.8,\"#7fbc41\"],[0.9,\"#4d9221\"],[1,\"#276419\"]]},\"xaxis\":{\"gridcolor\":\"white\",\"linecolor\":\"white\",\"ticks\":\"\",\"title\":{\"standoff\":15},\"zerolinecolor\":\"white\",\"automargin\":true,\"zerolinewidth\":2},\"yaxis\":{\"gridcolor\":\"white\",\"linecolor\":\"white\",\"ticks\":\"\",\"title\":{\"standoff\":15},\"zerolinecolor\":\"white\",\"automargin\":true,\"zerolinewidth\":2},\"scene\":{\"xaxis\":{\"backgroundcolor\":\"#E5ECF6\",\"gridcolor\":\"white\",\"linecolor\":\"white\",\"showbackground\":true,\"ticks\":\"\",\"zerolinecolor\":\"white\",\"gridwidth\":2},\"yaxis\":{\"backgroundcolor\":\"#E5ECF6\",\"gridcolor\":\"white\",\"linecolor\":\"white\",\"showbackground\":true,\"ticks\":\"\",\"zerolinecolor\":\"white\",\"gridwidth\":2},\"zaxis\":{\"backgroundcolor\":\"#E5ECF6\",\"gridcolor\":\"white\",\"linecolor\":\"white\",\"showbackground\":true,\"ticks\":\"\",\"zerolinecolor\":\"white\",\"gridwidth\":2}},\"shapedefaults\":{\"line\":{\"color\":\"#2a3f5f\"}},\"annotationdefaults\":{\"arrowcolor\":\"#2a3f5f\",\"arrowhead\":0,\"arrowwidth\":1},\"geo\":{\"bgcolor\":\"white\",\"landcolor\":\"#E5ECF6\",\"subunitcolor\":\"white\",\"showland\":true,\"showlakes\":true,\"lakecolor\":\"white\"},\"title\":{\"x\":0.05},\"mapbox\":{\"style\":\"light\"}}},\"yaxis\":{\"title\":{\"text\":\"Fuel [gal]\"}},\"xaxis\":{\"title\":{\"text\":\"Random Seed\"}}},                        {\"responsive\": true}                    ).then(function(){\n",
       "                            \n",
       "var gd = document.getElementById('ac166b9d-1004-4c48-add2-efccd20649d6');\n",
       "var x = new MutationObserver(function (mutations, observer) {{\n",
       "        var display = window.getComputedStyle(gd).display;\n",
       "        if (!display || display === 'none') {{\n",
       "            console.log([gd, 'removed!']);\n",
       "            Plotly.purge(gd);\n",
       "            observer.disconnect();\n",
       "        }}\n",
       "}});\n",
       "\n",
       "// Listen for the removal of the full notebook cells\n",
       "var notebookContainer = gd.closest('#notebook-container');\n",
       "if (notebookContainer) {{\n",
       "    x.observe(notebookContainer, {childList: true});\n",
       "}}\n",
       "\n",
       "// Listen for the clearing of the current output cell\n",
       "var outputEl = gd.closest('.output');\n",
       "if (outputEl) {{\n",
       "    x.observe(outputEl, {childList: true});\n",
       "}}\n",
       "\n",
       "                        })                };                });            </script>        </div>"
      ]
     },
     "metadata": {},
     "output_type": "display_data"
    }
   ],
   "source": [
    "fig = go.Figure()\n",
    "# for r in results_dfs:\n",
    "fig.add_trace(go.Scatter(x=results_df['Fuel_Gal'], y=results_df.all_total_vehicles, mode='markers'))\n",
    "# fig.add_trace(go.Scatter(x=results_df.index, y=results_df['Fuel [gal]'], mode='markers', name=\"Samples\", ))\n",
    "# fig.add_trace(go.Scatter(x=results_poisson_df.index, y=results_poisson_df['Fuel [gal]'], mode='markers', name=\"Samples\", ))\n",
    "# fig.add_trace(go.Scatter(x=grouped.index, y=grouped['Fuel [gal]'], mode='lines+markers', name=\"Sample Average\"))\n",
    "# fig.add_trace(go.Scatter(x=grouped.index, y=grouped['Fuel [gal]'] + grouped_std['Fuel [gal]'], mode='lines+markers', name=\"+1 std dev\"))\n",
    "# fig.add_trace(go.Scatter(x=grouped.index, y=grouped['Fuel [gal]'] - grouped_std['Fuel [gal]'], mode='lines+markers', name=\"-1 std dev\"))\n",
    "fig.update_layout(yaxis=dict(title=\"Fuel [gal]\"),\n",
    "                  xaxis=dict(title='Random Seed')\n",
    "                 )\n",
    "fig.show()"
   ]
  },
  {
   "cell_type": "markdown",
   "id": "bd7ee976-0c7d-441f-9772-f547ea777c16",
   "metadata": {},
   "source": [
    "## Plotting with Plotly"
   ]
  },
  {
   "cell_type": "code",
   "execution_count": 24,
   "id": "904161d6",
   "metadata": {},
   "outputs": [
    {
     "data": {
      "application/vnd.plotly.v1+json": {
       "config": {
        "plotlyServerURL": "https://plot.ly"
       },
       "data": [
        {
         "autobinx": false,
         "histnorm": "probability density",
         "legendgroup": "Fuel",
         "marker": {
          "color": "rgb(31, 119, 180)"
         },
         "name": "Fuel",
         "opacity": 0.7,
         "type": "histogram",
         "x": [
          42.448647942521234,
          43.29581537121707,
          42.22580975185024,
          41.87346187363835,
          42.04062404538512,
          39.72996732026144,
          44.03756744995648,
          43.06993691537959,
          41.490921367893705,
          41.50856739130435,
          39.239714845450585,
          42.14005441880714,
          43.98246446534004,
          40.7087815491732,
          39.18090810104529,
          41.1132405998696,
          40.75031297544012,
          41.5851143541712,
          39.19851318944845,
          40.52444977119198,
          40.23073816760747,
          39.92838568935428,
          41.39189884456072,
          40.32413515862668,
          42.60642189876168,
          45.29350533420423,
          41.82172286273657,
          44.5111038536904,
          44.8681409001957,
          39.75481925087108,
          43.38210663764962,
          41.550405052264814,
          42.44808168585705,
          40.82274569623012,
          43.78470139494333,
          42.283617206169886,
          40.198052597261466,
          42.65272529386156,
          41.09406086956522,
          41.23673681926665,
          45.45946086956521,
          44.91187432050446,
          40.629497389033936,
          41.2607128885025,
          41.67868323523,
          42.309960835509145,
          40.812372955288986,
          40.35533623503809,
          41.9179003481288,
          42.37037633239069,
          42.00134653034588,
          43.11104334567632,
          41.51085050987199,
          42.293532738742655,
          38.454939050936,
          43.48354039965248,
          42.679089921807126,
          42.85714068275712,
          39.76314794699109,
          40.25630557977332,
          40.62129081410535,
          42.39782476024411,
          41.62062010443864,
          40.41705625817706,
          41.0809767239504,
          40.47790960451977,
          39.41893408744833,
          40.3511860718172,
          41.49277995642702,
          41.72239721557537,
          39.412848761408085,
          39.14704703832752,
          40.7534081010453,
          42.215966020474845,
          41.14527541911605,
          43.333012625163256,
          39.17812079078862,
          38.25282793125952,
          44.01477758395116,
          40.08620156726165,
          42.52290568503594,
          39.770850599781895,
          41.33863913043478,
          41.920233064691786,
          42.84595082680592,
          41.80470241988228,
          42.591624918318445,
          42.0944232022594,
          42.00522989758117,
          38.660443671161374,
          40.823998692525606,
          39.40729134887775,
          39.86367204535543,
          41.37400261039809,
          41.64471406827571,
          41.88198039215686,
          46.19967320261438,
          42.843168338421286,
          42.833776665215495,
          41.77472034820457
         ],
         "xaxis": "x",
         "xbins": {
          "end": 46.19967320261438,
          "size": 0.5,
          "start": 38.25282793125952
         },
         "yaxis": "y"
        },
        {
         "legendgroup": "Fuel",
         "marker": {
          "color": "rgb(31, 119, 180)"
         },
         "mode": "lines",
         "name": "Fuel",
         "showlegend": false,
         "type": "scatter",
         "x": [
          38.25282793125952,
          38.26872162180223,
          38.28461531234494,
          38.300509002887644,
          38.316402693430355,
          38.332296383973066,
          38.34819007451578,
          38.36408376505849,
          38.37997745560119,
          38.395871146143904,
          38.411764836686615,
          38.427658527229326,
          38.44355221777204,
          38.45944590831474,
          38.47533959885745,
          38.491233289400164,
          38.507126979942875,
          38.523020670485586,
          38.53891436102829,
          38.554808051571,
          38.57070174211371,
          38.586595432656424,
          38.602489123199135,
          38.61838281374184,
          38.63427650428455,
          38.65017019482726,
          38.66606388536997,
          38.681957575912676,
          38.69785126645539,
          38.7137449569981,
          38.72963864754081,
          38.74553233808352,
          38.761426028626225,
          38.777319719168936,
          38.79321340971165,
          38.80910710025436,
          38.82500079079707,
          38.840894481339774,
          38.856788171882485,
          38.872681862425196,
          38.88857555296791,
          38.90446924351062,
          38.92036293405332,
          38.936256624596034,
          38.952150315138745,
          38.968044005681456,
          38.98393769622417,
          38.99983138676687,
          39.01572507730958,
          39.031618767852294,
          39.047512458395005,
          39.063406148937716,
          39.07929983948042,
          39.09519353002313,
          39.11108722056584,
          39.126980911108554,
          39.142874601651265,
          39.15876829219397,
          39.17466198273668,
          39.19055567327939,
          39.2064493638221,
          39.22234305436481,
          39.23823674490752,
          39.25413043545023,
          39.27002412599294,
          39.28591781653565,
          39.30181150707836,
          39.317705197621066,
          39.33359888816378,
          39.34949257870649,
          39.3653862692492,
          39.38127995979191,
          39.397173650334615,
          39.413067340877326,
          39.42896103142004,
          39.44485472196275,
          39.46074841250545,
          39.476642103048164,
          39.492535793590875,
          39.508429484133586,
          39.5243231746763,
          39.540216865219,
          39.55611055576171,
          39.572004246304424,
          39.587897936847135,
          39.603791627389846,
          39.61968531793255,
          39.63557900847526,
          39.65147269901797,
          39.667366389560684,
          39.683260080103395,
          39.6991537706461,
          39.71504746118881,
          39.73094115173152,
          39.74683484227423,
          39.76272853281694,
          39.77862222335965,
          39.79451591390236,
          39.81040960444507,
          39.82630329498778,
          39.84219698553049,
          39.858090676073196,
          39.87398436661591,
          39.88987805715862,
          39.90577174770133,
          39.92166543824404,
          39.937559128786745,
          39.953452819329456,
          39.96934650987217,
          39.98524020041488,
          40.00113389095759,
          40.017027581500294,
          40.032921272043005,
          40.048814962585716,
          40.06470865312843,
          40.08060234367114,
          40.09649603421384,
          40.112389724756554,
          40.128283415299265,
          40.144177105841976,
          40.16007079638469,
          40.17596448692739,
          40.1918581774701,
          40.207751868012814,
          40.223645558555525,
          40.23953924909823,
          40.25543293964094,
          40.27132663018365,
          40.28722032072636,
          40.303114011269074,
          40.319007701811785,
          40.33490139235449,
          40.3507950828972,
          40.36668877343991,
          40.38258246398262,
          40.398476154525326,
          40.41436984506804,
          40.43026353561075,
          40.44615722615346,
          40.46205091669617,
          40.477944607238875,
          40.493838297781586,
          40.5097319883243,
          40.52562567886701,
          40.54151936940972,
          40.557413059952424,
          40.573306750495135,
          40.589200441037846,
          40.60509413158056,
          40.62098782212327,
          40.63688151266597,
          40.652775203208684,
          40.668668893751395,
          40.684562584294106,
          40.70045627483682,
          40.71634996537952,
          40.73224365592223,
          40.748137346464944,
          40.764031037007655,
          40.779924727550366,
          40.79581841809307,
          40.81171210863578,
          40.82760579917849,
          40.843499489721204,
          40.85939318026391,
          40.87528687080662,
          40.89118056134933,
          40.90707425189204,
          40.92296794243475,
          40.93886163297746,
          40.95475532352017,
          40.97064901406288,
          40.98654270460559,
          41.0024363951483,
          41.018330085691005,
          41.034223776233716,
          41.05011746677643,
          41.06601115731914,
          41.08190484786185,
          41.09779853840456,
          41.113692228947265,
          41.129585919489976,
          41.14547961003269,
          41.1613733005754,
          41.1772669911181,
          41.193160681660814,
          41.209054372203525,
          41.224948062746236,
          41.24084175328895,
          41.25673544383165,
          41.27262913437436,
          41.288522824917074,
          41.304416515459785,
          41.320310206002496,
          41.3362038965452,
          41.35209758708791,
          41.36799127763062,
          41.383884968173334,
          41.399778658716045,
          41.41567234925875,
          41.43156603980146,
          41.44745973034417,
          41.46335342088688,
          41.47924711142959,
          41.4951408019723,
          41.51103449251501,
          41.52692818305772,
          41.54282187360043,
          41.55871556414314,
          41.574609254685846,
          41.59050294522856,
          41.60639663577127,
          41.62229032631398,
          41.63818401685669,
          41.654077707399395,
          41.669971397942106,
          41.68586508848482,
          41.70175877902753,
          41.71765246957024,
          41.733546160112944,
          41.749439850655655,
          41.765333541198366,
          41.78122723174108,
          41.79712092228378,
          41.81301461282649,
          41.828908303369204,
          41.844801993911915,
          41.860695684454626,
          41.87658937499734,
          41.89248306554004,
          41.90837675608275,
          41.924270446625464,
          41.940164137168175,
          41.95605782771088,
          41.97195151825359,
          41.9878452087963,
          42.00373889933901,
          42.019632589881724,
          42.03552628042443,
          42.05141997096714,
          42.06731366150985,
          42.08320735205256,
          42.09910104259527,
          42.114994733137976,
          42.13088842368069,
          42.1467821142234,
          42.16267580476611,
          42.17856949530882,
          42.194463185851525,
          42.210356876394236,
          42.22625056693695,
          42.24214425747966,
          42.25803794802237,
          42.273931638565074,
          42.289825329107785,
          42.305719019650496,
          42.32161271019321,
          42.33750640073592,
          42.35340009127862,
          42.369293781821334,
          42.385187472364045,
          42.401081162906756,
          42.41697485344947,
          42.43286854399217,
          42.44876223453488,
          42.464655925077594,
          42.480549615620305,
          42.496443306163016,
          42.51233699670572,
          42.52823068724843,
          42.54412437779114,
          42.560018068333854,
          42.57591175887656,
          42.59180544941927,
          42.60769913996198,
          42.62359283050469,
          42.6394865210474,
          42.65538021159011,
          42.67127390213282,
          42.68716759267553,
          42.70306128321824,
          42.71895497376095,
          42.734848664303655,
          42.750742354846366,
          42.76663604538908,
          42.78252973593179,
          42.7984234264745,
          42.814317117017204,
          42.830210807559915,
          42.846104498102626,
          42.86199818864534,
          42.87789187918805,
          42.89378556973075,
          42.909679260273464,
          42.925572950816175,
          42.941466641358886,
          42.9573603319016,
          42.9732540224443,
          42.98914771298701,
          43.005041403529724,
          43.020935094072435,
          43.036828784615146,
          43.05272247515785,
          43.06861616570056,
          43.08450985624327,
          43.100403546785984,
          43.116297237328695,
          43.1321909278714,
          43.14808461841411,
          43.16397830895682,
          43.17987199949953,
          43.195765690042236,
          43.21165938058495,
          43.22755307112766,
          43.24344676167037,
          43.25934045221308,
          43.27523414275579,
          43.291127833298496,
          43.30702152384121,
          43.32291521438392,
          43.33880890492663,
          43.354702595469334,
          43.370596286012045,
          43.386489976554756,
          43.40238366709747,
          43.41827735764018,
          43.43417104818289,
          43.450064738725594,
          43.465958429268305,
          43.481852119811016,
          43.49774581035373,
          43.51363950089643,
          43.52953319143914,
          43.545426881981854,
          43.561320572524565,
          43.577214263067276,
          43.59310795360998,
          43.60900164415269,
          43.6248953346954,
          43.640789025238114,
          43.656682715780825,
          43.67257640632353,
          43.68847009686624,
          43.70436378740895,
          43.72025747795166,
          43.736151168494374,
          43.75204485903708,
          43.76793854957979,
          43.7838322401225,
          43.79972593066521,
          43.815619621207915,
          43.831513311750626,
          43.84740700229334,
          43.86330069283605,
          43.87919438337876,
          43.89508807392147,
          43.910981764464175,
          43.926875455006886,
          43.9427691455496,
          43.95866283609231,
          43.97455652663501,
          43.990450217177724,
          44.006343907720435,
          44.022237598263146,
          44.03813128880586,
          44.05402497934857,
          44.06991866989127,
          44.085812360433984,
          44.101706050976695,
          44.117599741519406,
          44.13349343206211,
          44.14938712260482,
          44.16528081314753,
          44.181174503690244,
          44.197068194232955,
          44.212961884775666,
          44.22885557531837,
          44.24474926586108,
          44.26064295640379,
          44.276536646946504,
          44.29243033748921,
          44.30832402803192,
          44.32421771857463,
          44.34011140911734,
          44.35600509966005,
          44.37189879020276,
          44.38779248074547,
          44.40368617128818,
          44.41957986183089,
          44.4354735523736,
          44.451367242916305,
          44.467260933459016,
          44.48315462400173,
          44.49904831454444,
          44.51494200508715,
          44.53083569562986,
          44.546729386172565,
          44.562623076715276,
          44.57851676725799,
          44.5944104578007,
          44.6103041483434,
          44.626197838886114,
          44.642091529428825,
          44.657985219971536,
          44.67387891051425,
          44.68977260105695,
          44.70566629159966,
          44.721559982142374,
          44.737453672685085,
          44.753347363227796,
          44.7692410537705,
          44.78513474431321,
          44.80102843485592,
          44.816922125398634,
          44.832815815941345,
          44.84870950648405,
          44.86460319702676,
          44.88049688756947,
          44.89639057811218,
          44.912284268654886,
          44.9281779591976,
          44.94407164974031,
          44.95996534028302,
          44.97585903082573,
          44.99175272136844,
          45.007646411911146,
          45.02354010245386,
          45.03943379299657,
          45.05532748353928,
          45.071221174081984,
          45.087114864624695,
          45.103008555167406,
          45.11890224571012,
          45.13479593625283,
          45.15068962679554,
          45.166583317338244,
          45.182477007880955,
          45.198370698423666,
          45.21426438896638,
          45.23015807950908,
          45.24605177005179,
          45.261945460594504,
          45.277839151137215,
          45.293732841679926,
          45.30962653222264,
          45.32552022276534,
          45.34141391330805,
          45.357307603850764,
          45.373201294393475,
          45.38909498493618,
          45.40498867547889,
          45.4208823660216,
          45.43677605656431,
          45.452669747107024,
          45.46856343764973,
          45.48445712819244,
          45.50035081873515,
          45.51624450927786,
          45.53213819982057,
          45.548031890363276,
          45.56392558090599,
          45.5798192714487,
          45.59571296199141,
          45.61160665253412,
          45.627500343076825,
          45.643394033619536,
          45.65928772416225,
          45.67518141470496,
          45.69107510524767,
          45.706968795790374,
          45.722862486333085,
          45.738756176875796,
          45.75464986741851,
          45.77054355796122,
          45.78643724850392,
          45.802330939046634,
          45.818224629589345,
          45.834118320132056,
          45.85001201067476,
          45.86590570121747,
          45.88179939176018,
          45.897693082302894,
          45.913586772845605,
          45.92948046338831,
          45.94537415393102,
          45.96126784447373,
          45.97716153501644,
          45.993055225559154,
          46.00894891610186,
          46.02484260664457,
          46.04073629718728,
          46.05662998772999,
          46.0725236782727,
          46.088417368815406,
          46.10431105935812,
          46.12020474990083,
          46.13609844044354,
          46.15199213098625,
          46.167885821528955,
          46.183779512071666
         ],
         "xaxis": "x",
         "y": [
          0.03396869871794402,
          0.034808959248699145,
          0.03566123582157309,
          0.03652549030844247,
          0.03740167776265782,
          0.038289746138078035,
          0.03918963600903565,
          0.04010128029319859,
          0.041024603979373554,
          0.04195952386235598,
          0.042905948286985955,
          0.04386377690359825,
          0.04483290043707995,
          0.04581320047174821,
          0.04680454925425128,
          0.04780680951666244,
          0.04881983432190083,
          0.04984346693353852,
          0.05087754071197705,
          0.05192187903888949,
          0.05297629527169084,
          0.05404059272969463,
          0.05511456471345093,
          0.05619799455860493,
          0.057290655725454144,
          0.05839231192517233,
          0.0595027172834992,
          0.06062161654245715,
          0.061748745300464196,
          0.06288383029095927,
          0.06402658969945255,
          0.06517673351865177,
          0.06633396394108476,
          0.06749797578840434,
          0.06866845697629768,
          0.06984508901371435,
          0.07102754753485833,
          0.07221550286218759,
          0.07340862059842682,
          0.07460656224538614,
          0.07580898584718843,
          0.07701554665530823,
          0.078225897812654,
          0.07943969105377018,
          0.08065657741808539,
          0.08187620797302277,
          0.08309823454367646,
          0.08432231044567932,
          0.08554809121782571,
          0.08677523535097266,
          0.08800340500973912,
          0.08923226674351628,
          0.09046149218334043,
          0.09169075872124514,
          0.09291975016876632,
          0.09414815739140471,
          0.09537567891595297,
          0.09660202150774973,
          0.09782690071510043,
          0.0990500413782725,
          0.10027117810070853,
          0.10149005568029748,
          0.10270642949880783,
          0.10392006586783352,
          0.10513074232986336,
          0.10633824791338901,
          0.10754238334122333,
          0.10874296119152307,
          0.10993980601129513,
          0.11113275438246542,
          0.11232165494090465,
          0.1135063683490948,
          0.11468676722341878,
          0.11586273601734379,
          0.11703417086205423,
          0.11820097936635199,
          0.11936308037790724,
          0.12052040370817875,
          0.1216728898235433,
          0.1228204895053917,
          0.12396316348212585,
          0.12510088203615552,
          0.12623362458913556,
          0.1273613792687983,
          0.12848414246083348,
          0.12960191834932114,
          0.13071471844926966,
          0.13182256113481639,
          0.13292547116662912,
          0.13402347922201108,
          0.13511662143112965,
          0.13620493892268842,
          0.13728847738225225,
          0.13836728662625847,
          0.13944142019459932,
          0.14051093496443642,
          0.14157589078770563,
          0.14263635015452036,
          0.1436923778844162,
          0.14474404084712103,
          0.14579140771422083,
          0.1468345487428029,
          0.14787353559184077,
          0.14890844117175345,
          0.14993933952725674,
          0.15096630575328626,
          0.15198941594344123,
          0.15300874717006568,
          0.15402437749476663,
          0.15503638600784175,
          0.15604485289478956,
          0.1570498595277717,
          0.15805148857962106,
          0.15904982415771576,
          0.16004495195481058,
          0.1610369594136719,
          0.16202593590217074,
          0.16301197289531857,
          0.16399516416055612,
          0.164975605942513,
          0.16595339714333626,
          0.16692863949462997,
          0.16790143771702504,
          0.16887189966337102,
          0.169840136441602,
          0.1708062625133613,
          0.17177039576458528,
          0.17273265754434997,
          0.17369317266846201,
          0.17465206938444036,
          0.1756094792947602,
          0.17656553723547266,
          0.17752038110757914,
          0.1784741516588307,
          0.17942699221394606,
          0.18037904835157356,
          0.18133046752668192,
          0.1822813986374292,
          0.1832319915359583,
          0.18418239648295717,
          0.18513276354622987,
          0.1860832419439352,
          0.18703397933357485,
          0.18798512104821555,
          0.1889368092818572,
          0.18988918222625842,
          0.1908423731619343,
          0.19179650950642932,
          0.1927517118233491,
          0.19370809279598653,
          0.19466575616971907,
          0.19562479566768276,
          0.19658529388450277,
          0.19754732116315396,
          0.19851093446024778,
          0.19947617620525446,
          0.20044307315936546,
          0.20141163527982142,
          0.20238185459567137,
          0.203353704100987,
          0.20432713667160596,
          0.2053020840114902,
          0.2062784556347359,
          0.20725613788923258,
          0.20823499302784432,
          0.20921485833284903,
          0.21019554529922044,
          0.2111768388820937,
          0.21215849681355325,
          0.21314024899358108,
          0.21412179695971825,
          0.21510281343966078,
          0.21608294199064285,
          0.21706179672911272,
          0.2180389621537608,
          0.21901399306459038,
          0.2199864145802387,
          0.22095572225534613,
          0.22192138229928085,
          0.2228828318970787,
          0.22383947963296916,
          0.22479070601639392,
          0.22573586410993707,
          0.2266742802581232,
          0.22760525491556977,
          0.22852806357252006,
          0.2294419577753359,
          0.2303461662391057,
          0.23123989604909786,
          0.23212233394740003,
          0.23299264770069955,
          0.2338499875448268,
          0.2346934877013269,
          0.2355222679610568,
          0.23633543532950219,
          0.2371320857282869,
          0.23791130574711877,
          0.23867217444024355,
          0.2394137651613271,
          0.24013514743055533,
          0.2408353888276801,
          0.24151355690465556,
          0.24216872111151683,
          0.24279995472914173,
          0.2434063368025888,
          0.2439869540687737,
          0.24454090287234403,
          0.24506729106374697,
          0.24556523987363202,
          0.24603388575791754,
          0.24647238220805162,
          0.24687990152121858,
          0.247255636525497,
          0.24759880225522907,
          0.24790863757214443,
          0.24818440672807807,
          0.24842540086541354,
          0.24863093945171538,
          0.24880037164532057,
          0.24893307758899225,
          0.24902846962907046,
          0.24908599345788174,
          0.2491051291775042,
          0.24908539228331003,
          0.24902633456603093,
          0.24892754493141014,
          0.24878865013681392,
          0.24860931544447518,
          0.24838924519132755,
          0.24812818327567257,
          0.24782591356117797,
          0.24748226019896186,
          0.24709708786874648,
          0.2466703019402887,
          0.24620184855649238,
          0.24569171463980033,
          0.24513992782362445,
          0.24454655631073044,
          0.24391170866062958,
          0.24323553350813987,
          0.24251821921539427,
          0.2417599934596409,
          0.24096112275927306,
          0.2401219119405566,
          0.2392427035475799,
          0.23832387719797832,
          0.2373658488869831,
          0.23636907024236795,
          0.23533402773284187,
          0.23426124183242486,
          0.23315126614331783,
          0.23200468647974012,
          0.23082211991516152,
          0.2296042137953188,
          0.22835164471934294,
          0.22706511749128472,
          0.22574536404424025,
          0.22439314233925084,
          0.2230092352410607,
          0.22159444937278044,
          0.22014961395142907,
          0.2186755796062677,
          0.21717321718179514,
          0.2156434165272124,
          0.21408708527410858,
          0.21250514760409742,
          0.21089854300805636,
          0.2092682250386084,
          0.20761516005745737,
          0.2059403259791231,
          0.20424471101264885,
          0.2025293124027869,
          0.20079513517218442,
          0.199043190866062,
          0.1972744963008917,
          0.1954900723185376,
          0.19369094254737879,
          0.19187813217187671,
          0.19005266671210078,
          0.18821557081470255,
          0.18636786705686173,
          0.1845105747647046,
          0.18264470884773434,
          0.1807712786508013,
          0.178891286825161,
          0.1770057282201655,
          0.1751155887971334,
          0.17322184456695983,
          0.17132546055300502,
          0.169427389780821,
          0.167528572296227,
          0.16562993421326724,
          0.16373238679353494,
          0.16183682555834353,
          0.1599441294351765,
          0.1580551599398094,
          0.15617076039546907,
          0.15429175519032803,
          0.15241894907457304,
          0.150553126498247,
          0.14869505099094849,
          0.14684546458443254,
          0.14500508727906716,
          0.14317461655497293,
          0.14135472692863513,
          0.13954606955561266,
          0.13774927187990527,
          0.13596493733040194,
          0.13419364506471568,
          0.13243594976060594,
          0.13069238145502213,
          0.12896344543072416,
          0.12724962215024244,
          0.12555136723686505,
          0.1238691115021463,
          0.122203261019331,
          0.12055419724193618,
          0.11892227716658667,
          0.117307833539083,
          0.11571117510252862,
          0.11413258688621154,
          0.1125723305338226,
          0.11103064466944479,
          0.10950774529965651,
          0.10800382624994208,
          0.10651905963352717,
          0.10505359635063237,
          0.10360756661606553,
          0.10218108051295505,
          0.10077422857039202,
          0.09938708236263642,
          0.09801969512751883,
          0.09667210240159509,
          0.09534432266959753,
          0.09403635802566783,
          0.0927481948438649,
          0.09147980445543258,
          0.09023114383029465,
          0.08900215626029818,
          0.08779277204171765,
          0.08660290915460042,
          0.0854324739365691,
          0.08428136174876139,
          0.08314945763167314,
          0.08203663694872643,
          0.0809427660155164,
          0.07986770271275712,
          0.07881129708108482,
          0.07777339189599461,
          0.07675382322130349,
          0.07575242093968987,
          0.07476900925898773,
          0.07380340719308182,
          0.0728554290163826,
          0.07192488469105056,
          0.07101158026627397,
          0.07011531824909441,
          0.06923589794642847,
          0.06837311577811683,
          0.06752676556098561,
          0.06669663876408698,
          0.06588252473545277,
          0.06508421090084167,
          0.06430148293514742,
          0.06353412490726221,
          0.06278191939936037,
          0.062044647601696916,
          0.0613220893841542,
          0.06061402334590173,
          0.05992022684463676,
          0.05924047600700159,
          0.05857454572184786,
          0.057922209618126205,
          0.057283240029233316,
          0.05665740794572657,
          0.05604448295835752,
          0.055444233193414995,
          0.05485642524239114,
          0.05428082408799839,
          0.05371719302855861,
          0.0531652936027708,
          0.052624885516836375,
          0.052095726575883336,
          0.05157757262156576,
          0.051070177477660676,
          0.05057329290539732,
          0.050086668570173284,
          0.04961005202119862,
          0.04914318868551611,
          0.048685821877708944,
          0.04823769282649315,
          0.04779854071924634,
          0.047368102765390684,
          0.04694611427938978,
          0.04653230878397451,
          0.04612641813405258,
          0.045728172661594436,
          0.04533730134162857,
          0.04495353197931979,
          0.04457659141793393,
          0.044206205767339884,
          0.04384210065253578,
          0.04348400148153634,
          0.043131633731800595,
          0.04278472325424384,
          0.04244299659372972,
          0.04210618132481224,
          0.041774006401376025,
          0.04144620251870059,
          0.041122502486379574,
          0.04080264161042397,
          0.04048635808279795,
          0.04017339337656403,
          0.03986349264475219,
          0.03955640512101885,
          0.03925188452012856,
          0.03894968943626429,
          0.03864958373716646,
          0.03835133695209651,
          0.038054724651642564,
          0.037759528817407455,
          0.03746553819966243,
          0.03717254866110026,
          0.03688036350488429,
          0.03658879378526765,
          0.036297658599140345,
          0.0360067853569572,
          0.03571601003160929,
          0.0354251773839067,
          0.0351341411634749,
          0.03484276428398205,
          0.03455091897176467,
          0.034258486887047024,
          0.03396535921710518,
          0.03367143674087025,
          0.03337662986461961,
          0.03308085862855722,
          0.032784052684240374,
          0.03248615124296278,
          0.032187102995355786,
          0.03188686600262281,
          0.031585407559969546,
          0.03128270403293202,
          0.030978740667449087,
          0.030673511374654756,
          0.030367018491494216,
          0.03005927251838643,
          0.029750291835267947,
          0.029440102397453212,
          0.029128737412844205,
          0.02881623700210182,
          0.02850264784347101,
          0.028188022804007656,
          0.027872420559015083,
          0.027555905201534517,
          0.027238545843768246,
          0.026920416212330236,
          0.026601594239227474,
          0.026282161650473854,
          0.025962203554222126,
          0.025641808030273147,
          0.025321065722790373,
          0.02500006943799358,
          0.02467891374855605,
          0.02435769460636306,
          0.024036508965208793,
          0.02371545441493627,
          0.023394628828422998,
          0.023074130022726364,
          0.022754055435593546,
          0.02243450181843219,
          0.022115564946725147,
          0.02179733934875211,
          0.021479918053358468,
          0.02116339235739078,
          0.02084785161328802,
          0.020533383037196498,
          0.020220071537842877,
          0.019907999566281077,
          0.01959724698649918,
          0.01928789096675574,
          0.01898000589139281,
          0.018673663292759643,
          0.01836893180277288,
          0.01806587712353194,
          0.01776456201631325,
          0.01746504630816933,
          0.01716738691527912,
          0.01687163788211344,
          0.016577850435412732,
          0.016286073051909513,
          0.015996351538673872,
          0.015708729124917616,
          0.015423246564053378,
          0.015139942244777141,
          0.014858852309926557,
          0.014580010781851425,
          0.014303449693035177,
          0.014029199220713117,
          0.013757287824242088
         ],
         "yaxis": "y"
        },
        {
         "legendgroup": "Fuel",
         "marker": {
          "color": "rgb(31, 119, 180)",
          "symbol": "line-ns-open"
         },
         "mode": "markers",
         "name": "Fuel",
         "showlegend": false,
         "type": "scatter",
         "x": [
          42.448647942521234,
          43.29581537121707,
          42.22580975185024,
          41.87346187363835,
          42.04062404538512,
          39.72996732026144,
          44.03756744995648,
          43.06993691537959,
          41.490921367893705,
          41.50856739130435,
          39.239714845450585,
          42.14005441880714,
          43.98246446534004,
          40.7087815491732,
          39.18090810104529,
          41.1132405998696,
          40.75031297544012,
          41.5851143541712,
          39.19851318944845,
          40.52444977119198,
          40.23073816760747,
          39.92838568935428,
          41.39189884456072,
          40.32413515862668,
          42.60642189876168,
          45.29350533420423,
          41.82172286273657,
          44.5111038536904,
          44.8681409001957,
          39.75481925087108,
          43.38210663764962,
          41.550405052264814,
          42.44808168585705,
          40.82274569623012,
          43.78470139494333,
          42.283617206169886,
          40.198052597261466,
          42.65272529386156,
          41.09406086956522,
          41.23673681926665,
          45.45946086956521,
          44.91187432050446,
          40.629497389033936,
          41.2607128885025,
          41.67868323523,
          42.309960835509145,
          40.812372955288986,
          40.35533623503809,
          41.9179003481288,
          42.37037633239069,
          42.00134653034588,
          43.11104334567632,
          41.51085050987199,
          42.293532738742655,
          38.454939050936,
          43.48354039965248,
          42.679089921807126,
          42.85714068275712,
          39.76314794699109,
          40.25630557977332,
          40.62129081410535,
          42.39782476024411,
          41.62062010443864,
          40.41705625817706,
          41.0809767239504,
          40.47790960451977,
          39.41893408744833,
          40.3511860718172,
          41.49277995642702,
          41.72239721557537,
          39.412848761408085,
          39.14704703832752,
          40.7534081010453,
          42.215966020474845,
          41.14527541911605,
          43.333012625163256,
          39.17812079078862,
          38.25282793125952,
          44.01477758395116,
          40.08620156726165,
          42.52290568503594,
          39.770850599781895,
          41.33863913043478,
          41.920233064691786,
          42.84595082680592,
          41.80470241988228,
          42.591624918318445,
          42.0944232022594,
          42.00522989758117,
          38.660443671161374,
          40.823998692525606,
          39.40729134887775,
          39.86367204535543,
          41.37400261039809,
          41.64471406827571,
          41.88198039215686,
          46.19967320261438,
          42.843168338421286,
          42.833776665215495,
          41.77472034820457
         ],
         "xaxis": "x",
         "y": [
          "Fuel",
          "Fuel",
          "Fuel",
          "Fuel",
          "Fuel",
          "Fuel",
          "Fuel",
          "Fuel",
          "Fuel",
          "Fuel",
          "Fuel",
          "Fuel",
          "Fuel",
          "Fuel",
          "Fuel",
          "Fuel",
          "Fuel",
          "Fuel",
          "Fuel",
          "Fuel",
          "Fuel",
          "Fuel",
          "Fuel",
          "Fuel",
          "Fuel",
          "Fuel",
          "Fuel",
          "Fuel",
          "Fuel",
          "Fuel",
          "Fuel",
          "Fuel",
          "Fuel",
          "Fuel",
          "Fuel",
          "Fuel",
          "Fuel",
          "Fuel",
          "Fuel",
          "Fuel",
          "Fuel",
          "Fuel",
          "Fuel",
          "Fuel",
          "Fuel",
          "Fuel",
          "Fuel",
          "Fuel",
          "Fuel",
          "Fuel",
          "Fuel",
          "Fuel",
          "Fuel",
          "Fuel",
          "Fuel",
          "Fuel",
          "Fuel",
          "Fuel",
          "Fuel",
          "Fuel",
          "Fuel",
          "Fuel",
          "Fuel",
          "Fuel",
          "Fuel",
          "Fuel",
          "Fuel",
          "Fuel",
          "Fuel",
          "Fuel",
          "Fuel",
          "Fuel",
          "Fuel",
          "Fuel",
          "Fuel",
          "Fuel",
          "Fuel",
          "Fuel",
          "Fuel",
          "Fuel",
          "Fuel",
          "Fuel",
          "Fuel",
          "Fuel",
          "Fuel",
          "Fuel",
          "Fuel",
          "Fuel",
          "Fuel",
          "Fuel",
          "Fuel",
          "Fuel",
          "Fuel",
          "Fuel",
          "Fuel",
          "Fuel",
          "Fuel",
          "Fuel",
          "Fuel",
          "Fuel"
         ],
         "yaxis": "y2"
        }
       ],
       "layout": {
        "barmode": "overlay",
        "hovermode": "closest",
        "legend": {
         "traceorder": "reversed"
        },
        "template": {
         "data": {
          "bar": [
           {
            "error_x": {
             "color": "#2a3f5f"
            },
            "error_y": {
             "color": "#2a3f5f"
            },
            "marker": {
             "line": {
              "color": "#E5ECF6",
              "width": 0.5
             },
             "pattern": {
              "fillmode": "overlay",
              "size": 10,
              "solidity": 0.2
             }
            },
            "type": "bar"
           }
          ],
          "barpolar": [
           {
            "marker": {
             "line": {
              "color": "#E5ECF6",
              "width": 0.5
             },
             "pattern": {
              "fillmode": "overlay",
              "size": 10,
              "solidity": 0.2
             }
            },
            "type": "barpolar"
           }
          ],
          "carpet": [
           {
            "aaxis": {
             "endlinecolor": "#2a3f5f",
             "gridcolor": "white",
             "linecolor": "white",
             "minorgridcolor": "white",
             "startlinecolor": "#2a3f5f"
            },
            "baxis": {
             "endlinecolor": "#2a3f5f",
             "gridcolor": "white",
             "linecolor": "white",
             "minorgridcolor": "white",
             "startlinecolor": "#2a3f5f"
            },
            "type": "carpet"
           }
          ],
          "choropleth": [
           {
            "colorbar": {
             "outlinewidth": 0,
             "ticks": ""
            },
            "type": "choropleth"
           }
          ],
          "contour": [
           {
            "colorbar": {
             "outlinewidth": 0,
             "ticks": ""
            },
            "colorscale": [
             [
              0,
              "#0d0887"
             ],
             [
              0.1111111111111111,
              "#46039f"
             ],
             [
              0.2222222222222222,
              "#7201a8"
             ],
             [
              0.3333333333333333,
              "#9c179e"
             ],
             [
              0.4444444444444444,
              "#bd3786"
             ],
             [
              0.5555555555555556,
              "#d8576b"
             ],
             [
              0.6666666666666666,
              "#ed7953"
             ],
             [
              0.7777777777777778,
              "#fb9f3a"
             ],
             [
              0.8888888888888888,
              "#fdca26"
             ],
             [
              1,
              "#f0f921"
             ]
            ],
            "type": "contour"
           }
          ],
          "contourcarpet": [
           {
            "colorbar": {
             "outlinewidth": 0,
             "ticks": ""
            },
            "type": "contourcarpet"
           }
          ],
          "heatmap": [
           {
            "colorbar": {
             "outlinewidth": 0,
             "ticks": ""
            },
            "colorscale": [
             [
              0,
              "#0d0887"
             ],
             [
              0.1111111111111111,
              "#46039f"
             ],
             [
              0.2222222222222222,
              "#7201a8"
             ],
             [
              0.3333333333333333,
              "#9c179e"
             ],
             [
              0.4444444444444444,
              "#bd3786"
             ],
             [
              0.5555555555555556,
              "#d8576b"
             ],
             [
              0.6666666666666666,
              "#ed7953"
             ],
             [
              0.7777777777777778,
              "#fb9f3a"
             ],
             [
              0.8888888888888888,
              "#fdca26"
             ],
             [
              1,
              "#f0f921"
             ]
            ],
            "type": "heatmap"
           }
          ],
          "heatmapgl": [
           {
            "colorbar": {
             "outlinewidth": 0,
             "ticks": ""
            },
            "colorscale": [
             [
              0,
              "#0d0887"
             ],
             [
              0.1111111111111111,
              "#46039f"
             ],
             [
              0.2222222222222222,
              "#7201a8"
             ],
             [
              0.3333333333333333,
              "#9c179e"
             ],
             [
              0.4444444444444444,
              "#bd3786"
             ],
             [
              0.5555555555555556,
              "#d8576b"
             ],
             [
              0.6666666666666666,
              "#ed7953"
             ],
             [
              0.7777777777777778,
              "#fb9f3a"
             ],
             [
              0.8888888888888888,
              "#fdca26"
             ],
             [
              1,
              "#f0f921"
             ]
            ],
            "type": "heatmapgl"
           }
          ],
          "histogram": [
           {
            "marker": {
             "pattern": {
              "fillmode": "overlay",
              "size": 10,
              "solidity": 0.2
             }
            },
            "type": "histogram"
           }
          ],
          "histogram2d": [
           {
            "colorbar": {
             "outlinewidth": 0,
             "ticks": ""
            },
            "colorscale": [
             [
              0,
              "#0d0887"
             ],
             [
              0.1111111111111111,
              "#46039f"
             ],
             [
              0.2222222222222222,
              "#7201a8"
             ],
             [
              0.3333333333333333,
              "#9c179e"
             ],
             [
              0.4444444444444444,
              "#bd3786"
             ],
             [
              0.5555555555555556,
              "#d8576b"
             ],
             [
              0.6666666666666666,
              "#ed7953"
             ],
             [
              0.7777777777777778,
              "#fb9f3a"
             ],
             [
              0.8888888888888888,
              "#fdca26"
             ],
             [
              1,
              "#f0f921"
             ]
            ],
            "type": "histogram2d"
           }
          ],
          "histogram2dcontour": [
           {
            "colorbar": {
             "outlinewidth": 0,
             "ticks": ""
            },
            "colorscale": [
             [
              0,
              "#0d0887"
             ],
             [
              0.1111111111111111,
              "#46039f"
             ],
             [
              0.2222222222222222,
              "#7201a8"
             ],
             [
              0.3333333333333333,
              "#9c179e"
             ],
             [
              0.4444444444444444,
              "#bd3786"
             ],
             [
              0.5555555555555556,
              "#d8576b"
             ],
             [
              0.6666666666666666,
              "#ed7953"
             ],
             [
              0.7777777777777778,
              "#fb9f3a"
             ],
             [
              0.8888888888888888,
              "#fdca26"
             ],
             [
              1,
              "#f0f921"
             ]
            ],
            "type": "histogram2dcontour"
           }
          ],
          "mesh3d": [
           {
            "colorbar": {
             "outlinewidth": 0,
             "ticks": ""
            },
            "type": "mesh3d"
           }
          ],
          "parcoords": [
           {
            "line": {
             "colorbar": {
              "outlinewidth": 0,
              "ticks": ""
             }
            },
            "type": "parcoords"
           }
          ],
          "pie": [
           {
            "automargin": true,
            "type": "pie"
           }
          ],
          "scatter": [
           {
            "fillpattern": {
             "fillmode": "overlay",
             "size": 10,
             "solidity": 0.2
            },
            "type": "scatter"
           }
          ],
          "scatter3d": [
           {
            "line": {
             "colorbar": {
              "outlinewidth": 0,
              "ticks": ""
             }
            },
            "marker": {
             "colorbar": {
              "outlinewidth": 0,
              "ticks": ""
             }
            },
            "type": "scatter3d"
           }
          ],
          "scattercarpet": [
           {
            "marker": {
             "colorbar": {
              "outlinewidth": 0,
              "ticks": ""
             }
            },
            "type": "scattercarpet"
           }
          ],
          "scattergeo": [
           {
            "marker": {
             "colorbar": {
              "outlinewidth": 0,
              "ticks": ""
             }
            },
            "type": "scattergeo"
           }
          ],
          "scattergl": [
           {
            "marker": {
             "colorbar": {
              "outlinewidth": 0,
              "ticks": ""
             }
            },
            "type": "scattergl"
           }
          ],
          "scattermapbox": [
           {
            "marker": {
             "colorbar": {
              "outlinewidth": 0,
              "ticks": ""
             }
            },
            "type": "scattermapbox"
           }
          ],
          "scatterpolar": [
           {
            "marker": {
             "colorbar": {
              "outlinewidth": 0,
              "ticks": ""
             }
            },
            "type": "scatterpolar"
           }
          ],
          "scatterpolargl": [
           {
            "marker": {
             "colorbar": {
              "outlinewidth": 0,
              "ticks": ""
             }
            },
            "type": "scatterpolargl"
           }
          ],
          "scatterternary": [
           {
            "marker": {
             "colorbar": {
              "outlinewidth": 0,
              "ticks": ""
             }
            },
            "type": "scatterternary"
           }
          ],
          "surface": [
           {
            "colorbar": {
             "outlinewidth": 0,
             "ticks": ""
            },
            "colorscale": [
             [
              0,
              "#0d0887"
             ],
             [
              0.1111111111111111,
              "#46039f"
             ],
             [
              0.2222222222222222,
              "#7201a8"
             ],
             [
              0.3333333333333333,
              "#9c179e"
             ],
             [
              0.4444444444444444,
              "#bd3786"
             ],
             [
              0.5555555555555556,
              "#d8576b"
             ],
             [
              0.6666666666666666,
              "#ed7953"
             ],
             [
              0.7777777777777778,
              "#fb9f3a"
             ],
             [
              0.8888888888888888,
              "#fdca26"
             ],
             [
              1,
              "#f0f921"
             ]
            ],
            "type": "surface"
           }
          ],
          "table": [
           {
            "cells": {
             "fill": {
              "color": "#EBF0F8"
             },
             "line": {
              "color": "white"
             }
            },
            "header": {
             "fill": {
              "color": "#C8D4E3"
             },
             "line": {
              "color": "white"
             }
            },
            "type": "table"
           }
          ]
         },
         "layout": {
          "annotationdefaults": {
           "arrowcolor": "#2a3f5f",
           "arrowhead": 0,
           "arrowwidth": 1
          },
          "autotypenumbers": "strict",
          "coloraxis": {
           "colorbar": {
            "outlinewidth": 0,
            "ticks": ""
           }
          },
          "colorscale": {
           "diverging": [
            [
             0,
             "#8e0152"
            ],
            [
             0.1,
             "#c51b7d"
            ],
            [
             0.2,
             "#de77ae"
            ],
            [
             0.3,
             "#f1b6da"
            ],
            [
             0.4,
             "#fde0ef"
            ],
            [
             0.5,
             "#f7f7f7"
            ],
            [
             0.6,
             "#e6f5d0"
            ],
            [
             0.7,
             "#b8e186"
            ],
            [
             0.8,
             "#7fbc41"
            ],
            [
             0.9,
             "#4d9221"
            ],
            [
             1,
             "#276419"
            ]
           ],
           "sequential": [
            [
             0,
             "#0d0887"
            ],
            [
             0.1111111111111111,
             "#46039f"
            ],
            [
             0.2222222222222222,
             "#7201a8"
            ],
            [
             0.3333333333333333,
             "#9c179e"
            ],
            [
             0.4444444444444444,
             "#bd3786"
            ],
            [
             0.5555555555555556,
             "#d8576b"
            ],
            [
             0.6666666666666666,
             "#ed7953"
            ],
            [
             0.7777777777777778,
             "#fb9f3a"
            ],
            [
             0.8888888888888888,
             "#fdca26"
            ],
            [
             1,
             "#f0f921"
            ]
           ],
           "sequentialminus": [
            [
             0,
             "#0d0887"
            ],
            [
             0.1111111111111111,
             "#46039f"
            ],
            [
             0.2222222222222222,
             "#7201a8"
            ],
            [
             0.3333333333333333,
             "#9c179e"
            ],
            [
             0.4444444444444444,
             "#bd3786"
            ],
            [
             0.5555555555555556,
             "#d8576b"
            ],
            [
             0.6666666666666666,
             "#ed7953"
            ],
            [
             0.7777777777777778,
             "#fb9f3a"
            ],
            [
             0.8888888888888888,
             "#fdca26"
            ],
            [
             1,
             "#f0f921"
            ]
           ]
          },
          "colorway": [
           "#636efa",
           "#EF553B",
           "#00cc96",
           "#ab63fa",
           "#FFA15A",
           "#19d3f3",
           "#FF6692",
           "#B6E880",
           "#FF97FF",
           "#FECB52"
          ],
          "font": {
           "color": "#2a3f5f"
          },
          "geo": {
           "bgcolor": "white",
           "lakecolor": "white",
           "landcolor": "#E5ECF6",
           "showlakes": true,
           "showland": true,
           "subunitcolor": "white"
          },
          "hoverlabel": {
           "align": "left"
          },
          "hovermode": "closest",
          "mapbox": {
           "style": "light"
          },
          "paper_bgcolor": "white",
          "plot_bgcolor": "#E5ECF6",
          "polar": {
           "angularaxis": {
            "gridcolor": "white",
            "linecolor": "white",
            "ticks": ""
           },
           "bgcolor": "#E5ECF6",
           "radialaxis": {
            "gridcolor": "white",
            "linecolor": "white",
            "ticks": ""
           }
          },
          "scene": {
           "xaxis": {
            "backgroundcolor": "#E5ECF6",
            "gridcolor": "white",
            "gridwidth": 2,
            "linecolor": "white",
            "showbackground": true,
            "ticks": "",
            "zerolinecolor": "white"
           },
           "yaxis": {
            "backgroundcolor": "#E5ECF6",
            "gridcolor": "white",
            "gridwidth": 2,
            "linecolor": "white",
            "showbackground": true,
            "ticks": "",
            "zerolinecolor": "white"
           },
           "zaxis": {
            "backgroundcolor": "#E5ECF6",
            "gridcolor": "white",
            "gridwidth": 2,
            "linecolor": "white",
            "showbackground": true,
            "ticks": "",
            "zerolinecolor": "white"
           }
          },
          "shapedefaults": {
           "line": {
            "color": "#2a3f5f"
           }
          },
          "ternary": {
           "aaxis": {
            "gridcolor": "white",
            "linecolor": "white",
            "ticks": ""
           },
           "baxis": {
            "gridcolor": "white",
            "linecolor": "white",
            "ticks": ""
           },
           "bgcolor": "#E5ECF6",
           "caxis": {
            "gridcolor": "white",
            "linecolor": "white",
            "ticks": ""
           }
          },
          "title": {
           "x": 0.05
          },
          "xaxis": {
           "automargin": true,
           "gridcolor": "white",
           "linecolor": "white",
           "ticks": "",
           "title": {
            "standoff": 15
           },
           "zerolinecolor": "white",
           "zerolinewidth": 2
          },
          "yaxis": {
           "automargin": true,
           "gridcolor": "white",
           "linecolor": "white",
           "ticks": "",
           "title": {
            "standoff": 15
           },
           "zerolinecolor": "white",
           "zerolinewidth": 2
          }
         }
        },
        "xaxis": {
         "anchor": "y2",
         "domain": [
          0,
          1
         ],
         "zeroline": false
        },
        "yaxis": {
         "anchor": "free",
         "domain": [
          0.35,
          1
         ],
         "position": 0
        },
        "yaxis2": {
         "anchor": "x",
         "domain": [
          0,
          0.25
         ],
         "dtick": 1,
         "showticklabels": false
        }
       }
      },
      "text/html": [
       "<div>                            <div id=\"3393539f-f72c-45fb-bdf5-f2cfe75e6a06\" class=\"plotly-graph-div\" style=\"height:525px; width:100%;\"></div>            <script type=\"text/javascript\">                require([\"plotly\"], function(Plotly) {                    window.PLOTLYENV=window.PLOTLYENV || {};                                    if (document.getElementById(\"3393539f-f72c-45fb-bdf5-f2cfe75e6a06\")) {                    Plotly.newPlot(                        \"3393539f-f72c-45fb-bdf5-f2cfe75e6a06\",                        [{\"autobinx\":false,\"histnorm\":\"probability density\",\"legendgroup\":\"Fuel\",\"marker\":{\"color\":\"rgb(31, 119, 180)\"},\"name\":\"Fuel\",\"opacity\":0.7,\"x\":[42.448647942521234,43.29581537121707,42.22580975185024,41.87346187363835,42.04062404538512,39.72996732026144,44.03756744995648,43.06993691537959,41.490921367893705,41.50856739130435,39.239714845450585,42.14005441880714,43.98246446534004,40.7087815491732,39.18090810104529,41.1132405998696,40.75031297544012,41.5851143541712,39.19851318944845,40.52444977119198,40.23073816760747,39.92838568935428,41.39189884456072,40.32413515862668,42.60642189876168,45.29350533420423,41.82172286273657,44.5111038536904,44.8681409001957,39.75481925087108,43.38210663764962,41.550405052264814,42.44808168585705,40.82274569623012,43.78470139494333,42.283617206169886,40.198052597261466,42.65272529386156,41.09406086956522,41.23673681926665,45.45946086956521,44.91187432050446,40.629497389033936,41.2607128885025,41.67868323523,42.309960835509145,40.812372955288986,40.35533623503809,41.9179003481288,42.37037633239069,42.00134653034588,43.11104334567632,41.51085050987199,42.293532738742655,38.454939050936,43.48354039965248,42.679089921807126,42.85714068275712,39.76314794699109,40.25630557977332,40.62129081410535,42.39782476024411,41.62062010443864,40.41705625817706,41.0809767239504,40.47790960451977,39.41893408744833,40.3511860718172,41.49277995642702,41.72239721557537,39.412848761408085,39.14704703832752,40.7534081010453,42.215966020474845,41.14527541911605,43.333012625163256,39.17812079078862,38.25282793125952,44.01477758395116,40.08620156726165,42.52290568503594,39.770850599781895,41.33863913043478,41.920233064691786,42.84595082680592,41.80470241988228,42.591624918318445,42.0944232022594,42.00522989758117,38.660443671161374,40.823998692525606,39.40729134887775,39.86367204535543,41.37400261039809,41.64471406827571,41.88198039215686,46.19967320261438,42.843168338421286,42.833776665215495,41.77472034820457],\"xaxis\":\"x\",\"xbins\":{\"end\":46.19967320261438,\"size\":0.5,\"start\":38.25282793125952},\"yaxis\":\"y\",\"type\":\"histogram\"},{\"legendgroup\":\"Fuel\",\"marker\":{\"color\":\"rgb(31, 119, 180)\"},\"mode\":\"lines\",\"name\":\"Fuel\",\"showlegend\":false,\"x\":[38.25282793125952,38.26872162180223,38.28461531234494,38.300509002887644,38.316402693430355,38.332296383973066,38.34819007451578,38.36408376505849,38.37997745560119,38.395871146143904,38.411764836686615,38.427658527229326,38.44355221777204,38.45944590831474,38.47533959885745,38.491233289400164,38.507126979942875,38.523020670485586,38.53891436102829,38.554808051571,38.57070174211371,38.586595432656424,38.602489123199135,38.61838281374184,38.63427650428455,38.65017019482726,38.66606388536997,38.681957575912676,38.69785126645539,38.7137449569981,38.72963864754081,38.74553233808352,38.761426028626225,38.777319719168936,38.79321340971165,38.80910710025436,38.82500079079707,38.840894481339774,38.856788171882485,38.872681862425196,38.88857555296791,38.90446924351062,38.92036293405332,38.936256624596034,38.952150315138745,38.968044005681456,38.98393769622417,38.99983138676687,39.01572507730958,39.031618767852294,39.047512458395005,39.063406148937716,39.07929983948042,39.09519353002313,39.11108722056584,39.126980911108554,39.142874601651265,39.15876829219397,39.17466198273668,39.19055567327939,39.2064493638221,39.22234305436481,39.23823674490752,39.25413043545023,39.27002412599294,39.28591781653565,39.30181150707836,39.317705197621066,39.33359888816378,39.34949257870649,39.3653862692492,39.38127995979191,39.397173650334615,39.413067340877326,39.42896103142004,39.44485472196275,39.46074841250545,39.476642103048164,39.492535793590875,39.508429484133586,39.5243231746763,39.540216865219,39.55611055576171,39.572004246304424,39.587897936847135,39.603791627389846,39.61968531793255,39.63557900847526,39.65147269901797,39.667366389560684,39.683260080103395,39.6991537706461,39.71504746118881,39.73094115173152,39.74683484227423,39.76272853281694,39.77862222335965,39.79451591390236,39.81040960444507,39.82630329498778,39.84219698553049,39.858090676073196,39.87398436661591,39.88987805715862,39.90577174770133,39.92166543824404,39.937559128786745,39.953452819329456,39.96934650987217,39.98524020041488,40.00113389095759,40.017027581500294,40.032921272043005,40.048814962585716,40.06470865312843,40.08060234367114,40.09649603421384,40.112389724756554,40.128283415299265,40.144177105841976,40.16007079638469,40.17596448692739,40.1918581774701,40.207751868012814,40.223645558555525,40.23953924909823,40.25543293964094,40.27132663018365,40.28722032072636,40.303114011269074,40.319007701811785,40.33490139235449,40.3507950828972,40.36668877343991,40.38258246398262,40.398476154525326,40.41436984506804,40.43026353561075,40.44615722615346,40.46205091669617,40.477944607238875,40.493838297781586,40.5097319883243,40.52562567886701,40.54151936940972,40.557413059952424,40.573306750495135,40.589200441037846,40.60509413158056,40.62098782212327,40.63688151266597,40.652775203208684,40.668668893751395,40.684562584294106,40.70045627483682,40.71634996537952,40.73224365592223,40.748137346464944,40.764031037007655,40.779924727550366,40.79581841809307,40.81171210863578,40.82760579917849,40.843499489721204,40.85939318026391,40.87528687080662,40.89118056134933,40.90707425189204,40.92296794243475,40.93886163297746,40.95475532352017,40.97064901406288,40.98654270460559,41.0024363951483,41.018330085691005,41.034223776233716,41.05011746677643,41.06601115731914,41.08190484786185,41.09779853840456,41.113692228947265,41.129585919489976,41.14547961003269,41.1613733005754,41.1772669911181,41.193160681660814,41.209054372203525,41.224948062746236,41.24084175328895,41.25673544383165,41.27262913437436,41.288522824917074,41.304416515459785,41.320310206002496,41.3362038965452,41.35209758708791,41.36799127763062,41.383884968173334,41.399778658716045,41.41567234925875,41.43156603980146,41.44745973034417,41.46335342088688,41.47924711142959,41.4951408019723,41.51103449251501,41.52692818305772,41.54282187360043,41.55871556414314,41.574609254685846,41.59050294522856,41.60639663577127,41.62229032631398,41.63818401685669,41.654077707399395,41.669971397942106,41.68586508848482,41.70175877902753,41.71765246957024,41.733546160112944,41.749439850655655,41.765333541198366,41.78122723174108,41.79712092228378,41.81301461282649,41.828908303369204,41.844801993911915,41.860695684454626,41.87658937499734,41.89248306554004,41.90837675608275,41.924270446625464,41.940164137168175,41.95605782771088,41.97195151825359,41.9878452087963,42.00373889933901,42.019632589881724,42.03552628042443,42.05141997096714,42.06731366150985,42.08320735205256,42.09910104259527,42.114994733137976,42.13088842368069,42.1467821142234,42.16267580476611,42.17856949530882,42.194463185851525,42.210356876394236,42.22625056693695,42.24214425747966,42.25803794802237,42.273931638565074,42.289825329107785,42.305719019650496,42.32161271019321,42.33750640073592,42.35340009127862,42.369293781821334,42.385187472364045,42.401081162906756,42.41697485344947,42.43286854399217,42.44876223453488,42.464655925077594,42.480549615620305,42.496443306163016,42.51233699670572,42.52823068724843,42.54412437779114,42.560018068333854,42.57591175887656,42.59180544941927,42.60769913996198,42.62359283050469,42.6394865210474,42.65538021159011,42.67127390213282,42.68716759267553,42.70306128321824,42.71895497376095,42.734848664303655,42.750742354846366,42.76663604538908,42.78252973593179,42.7984234264745,42.814317117017204,42.830210807559915,42.846104498102626,42.86199818864534,42.87789187918805,42.89378556973075,42.909679260273464,42.925572950816175,42.941466641358886,42.9573603319016,42.9732540224443,42.98914771298701,43.005041403529724,43.020935094072435,43.036828784615146,43.05272247515785,43.06861616570056,43.08450985624327,43.100403546785984,43.116297237328695,43.1321909278714,43.14808461841411,43.16397830895682,43.17987199949953,43.195765690042236,43.21165938058495,43.22755307112766,43.24344676167037,43.25934045221308,43.27523414275579,43.291127833298496,43.30702152384121,43.32291521438392,43.33880890492663,43.354702595469334,43.370596286012045,43.386489976554756,43.40238366709747,43.41827735764018,43.43417104818289,43.450064738725594,43.465958429268305,43.481852119811016,43.49774581035373,43.51363950089643,43.52953319143914,43.545426881981854,43.561320572524565,43.577214263067276,43.59310795360998,43.60900164415269,43.6248953346954,43.640789025238114,43.656682715780825,43.67257640632353,43.68847009686624,43.70436378740895,43.72025747795166,43.736151168494374,43.75204485903708,43.76793854957979,43.7838322401225,43.79972593066521,43.815619621207915,43.831513311750626,43.84740700229334,43.86330069283605,43.87919438337876,43.89508807392147,43.910981764464175,43.926875455006886,43.9427691455496,43.95866283609231,43.97455652663501,43.990450217177724,44.006343907720435,44.022237598263146,44.03813128880586,44.05402497934857,44.06991866989127,44.085812360433984,44.101706050976695,44.117599741519406,44.13349343206211,44.14938712260482,44.16528081314753,44.181174503690244,44.197068194232955,44.212961884775666,44.22885557531837,44.24474926586108,44.26064295640379,44.276536646946504,44.29243033748921,44.30832402803192,44.32421771857463,44.34011140911734,44.35600509966005,44.37189879020276,44.38779248074547,44.40368617128818,44.41957986183089,44.4354735523736,44.451367242916305,44.467260933459016,44.48315462400173,44.49904831454444,44.51494200508715,44.53083569562986,44.546729386172565,44.562623076715276,44.57851676725799,44.5944104578007,44.6103041483434,44.626197838886114,44.642091529428825,44.657985219971536,44.67387891051425,44.68977260105695,44.70566629159966,44.721559982142374,44.737453672685085,44.753347363227796,44.7692410537705,44.78513474431321,44.80102843485592,44.816922125398634,44.832815815941345,44.84870950648405,44.86460319702676,44.88049688756947,44.89639057811218,44.912284268654886,44.9281779591976,44.94407164974031,44.95996534028302,44.97585903082573,44.99175272136844,45.007646411911146,45.02354010245386,45.03943379299657,45.05532748353928,45.071221174081984,45.087114864624695,45.103008555167406,45.11890224571012,45.13479593625283,45.15068962679554,45.166583317338244,45.182477007880955,45.198370698423666,45.21426438896638,45.23015807950908,45.24605177005179,45.261945460594504,45.277839151137215,45.293732841679926,45.30962653222264,45.32552022276534,45.34141391330805,45.357307603850764,45.373201294393475,45.38909498493618,45.40498867547889,45.4208823660216,45.43677605656431,45.452669747107024,45.46856343764973,45.48445712819244,45.50035081873515,45.51624450927786,45.53213819982057,45.548031890363276,45.56392558090599,45.5798192714487,45.59571296199141,45.61160665253412,45.627500343076825,45.643394033619536,45.65928772416225,45.67518141470496,45.69107510524767,45.706968795790374,45.722862486333085,45.738756176875796,45.75464986741851,45.77054355796122,45.78643724850392,45.802330939046634,45.818224629589345,45.834118320132056,45.85001201067476,45.86590570121747,45.88179939176018,45.897693082302894,45.913586772845605,45.92948046338831,45.94537415393102,45.96126784447373,45.97716153501644,45.993055225559154,46.00894891610186,46.02484260664457,46.04073629718728,46.05662998772999,46.0725236782727,46.088417368815406,46.10431105935812,46.12020474990083,46.13609844044354,46.15199213098625,46.167885821528955,46.183779512071666],\"xaxis\":\"x\",\"y\":[0.03396869871794402,0.034808959248699145,0.03566123582157309,0.03652549030844247,0.03740167776265782,0.038289746138078035,0.03918963600903565,0.04010128029319859,0.041024603979373554,0.04195952386235598,0.042905948286985955,0.04386377690359825,0.04483290043707995,0.04581320047174821,0.04680454925425128,0.04780680951666244,0.04881983432190083,0.04984346693353852,0.05087754071197705,0.05192187903888949,0.05297629527169084,0.05404059272969463,0.05511456471345093,0.05619799455860493,0.057290655725454144,0.05839231192517233,0.0595027172834992,0.06062161654245715,0.061748745300464196,0.06288383029095927,0.06402658969945255,0.06517673351865177,0.06633396394108476,0.06749797578840434,0.06866845697629768,0.06984508901371435,0.07102754753485833,0.07221550286218759,0.07340862059842682,0.07460656224538614,0.07580898584718843,0.07701554665530823,0.078225897812654,0.07943969105377018,0.08065657741808539,0.08187620797302277,0.08309823454367646,0.08432231044567932,0.08554809121782571,0.08677523535097266,0.08800340500973912,0.08923226674351628,0.09046149218334043,0.09169075872124514,0.09291975016876632,0.09414815739140471,0.09537567891595297,0.09660202150774973,0.09782690071510043,0.0990500413782725,0.10027117810070853,0.10149005568029748,0.10270642949880783,0.10392006586783352,0.10513074232986336,0.10633824791338901,0.10754238334122333,0.10874296119152307,0.10993980601129513,0.11113275438246542,0.11232165494090465,0.1135063683490948,0.11468676722341878,0.11586273601734379,0.11703417086205423,0.11820097936635199,0.11936308037790724,0.12052040370817875,0.1216728898235433,0.1228204895053917,0.12396316348212585,0.12510088203615552,0.12623362458913556,0.1273613792687983,0.12848414246083348,0.12960191834932114,0.13071471844926966,0.13182256113481639,0.13292547116662912,0.13402347922201108,0.13511662143112965,0.13620493892268842,0.13728847738225225,0.13836728662625847,0.13944142019459932,0.14051093496443642,0.14157589078770563,0.14263635015452036,0.1436923778844162,0.14474404084712103,0.14579140771422083,0.1468345487428029,0.14787353559184077,0.14890844117175345,0.14993933952725674,0.15096630575328626,0.15198941594344123,0.15300874717006568,0.15402437749476663,0.15503638600784175,0.15604485289478956,0.1570498595277717,0.15805148857962106,0.15904982415771576,0.16004495195481058,0.1610369594136719,0.16202593590217074,0.16301197289531857,0.16399516416055612,0.164975605942513,0.16595339714333626,0.16692863949462997,0.16790143771702504,0.16887189966337102,0.169840136441602,0.1708062625133613,0.17177039576458528,0.17273265754434997,0.17369317266846201,0.17465206938444036,0.1756094792947602,0.17656553723547266,0.17752038110757914,0.1784741516588307,0.17942699221394606,0.18037904835157356,0.18133046752668192,0.1822813986374292,0.1832319915359583,0.18418239648295717,0.18513276354622987,0.1860832419439352,0.18703397933357485,0.18798512104821555,0.1889368092818572,0.18988918222625842,0.1908423731619343,0.19179650950642932,0.1927517118233491,0.19370809279598653,0.19466575616971907,0.19562479566768276,0.19658529388450277,0.19754732116315396,0.19851093446024778,0.19947617620525446,0.20044307315936546,0.20141163527982142,0.20238185459567137,0.203353704100987,0.20432713667160596,0.2053020840114902,0.2062784556347359,0.20725613788923258,0.20823499302784432,0.20921485833284903,0.21019554529922044,0.2111768388820937,0.21215849681355325,0.21314024899358108,0.21412179695971825,0.21510281343966078,0.21608294199064285,0.21706179672911272,0.2180389621537608,0.21901399306459038,0.2199864145802387,0.22095572225534613,0.22192138229928085,0.2228828318970787,0.22383947963296916,0.22479070601639392,0.22573586410993707,0.2266742802581232,0.22760525491556977,0.22852806357252006,0.2294419577753359,0.2303461662391057,0.23123989604909786,0.23212233394740003,0.23299264770069955,0.2338499875448268,0.2346934877013269,0.2355222679610568,0.23633543532950219,0.2371320857282869,0.23791130574711877,0.23867217444024355,0.2394137651613271,0.24013514743055533,0.2408353888276801,0.24151355690465556,0.24216872111151683,0.24279995472914173,0.2434063368025888,0.2439869540687737,0.24454090287234403,0.24506729106374697,0.24556523987363202,0.24603388575791754,0.24647238220805162,0.24687990152121858,0.247255636525497,0.24759880225522907,0.24790863757214443,0.24818440672807807,0.24842540086541354,0.24863093945171538,0.24880037164532057,0.24893307758899225,0.24902846962907046,0.24908599345788174,0.2491051291775042,0.24908539228331003,0.24902633456603093,0.24892754493141014,0.24878865013681392,0.24860931544447518,0.24838924519132755,0.24812818327567257,0.24782591356117797,0.24748226019896186,0.24709708786874648,0.2466703019402887,0.24620184855649238,0.24569171463980033,0.24513992782362445,0.24454655631073044,0.24391170866062958,0.24323553350813987,0.24251821921539427,0.2417599934596409,0.24096112275927306,0.2401219119405566,0.2392427035475799,0.23832387719797832,0.2373658488869831,0.23636907024236795,0.23533402773284187,0.23426124183242486,0.23315126614331783,0.23200468647974012,0.23082211991516152,0.2296042137953188,0.22835164471934294,0.22706511749128472,0.22574536404424025,0.22439314233925084,0.2230092352410607,0.22159444937278044,0.22014961395142907,0.2186755796062677,0.21717321718179514,0.2156434165272124,0.21408708527410858,0.21250514760409742,0.21089854300805636,0.2092682250386084,0.20761516005745737,0.2059403259791231,0.20424471101264885,0.2025293124027869,0.20079513517218442,0.199043190866062,0.1972744963008917,0.1954900723185376,0.19369094254737879,0.19187813217187671,0.19005266671210078,0.18821557081470255,0.18636786705686173,0.1845105747647046,0.18264470884773434,0.1807712786508013,0.178891286825161,0.1770057282201655,0.1751155887971334,0.17322184456695983,0.17132546055300502,0.169427389780821,0.167528572296227,0.16562993421326724,0.16373238679353494,0.16183682555834353,0.1599441294351765,0.1580551599398094,0.15617076039546907,0.15429175519032803,0.15241894907457304,0.150553126498247,0.14869505099094849,0.14684546458443254,0.14500508727906716,0.14317461655497293,0.14135472692863513,0.13954606955561266,0.13774927187990527,0.13596493733040194,0.13419364506471568,0.13243594976060594,0.13069238145502213,0.12896344543072416,0.12724962215024244,0.12555136723686505,0.1238691115021463,0.122203261019331,0.12055419724193618,0.11892227716658667,0.117307833539083,0.11571117510252862,0.11413258688621154,0.1125723305338226,0.11103064466944479,0.10950774529965651,0.10800382624994208,0.10651905963352717,0.10505359635063237,0.10360756661606553,0.10218108051295505,0.10077422857039202,0.09938708236263642,0.09801969512751883,0.09667210240159509,0.09534432266959753,0.09403635802566783,0.0927481948438649,0.09147980445543258,0.09023114383029465,0.08900215626029818,0.08779277204171765,0.08660290915460042,0.0854324739365691,0.08428136174876139,0.08314945763167314,0.08203663694872643,0.0809427660155164,0.07986770271275712,0.07881129708108482,0.07777339189599461,0.07675382322130349,0.07575242093968987,0.07476900925898773,0.07380340719308182,0.0728554290163826,0.07192488469105056,0.07101158026627397,0.07011531824909441,0.06923589794642847,0.06837311577811683,0.06752676556098561,0.06669663876408698,0.06588252473545277,0.06508421090084167,0.06430148293514742,0.06353412490726221,0.06278191939936037,0.062044647601696916,0.0613220893841542,0.06061402334590173,0.05992022684463676,0.05924047600700159,0.05857454572184786,0.057922209618126205,0.057283240029233316,0.05665740794572657,0.05604448295835752,0.055444233193414995,0.05485642524239114,0.05428082408799839,0.05371719302855861,0.0531652936027708,0.052624885516836375,0.052095726575883336,0.05157757262156576,0.051070177477660676,0.05057329290539732,0.050086668570173284,0.04961005202119862,0.04914318868551611,0.048685821877708944,0.04823769282649315,0.04779854071924634,0.047368102765390684,0.04694611427938978,0.04653230878397451,0.04612641813405258,0.045728172661594436,0.04533730134162857,0.04495353197931979,0.04457659141793393,0.044206205767339884,0.04384210065253578,0.04348400148153634,0.043131633731800595,0.04278472325424384,0.04244299659372972,0.04210618132481224,0.041774006401376025,0.04144620251870059,0.041122502486379574,0.04080264161042397,0.04048635808279795,0.04017339337656403,0.03986349264475219,0.03955640512101885,0.03925188452012856,0.03894968943626429,0.03864958373716646,0.03835133695209651,0.038054724651642564,0.037759528817407455,0.03746553819966243,0.03717254866110026,0.03688036350488429,0.03658879378526765,0.036297658599140345,0.0360067853569572,0.03571601003160929,0.0354251773839067,0.0351341411634749,0.03484276428398205,0.03455091897176467,0.034258486887047024,0.03396535921710518,0.03367143674087025,0.03337662986461961,0.03308085862855722,0.032784052684240374,0.03248615124296278,0.032187102995355786,0.03188686600262281,0.031585407559969546,0.03128270403293202,0.030978740667449087,0.030673511374654756,0.030367018491494216,0.03005927251838643,0.029750291835267947,0.029440102397453212,0.029128737412844205,0.02881623700210182,0.02850264784347101,0.028188022804007656,0.027872420559015083,0.027555905201534517,0.027238545843768246,0.026920416212330236,0.026601594239227474,0.026282161650473854,0.025962203554222126,0.025641808030273147,0.025321065722790373,0.02500006943799358,0.02467891374855605,0.02435769460636306,0.024036508965208793,0.02371545441493627,0.023394628828422998,0.023074130022726364,0.022754055435593546,0.02243450181843219,0.022115564946725147,0.02179733934875211,0.021479918053358468,0.02116339235739078,0.02084785161328802,0.020533383037196498,0.020220071537842877,0.019907999566281077,0.01959724698649918,0.01928789096675574,0.01898000589139281,0.018673663292759643,0.01836893180277288,0.01806587712353194,0.01776456201631325,0.01746504630816933,0.01716738691527912,0.01687163788211344,0.016577850435412732,0.016286073051909513,0.015996351538673872,0.015708729124917616,0.015423246564053378,0.015139942244777141,0.014858852309926557,0.014580010781851425,0.014303449693035177,0.014029199220713117,0.013757287824242088],\"yaxis\":\"y\",\"type\":\"scatter\"},{\"legendgroup\":\"Fuel\",\"marker\":{\"color\":\"rgb(31, 119, 180)\",\"symbol\":\"line-ns-open\"},\"mode\":\"markers\",\"name\":\"Fuel\",\"showlegend\":false,\"x\":[42.448647942521234,43.29581537121707,42.22580975185024,41.87346187363835,42.04062404538512,39.72996732026144,44.03756744995648,43.06993691537959,41.490921367893705,41.50856739130435,39.239714845450585,42.14005441880714,43.98246446534004,40.7087815491732,39.18090810104529,41.1132405998696,40.75031297544012,41.5851143541712,39.19851318944845,40.52444977119198,40.23073816760747,39.92838568935428,41.39189884456072,40.32413515862668,42.60642189876168,45.29350533420423,41.82172286273657,44.5111038536904,44.8681409001957,39.75481925087108,43.38210663764962,41.550405052264814,42.44808168585705,40.82274569623012,43.78470139494333,42.283617206169886,40.198052597261466,42.65272529386156,41.09406086956522,41.23673681926665,45.45946086956521,44.91187432050446,40.629497389033936,41.2607128885025,41.67868323523,42.309960835509145,40.812372955288986,40.35533623503809,41.9179003481288,42.37037633239069,42.00134653034588,43.11104334567632,41.51085050987199,42.293532738742655,38.454939050936,43.48354039965248,42.679089921807126,42.85714068275712,39.76314794699109,40.25630557977332,40.62129081410535,42.39782476024411,41.62062010443864,40.41705625817706,41.0809767239504,40.47790960451977,39.41893408744833,40.3511860718172,41.49277995642702,41.72239721557537,39.412848761408085,39.14704703832752,40.7534081010453,42.215966020474845,41.14527541911605,43.333012625163256,39.17812079078862,38.25282793125952,44.01477758395116,40.08620156726165,42.52290568503594,39.770850599781895,41.33863913043478,41.920233064691786,42.84595082680592,41.80470241988228,42.591624918318445,42.0944232022594,42.00522989758117,38.660443671161374,40.823998692525606,39.40729134887775,39.86367204535543,41.37400261039809,41.64471406827571,41.88198039215686,46.19967320261438,42.843168338421286,42.833776665215495,41.77472034820457],\"xaxis\":\"x\",\"y\":[\"Fuel\",\"Fuel\",\"Fuel\",\"Fuel\",\"Fuel\",\"Fuel\",\"Fuel\",\"Fuel\",\"Fuel\",\"Fuel\",\"Fuel\",\"Fuel\",\"Fuel\",\"Fuel\",\"Fuel\",\"Fuel\",\"Fuel\",\"Fuel\",\"Fuel\",\"Fuel\",\"Fuel\",\"Fuel\",\"Fuel\",\"Fuel\",\"Fuel\",\"Fuel\",\"Fuel\",\"Fuel\",\"Fuel\",\"Fuel\",\"Fuel\",\"Fuel\",\"Fuel\",\"Fuel\",\"Fuel\",\"Fuel\",\"Fuel\",\"Fuel\",\"Fuel\",\"Fuel\",\"Fuel\",\"Fuel\",\"Fuel\",\"Fuel\",\"Fuel\",\"Fuel\",\"Fuel\",\"Fuel\",\"Fuel\",\"Fuel\",\"Fuel\",\"Fuel\",\"Fuel\",\"Fuel\",\"Fuel\",\"Fuel\",\"Fuel\",\"Fuel\",\"Fuel\",\"Fuel\",\"Fuel\",\"Fuel\",\"Fuel\",\"Fuel\",\"Fuel\",\"Fuel\",\"Fuel\",\"Fuel\",\"Fuel\",\"Fuel\",\"Fuel\",\"Fuel\",\"Fuel\",\"Fuel\",\"Fuel\",\"Fuel\",\"Fuel\",\"Fuel\",\"Fuel\",\"Fuel\",\"Fuel\",\"Fuel\",\"Fuel\",\"Fuel\",\"Fuel\",\"Fuel\",\"Fuel\",\"Fuel\",\"Fuel\",\"Fuel\",\"Fuel\",\"Fuel\",\"Fuel\",\"Fuel\",\"Fuel\",\"Fuel\",\"Fuel\",\"Fuel\",\"Fuel\",\"Fuel\"],\"yaxis\":\"y2\",\"type\":\"scatter\"}],                        {\"barmode\":\"overlay\",\"hovermode\":\"closest\",\"legend\":{\"traceorder\":\"reversed\"},\"xaxis\":{\"anchor\":\"y2\",\"domain\":[0.0,1.0],\"zeroline\":false},\"yaxis\":{\"anchor\":\"free\",\"domain\":[0.35,1],\"position\":0.0},\"yaxis2\":{\"anchor\":\"x\",\"domain\":[0,0.25],\"dtick\":1,\"showticklabels\":false},\"template\":{\"data\":{\"histogram2dcontour\":[{\"type\":\"histogram2dcontour\",\"colorbar\":{\"outlinewidth\":0,\"ticks\":\"\"},\"colorscale\":[[0.0,\"#0d0887\"],[0.1111111111111111,\"#46039f\"],[0.2222222222222222,\"#7201a8\"],[0.3333333333333333,\"#9c179e\"],[0.4444444444444444,\"#bd3786\"],[0.5555555555555556,\"#d8576b\"],[0.6666666666666666,\"#ed7953\"],[0.7777777777777778,\"#fb9f3a\"],[0.8888888888888888,\"#fdca26\"],[1.0,\"#f0f921\"]]}],\"choropleth\":[{\"type\":\"choropleth\",\"colorbar\":{\"outlinewidth\":0,\"ticks\":\"\"}}],\"histogram2d\":[{\"type\":\"histogram2d\",\"colorbar\":{\"outlinewidth\":0,\"ticks\":\"\"},\"colorscale\":[[0.0,\"#0d0887\"],[0.1111111111111111,\"#46039f\"],[0.2222222222222222,\"#7201a8\"],[0.3333333333333333,\"#9c179e\"],[0.4444444444444444,\"#bd3786\"],[0.5555555555555556,\"#d8576b\"],[0.6666666666666666,\"#ed7953\"],[0.7777777777777778,\"#fb9f3a\"],[0.8888888888888888,\"#fdca26\"],[1.0,\"#f0f921\"]]}],\"heatmap\":[{\"type\":\"heatmap\",\"colorbar\":{\"outlinewidth\":0,\"ticks\":\"\"},\"colorscale\":[[0.0,\"#0d0887\"],[0.1111111111111111,\"#46039f\"],[0.2222222222222222,\"#7201a8\"],[0.3333333333333333,\"#9c179e\"],[0.4444444444444444,\"#bd3786\"],[0.5555555555555556,\"#d8576b\"],[0.6666666666666666,\"#ed7953\"],[0.7777777777777778,\"#fb9f3a\"],[0.8888888888888888,\"#fdca26\"],[1.0,\"#f0f921\"]]}],\"heatmapgl\":[{\"type\":\"heatmapgl\",\"colorbar\":{\"outlinewidth\":0,\"ticks\":\"\"},\"colorscale\":[[0.0,\"#0d0887\"],[0.1111111111111111,\"#46039f\"],[0.2222222222222222,\"#7201a8\"],[0.3333333333333333,\"#9c179e\"],[0.4444444444444444,\"#bd3786\"],[0.5555555555555556,\"#d8576b\"],[0.6666666666666666,\"#ed7953\"],[0.7777777777777778,\"#fb9f3a\"],[0.8888888888888888,\"#fdca26\"],[1.0,\"#f0f921\"]]}],\"contourcarpet\":[{\"type\":\"contourcarpet\",\"colorbar\":{\"outlinewidth\":0,\"ticks\":\"\"}}],\"contour\":[{\"type\":\"contour\",\"colorbar\":{\"outlinewidth\":0,\"ticks\":\"\"},\"colorscale\":[[0.0,\"#0d0887\"],[0.1111111111111111,\"#46039f\"],[0.2222222222222222,\"#7201a8\"],[0.3333333333333333,\"#9c179e\"],[0.4444444444444444,\"#bd3786\"],[0.5555555555555556,\"#d8576b\"],[0.6666666666666666,\"#ed7953\"],[0.7777777777777778,\"#fb9f3a\"],[0.8888888888888888,\"#fdca26\"],[1.0,\"#f0f921\"]]}],\"surface\":[{\"type\":\"surface\",\"colorbar\":{\"outlinewidth\":0,\"ticks\":\"\"},\"colorscale\":[[0.0,\"#0d0887\"],[0.1111111111111111,\"#46039f\"],[0.2222222222222222,\"#7201a8\"],[0.3333333333333333,\"#9c179e\"],[0.4444444444444444,\"#bd3786\"],[0.5555555555555556,\"#d8576b\"],[0.6666666666666666,\"#ed7953\"],[0.7777777777777778,\"#fb9f3a\"],[0.8888888888888888,\"#fdca26\"],[1.0,\"#f0f921\"]]}],\"mesh3d\":[{\"type\":\"mesh3d\",\"colorbar\":{\"outlinewidth\":0,\"ticks\":\"\"}}],\"scatter\":[{\"fillpattern\":{\"fillmode\":\"overlay\",\"size\":10,\"solidity\":0.2},\"type\":\"scatter\"}],\"parcoords\":[{\"type\":\"parcoords\",\"line\":{\"colorbar\":{\"outlinewidth\":0,\"ticks\":\"\"}}}],\"scatterpolargl\":[{\"type\":\"scatterpolargl\",\"marker\":{\"colorbar\":{\"outlinewidth\":0,\"ticks\":\"\"}}}],\"bar\":[{\"error_x\":{\"color\":\"#2a3f5f\"},\"error_y\":{\"color\":\"#2a3f5f\"},\"marker\":{\"line\":{\"color\":\"#E5ECF6\",\"width\":0.5},\"pattern\":{\"fillmode\":\"overlay\",\"size\":10,\"solidity\":0.2}},\"type\":\"bar\"}],\"scattergeo\":[{\"type\":\"scattergeo\",\"marker\":{\"colorbar\":{\"outlinewidth\":0,\"ticks\":\"\"}}}],\"scatterpolar\":[{\"type\":\"scatterpolar\",\"marker\":{\"colorbar\":{\"outlinewidth\":0,\"ticks\":\"\"}}}],\"histogram\":[{\"marker\":{\"pattern\":{\"fillmode\":\"overlay\",\"size\":10,\"solidity\":0.2}},\"type\":\"histogram\"}],\"scattergl\":[{\"type\":\"scattergl\",\"marker\":{\"colorbar\":{\"outlinewidth\":0,\"ticks\":\"\"}}}],\"scatter3d\":[{\"type\":\"scatter3d\",\"line\":{\"colorbar\":{\"outlinewidth\":0,\"ticks\":\"\"}},\"marker\":{\"colorbar\":{\"outlinewidth\":0,\"ticks\":\"\"}}}],\"scattermapbox\":[{\"type\":\"scattermapbox\",\"marker\":{\"colorbar\":{\"outlinewidth\":0,\"ticks\":\"\"}}}],\"scatterternary\":[{\"type\":\"scatterternary\",\"marker\":{\"colorbar\":{\"outlinewidth\":0,\"ticks\":\"\"}}}],\"scattercarpet\":[{\"type\":\"scattercarpet\",\"marker\":{\"colorbar\":{\"outlinewidth\":0,\"ticks\":\"\"}}}],\"carpet\":[{\"aaxis\":{\"endlinecolor\":\"#2a3f5f\",\"gridcolor\":\"white\",\"linecolor\":\"white\",\"minorgridcolor\":\"white\",\"startlinecolor\":\"#2a3f5f\"},\"baxis\":{\"endlinecolor\":\"#2a3f5f\",\"gridcolor\":\"white\",\"linecolor\":\"white\",\"minorgridcolor\":\"white\",\"startlinecolor\":\"#2a3f5f\"},\"type\":\"carpet\"}],\"table\":[{\"cells\":{\"fill\":{\"color\":\"#EBF0F8\"},\"line\":{\"color\":\"white\"}},\"header\":{\"fill\":{\"color\":\"#C8D4E3\"},\"line\":{\"color\":\"white\"}},\"type\":\"table\"}],\"barpolar\":[{\"marker\":{\"line\":{\"color\":\"#E5ECF6\",\"width\":0.5},\"pattern\":{\"fillmode\":\"overlay\",\"size\":10,\"solidity\":0.2}},\"type\":\"barpolar\"}],\"pie\":[{\"automargin\":true,\"type\":\"pie\"}]},\"layout\":{\"autotypenumbers\":\"strict\",\"colorway\":[\"#636efa\",\"#EF553B\",\"#00cc96\",\"#ab63fa\",\"#FFA15A\",\"#19d3f3\",\"#FF6692\",\"#B6E880\",\"#FF97FF\",\"#FECB52\"],\"font\":{\"color\":\"#2a3f5f\"},\"hovermode\":\"closest\",\"hoverlabel\":{\"align\":\"left\"},\"paper_bgcolor\":\"white\",\"plot_bgcolor\":\"#E5ECF6\",\"polar\":{\"bgcolor\":\"#E5ECF6\",\"angularaxis\":{\"gridcolor\":\"white\",\"linecolor\":\"white\",\"ticks\":\"\"},\"radialaxis\":{\"gridcolor\":\"white\",\"linecolor\":\"white\",\"ticks\":\"\"}},\"ternary\":{\"bgcolor\":\"#E5ECF6\",\"aaxis\":{\"gridcolor\":\"white\",\"linecolor\":\"white\",\"ticks\":\"\"},\"baxis\":{\"gridcolor\":\"white\",\"linecolor\":\"white\",\"ticks\":\"\"},\"caxis\":{\"gridcolor\":\"white\",\"linecolor\":\"white\",\"ticks\":\"\"}},\"coloraxis\":{\"colorbar\":{\"outlinewidth\":0,\"ticks\":\"\"}},\"colorscale\":{\"sequential\":[[0.0,\"#0d0887\"],[0.1111111111111111,\"#46039f\"],[0.2222222222222222,\"#7201a8\"],[0.3333333333333333,\"#9c179e\"],[0.4444444444444444,\"#bd3786\"],[0.5555555555555556,\"#d8576b\"],[0.6666666666666666,\"#ed7953\"],[0.7777777777777778,\"#fb9f3a\"],[0.8888888888888888,\"#fdca26\"],[1.0,\"#f0f921\"]],\"sequentialminus\":[[0.0,\"#0d0887\"],[0.1111111111111111,\"#46039f\"],[0.2222222222222222,\"#7201a8\"],[0.3333333333333333,\"#9c179e\"],[0.4444444444444444,\"#bd3786\"],[0.5555555555555556,\"#d8576b\"],[0.6666666666666666,\"#ed7953\"],[0.7777777777777778,\"#fb9f3a\"],[0.8888888888888888,\"#fdca26\"],[1.0,\"#f0f921\"]],\"diverging\":[[0,\"#8e0152\"],[0.1,\"#c51b7d\"],[0.2,\"#de77ae\"],[0.3,\"#f1b6da\"],[0.4,\"#fde0ef\"],[0.5,\"#f7f7f7\"],[0.6,\"#e6f5d0\"],[0.7,\"#b8e186\"],[0.8,\"#7fbc41\"],[0.9,\"#4d9221\"],[1,\"#276419\"]]},\"xaxis\":{\"gridcolor\":\"white\",\"linecolor\":\"white\",\"ticks\":\"\",\"title\":{\"standoff\":15},\"zerolinecolor\":\"white\",\"automargin\":true,\"zerolinewidth\":2},\"yaxis\":{\"gridcolor\":\"white\",\"linecolor\":\"white\",\"ticks\":\"\",\"title\":{\"standoff\":15},\"zerolinecolor\":\"white\",\"automargin\":true,\"zerolinewidth\":2},\"scene\":{\"xaxis\":{\"backgroundcolor\":\"#E5ECF6\",\"gridcolor\":\"white\",\"linecolor\":\"white\",\"showbackground\":true,\"ticks\":\"\",\"zerolinecolor\":\"white\",\"gridwidth\":2},\"yaxis\":{\"backgroundcolor\":\"#E5ECF6\",\"gridcolor\":\"white\",\"linecolor\":\"white\",\"showbackground\":true,\"ticks\":\"\",\"zerolinecolor\":\"white\",\"gridwidth\":2},\"zaxis\":{\"backgroundcolor\":\"#E5ECF6\",\"gridcolor\":\"white\",\"linecolor\":\"white\",\"showbackground\":true,\"ticks\":\"\",\"zerolinecolor\":\"white\",\"gridwidth\":2}},\"shapedefaults\":{\"line\":{\"color\":\"#2a3f5f\"}},\"annotationdefaults\":{\"arrowcolor\":\"#2a3f5f\",\"arrowhead\":0,\"arrowwidth\":1},\"geo\":{\"bgcolor\":\"white\",\"landcolor\":\"#E5ECF6\",\"subunitcolor\":\"white\",\"showland\":true,\"showlakes\":true,\"lakecolor\":\"white\"},\"title\":{\"x\":0.05},\"mapbox\":{\"style\":\"light\"}}}},                        {\"responsive\": true}                    ).then(function(){\n",
       "                            \n",
       "var gd = document.getElementById('3393539f-f72c-45fb-bdf5-f2cfe75e6a06');\n",
       "var x = new MutationObserver(function (mutations, observer) {{\n",
       "        var display = window.getComputedStyle(gd).display;\n",
       "        if (!display || display === 'none') {{\n",
       "            console.log([gd, 'removed!']);\n",
       "            Plotly.purge(gd);\n",
       "            observer.disconnect();\n",
       "        }}\n",
       "}});\n",
       "\n",
       "// Listen for the removal of the full notebook cells\n",
       "var notebookContainer = gd.closest('#notebook-container');\n",
       "if (notebookContainer) {{\n",
       "    x.observe(notebookContainer, {childList: true});\n",
       "}}\n",
       "\n",
       "// Listen for the clearing of the current output cell\n",
       "var outputEl = gd.closest('.output');\n",
       "if (outputEl) {{\n",
       "    x.observe(outputEl, {childList: true});\n",
       "}}\n",
       "\n",
       "                        })                };                });            </script>        </div>"
      ]
     },
     "metadata": {},
     "output_type": "display_data"
    }
   ],
   "source": [
    "import plotly.figure_factory as ff\n",
    "\n",
    "\n",
    "fig = ff.create_distplot([results_df[\"all_delay_average\"].values], group_labels=[\"Fuel\"], bin_size=.5)\n",
    "fig.show()"
   ]
  },
  {
   "cell_type": "code",
   "execution_count": 25,
   "id": "185e8b83",
   "metadata": {},
   "outputs": [
    {
     "data": {
      "text/html": [
       "<div>\n",
       "<style scoped>\n",
       "    .dataframe tbody tr th:only-of-type {\n",
       "        vertical-align: middle;\n",
       "    }\n",
       "\n",
       "    .dataframe tbody tr th {\n",
       "        vertical-align: top;\n",
       "    }\n",
       "\n",
       "    .dataframe thead th {\n",
       "        text-align: right;\n",
       "    }\n",
       "</style>\n",
       "<table border=\"1\" class=\"dataframe\">\n",
       "  <thead>\n",
       "    <tr style=\"text-align: right;\">\n",
       "      <th></th>\n",
       "      <th>sample_num</th>\n",
       "      <th>f_out</th>\n",
       "      <th>RandomSeed</th>\n",
       "      <th>63082002_4_sigma_1.96</th>\n",
       "      <th>63082002_4_sigma_1</th>\n",
       "      <th>63082002_4_BDAE</th>\n",
       "      <th>63082002_4_BDSE</th>\n",
       "      <th>63082002_5_sigma_1.96</th>\n",
       "      <th>63082002_5_sigma_1</th>\n",
       "      <th>63082002_5_BDAE</th>\n",
       "      <th>...</th>\n",
       "      <th>63082003_WB_sigma_1.96_score</th>\n",
       "      <th>63082003_EB_sigma_1_score</th>\n",
       "      <th>63082003_EB_sigma_1.96_score</th>\n",
       "      <th>63082004_WB_sigma_1_score</th>\n",
       "      <th>63082004_WB_sigma_1.96_score</th>\n",
       "      <th>63082004_EB_sigma_1_score</th>\n",
       "      <th>63082004_EB_sigma_1.96_score</th>\n",
       "      <th>cal_score</th>\n",
       "      <th>Fuel_L</th>\n",
       "      <th>cal_score_2</th>\n",
       "    </tr>\n",
       "  </thead>\n",
       "  <tbody>\n",
       "    <tr>\n",
       "      <th>0</th>\n",
       "      <td>0</td>\n",
       "      <td>10244.830563</td>\n",
       "      <td>1.000000</td>\n",
       "      <td>1.0</td>\n",
       "      <td>1.0</td>\n",
       "      <td>True</td>\n",
       "      <td>True</td>\n",
       "      <td>0.882353</td>\n",
       "      <td>0.823529</td>\n",
       "      <td>True</td>\n",
       "      <td>...</td>\n",
       "      <td>1.0</td>\n",
       "      <td>1.0</td>\n",
       "      <td>1.0</td>\n",
       "      <td>1.0</td>\n",
       "      <td>1.0</td>\n",
       "      <td>1.0</td>\n",
       "      <td>1.0</td>\n",
       "      <td>1.0</td>\n",
       "      <td>318.134713</td>\n",
       "      <td>20.588235</td>\n",
       "    </tr>\n",
       "    <tr>\n",
       "      <th>1</th>\n",
       "      <td>1</td>\n",
       "      <td>10249.146507</td>\n",
       "      <td>11.090909</td>\n",
       "      <td>1.0</td>\n",
       "      <td>1.0</td>\n",
       "      <td>True</td>\n",
       "      <td>True</td>\n",
       "      <td>0.882353</td>\n",
       "      <td>0.764706</td>\n",
       "      <td>True</td>\n",
       "      <td>...</td>\n",
       "      <td>1.0</td>\n",
       "      <td>1.0</td>\n",
       "      <td>1.0</td>\n",
       "      <td>1.0</td>\n",
       "      <td>1.0</td>\n",
       "      <td>1.0</td>\n",
       "      <td>1.0</td>\n",
       "      <td>1.0</td>\n",
       "      <td>318.268736</td>\n",
       "      <td>20.647059</td>\n",
       "    </tr>\n",
       "    <tr>\n",
       "      <th>2</th>\n",
       "      <td>2</td>\n",
       "      <td>10260.490206</td>\n",
       "      <td>21.181818</td>\n",
       "      <td>1.0</td>\n",
       "      <td>1.0</td>\n",
       "      <td>True</td>\n",
       "      <td>True</td>\n",
       "      <td>1.000000</td>\n",
       "      <td>0.823529</td>\n",
       "      <td>True</td>\n",
       "      <td>...</td>\n",
       "      <td>1.0</td>\n",
       "      <td>1.0</td>\n",
       "      <td>1.0</td>\n",
       "      <td>1.0</td>\n",
       "      <td>1.0</td>\n",
       "      <td>1.0</td>\n",
       "      <td>1.0</td>\n",
       "      <td>1.0</td>\n",
       "      <td>318.620995</td>\n",
       "      <td>20.588235</td>\n",
       "    </tr>\n",
       "    <tr>\n",
       "      <th>3</th>\n",
       "      <td>3</td>\n",
       "      <td>10206.654159</td>\n",
       "      <td>31.272727</td>\n",
       "      <td>1.0</td>\n",
       "      <td>1.0</td>\n",
       "      <td>True</td>\n",
       "      <td>True</td>\n",
       "      <td>0.882353</td>\n",
       "      <td>0.882353</td>\n",
       "      <td>True</td>\n",
       "      <td>...</td>\n",
       "      <td>1.0</td>\n",
       "      <td>1.0</td>\n",
       "      <td>1.0</td>\n",
       "      <td>1.0</td>\n",
       "      <td>1.0</td>\n",
       "      <td>1.0</td>\n",
       "      <td>1.0</td>\n",
       "      <td>1.0</td>\n",
       "      <td>316.949213</td>\n",
       "      <td>20.529412</td>\n",
       "    </tr>\n",
       "    <tr>\n",
       "      <th>4</th>\n",
       "      <td>4</td>\n",
       "      <td>10224.304958</td>\n",
       "      <td>41.363636</td>\n",
       "      <td>1.0</td>\n",
       "      <td>1.0</td>\n",
       "      <td>True</td>\n",
       "      <td>True</td>\n",
       "      <td>1.000000</td>\n",
       "      <td>0.823529</td>\n",
       "      <td>True</td>\n",
       "      <td>...</td>\n",
       "      <td>1.0</td>\n",
       "      <td>1.0</td>\n",
       "      <td>1.0</td>\n",
       "      <td>1.0</td>\n",
       "      <td>1.0</td>\n",
       "      <td>1.0</td>\n",
       "      <td>1.0</td>\n",
       "      <td>1.0</td>\n",
       "      <td>317.497327</td>\n",
       "      <td>20.529412</td>\n",
       "    </tr>\n",
       "  </tbody>\n",
       "</table>\n",
       "<p>5 rows × 339 columns</p>\n",
       "</div>"
      ],
      "text/plain": [
       "   sample_num         f_out  RandomSeed  63082002_4_sigma_1.96  \\\n",
       "0           0  10244.830563    1.000000                    1.0   \n",
       "1           1  10249.146507   11.090909                    1.0   \n",
       "2           2  10260.490206   21.181818                    1.0   \n",
       "3           3  10206.654159   31.272727                    1.0   \n",
       "4           4  10224.304958   41.363636                    1.0   \n",
       "\n",
       "   63082002_4_sigma_1  63082002_4_BDAE  63082002_4_BDSE  \\\n",
       "0                 1.0             True             True   \n",
       "1                 1.0             True             True   \n",
       "2                 1.0             True             True   \n",
       "3                 1.0             True             True   \n",
       "4                 1.0             True             True   \n",
       "\n",
       "   63082002_5_sigma_1.96  63082002_5_sigma_1  63082002_5_BDAE  ...  \\\n",
       "0               0.882353            0.823529             True  ...   \n",
       "1               0.882353            0.764706             True  ...   \n",
       "2               1.000000            0.823529             True  ...   \n",
       "3               0.882353            0.882353             True  ...   \n",
       "4               1.000000            0.823529             True  ...   \n",
       "\n",
       "   63082003_WB_sigma_1.96_score  63082003_EB_sigma_1_score  \\\n",
       "0                           1.0                        1.0   \n",
       "1                           1.0                        1.0   \n",
       "2                           1.0                        1.0   \n",
       "3                           1.0                        1.0   \n",
       "4                           1.0                        1.0   \n",
       "\n",
       "   63082003_EB_sigma_1.96_score  63082004_WB_sigma_1_score  \\\n",
       "0                           1.0                        1.0   \n",
       "1                           1.0                        1.0   \n",
       "2                           1.0                        1.0   \n",
       "3                           1.0                        1.0   \n",
       "4                           1.0                        1.0   \n",
       "\n",
       "   63082004_WB_sigma_1.96_score  63082004_EB_sigma_1_score  \\\n",
       "0                           1.0                        1.0   \n",
       "1                           1.0                        1.0   \n",
       "2                           1.0                        1.0   \n",
       "3                           1.0                        1.0   \n",
       "4                           1.0                        1.0   \n",
       "\n",
       "   63082004_EB_sigma_1.96_score  cal_score      Fuel_L  cal_score_2  \n",
       "0                           1.0        1.0  318.134713    20.588235  \n",
       "1                           1.0        1.0  318.268736    20.647059  \n",
       "2                           1.0        1.0  318.620995    20.588235  \n",
       "3                           1.0        1.0  316.949213    20.529412  \n",
       "4                           1.0        1.0  317.497327    20.529412  \n",
       "\n",
       "[5 rows x 339 columns]"
      ]
     },
     "execution_count": 25,
     "metadata": {},
     "output_type": "execute_result"
    }
   ],
   "source": [
    "results_df.sort_values('RandomSeed',).head()"
   ]
  }
 ],
 "metadata": {
  "kernelspec": {
   "display_name": "Python 3.9.12 64-bit ('airport-harper-sumo')",
   "language": "python",
   "name": "python3"
  },
  "language_info": {
   "codemirror_mode": {
    "name": "ipython",
    "version": 3
   },
   "file_extension": ".py",
   "mimetype": "text/x-python",
   "name": "python",
   "nbconvert_exporter": "python",
   "pygments_lexer": "ipython3",
   "version": "3.9.12"
  },
  "vscode": {
   "interpreter": {
    "hash": "e532de98ccfe9834999d60a6df9823333e7cf987dd67d4c6230f8bbe3930f3d2"
   }
  }
 },
 "nbformat": 4,
 "nbformat_minor": 5
}
