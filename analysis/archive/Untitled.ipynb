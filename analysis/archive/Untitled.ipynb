{
 "cells": [
  {
   "cell_type": "markdown",
   "id": "6fd041be",
   "metadata": {},
   "source": [
    "# Analyzing SASUMO outputs"
   ]
  },
  {
   "cell_type": "markdown",
   "id": "99a14216-3daf-47ed-95dc-4412d52f605a",
   "metadata": {
    "tags": []
   },
   "source": [
    "### Import the Required Libraries"
   ]
  },
  {
   "cell_type": "code",
   "execution_count": null,
   "id": "635e6b2b",
   "metadata": {},
   "outputs": [],
   "source": [
    "# %%capture\n",
    "# !pip install SALib\n",
    "# !pip install pint-pandas\n",
    "# !pip install pint\n",
    "# !pip install plotly\n",
    "# !pip install lxml"
   ]
  },
  {
   "cell_type": "code",
   "execution_count": null,
   "id": "79e6f5cd-ca24-4399-8c15-f092459a62d8",
   "metadata": {},
   "outputs": [],
   "source": [
    "import os\n",
    "import sys"
   ]
  },
  {
   "cell_type": "code",
   "execution_count": null,
   "id": "fb4407f0",
   "metadata": {},
   "outputs": [],
   "source": [
    "def find_root(path):\n",
    "    if os.path.split(path)[-1] != 'airport-harper-sumo':\n",
    "        return find_root(os.path.split(path)[0])\n",
    "    return path"
   ]
  },
  {
   "cell_type": "code",
   "execution_count": null,
   "id": "aa5285b6",
   "metadata": {},
   "outputs": [],
   "source": [
    "PATH = !pwd  # a bit of Jupyter Magic to get the working path\n",
    "PATH = find_root(PATH[0])\n",
    "if PATH not in sys.path:\n",
    "    print(f\"adding {PATH} to path\")\n",
    "    sys.path.append(PATH)\n",
    "\n",
    "# Add savvy to the path\n",
    "sys.path.append(os.path.join(os.getcwd(), 'savvy',))"
   ]
  },
  {
   "cell_type": "code",
   "execution_count": null,
   "id": "93d83291",
   "metadata": {},
   "outputs": [],
   "source": [
    "import json5 as json\n",
    "import sys\n",
    "import pickle\n",
    "import csv\n",
    "import copy\n",
    "\n",
    "import numpy as np\n",
    "import pandas as pd \n",
    "import pint\n",
    "import pint_pandas\n",
    "import plotly.graph_objects as go\n",
    "\n",
    "from SALib.analyze import sobol\n",
    "from SASUMO.SASUMO.params import Settings4SASUMO"
   ]
  },
  {
   "cell_type": "code",
   "execution_count": null,
   "id": "5feab665",
   "metadata": {},
   "outputs": [],
   "source": [
    "ureg = pint.UnitRegistry()"
   ]
  },
  {
   "cell_type": "markdown",
   "id": "91a180f1",
   "metadata": {
    "jp-MarkdownHeadingCollapsed": true,
    "tags": []
   },
   "source": [
    "## Defining the Analysis Root"
   ]
  },
  {
   "cell_type": "code",
   "execution_count": null,
   "id": "fe823880",
   "metadata": {},
   "outputs": [],
   "source": [
    "ROOT = r\"/media/HDD/max/sasumo-files/630AM_6_Parameter_Narrow_Dist/2021_09_19-05_09_10\"\n",
    "TOP_LEVEL_SETTINGS = os.path.join(ROOT, \"settings.yaml\")\n",
    "OUTPUT= os.path.join(ROOT, \"output.txt\")\n",
    "PROBLEM = os.path.join(ROOT, \"SALib_Problem.json\")"
   ]
  },
  {
   "cell_type": "code",
   "execution_count": null,
   "id": "307f18e5",
   "metadata": {},
   "outputs": [],
   "source": [
    "# with open(TOP_LEVEL_SETTINGS, 'rb') as f:\n",
    "settings = Settings4SASUMO(TOP_LEVEL_SETTINGS)"
   ]
  },
  {
   "cell_type": "markdown",
   "id": "931f3204",
   "metadata": {
    "jp-MarkdownHeadingCollapsed": true,
    "tags": []
   },
   "source": [
    "## Open up the Problem"
   ]
  },
  {
   "cell_type": "code",
   "execution_count": null,
   "id": "9607dc26",
   "metadata": {},
   "outputs": [],
   "source": [
    "with open(PROBLEM, 'r') as f:\n",
    "    problem = json.load(f)\n",
    "problem"
   ]
  },
  {
   "cell_type": "markdown",
   "id": "dbff2049",
   "metadata": {
    "tags": []
   },
   "source": [
    "## Creating a table of the Results and Parameters"
   ]
  },
  {
   "cell_type": "code",
   "execution_count": null,
   "id": "36c128df-d5f8-4b45-85e1-356adf1827c7",
   "metadata": {},
   "outputs": [],
   "source": [
    "results = []\n",
    "param_keys = []\n",
    "for _dir in os.scandir(ROOT):\n",
    "    if _dir.is_dir():\n",
    "        # reading the fuel consumption in \n",
    "        try:\n",
    "            with open(os.path.join(_dir.path, 'f_out.txt'), 'r') as f:\n",
    "                fc = float(f.read())\n",
    "        except:\n",
    "            print(f\"issue with {_dir.path}\")\n",
    "        with open(os.path.join(_dir.path, 'sa_values.json'), 'r') as f:\n",
    "            _d = json.loads(f.read())\n",
    "            if not param_keys:\n",
    "                param_keys = list(_d.keys())\n",
    "            params = [_d[_k] for _k in param_keys]\n",
    "        results.append([int(_dir.name.split(\"_\")[1]), fc, *params])"
   ]
  },
  {
   "cell_type": "code",
   "execution_count": null,
   "id": "bcc3b372-035b-4311-86d4-fc3d87c721eb",
   "metadata": {},
   "outputs": [],
   "source": [
    "results_df = pd.DataFrame.from_records(results, columns=['Sample_Num', 'f_out', *param_keys],)\n",
    "\n",
    "# results_df.\n",
    "results_df.set_index('Sample_Num', inplace=True)\n",
    "results_df.sort_index(inplace=True)\n",
    "results_np = results_df['f_out'].values\n",
    "# results_df.head()"
   ]
  },
  {
   "cell_type": "code",
   "execution_count": null,
   "id": "35f3e06a",
   "metadata": {},
   "outputs": [],
   "source": [
    "results_df['Fuel [gal]'] = results_df['f_out'] * (1* ureg.milliliter).to('gallon').magnitude\n",
    "results_df.head()"
   ]
  },
  {
   "cell_type": "markdown",
   "id": "1e911730",
   "metadata": {
    "jp-MarkdownHeadingCollapsed": true,
    "tags": []
   },
   "source": [
    "## Perform the Sobol Analysis"
   ]
  },
  {
   "cell_type": "code",
   "execution_count": null,
   "id": "a3411b6b",
   "metadata": {},
   "outputs": [],
   "source": [
    "Si = sobol.analyze(problem, results_np, print_to_console=False, calc_second_order=True)"
   ]
  },
  {
   "cell_type": "markdown",
   "id": "c2fa5615-b5fc-4558-b6fd-a28d886c0d48",
   "metadata": {
    "tags": []
   },
   "source": [
    "## Plotting using Savvy "
   ]
  },
  {
   "cell_type": "code",
   "execution_count": null,
   "id": "7bf2a620-cd73-44ab-90a4-3ac73c0bf38b",
   "metadata": {},
   "outputs": [],
   "source": [
    "import savvy.interactive_plots as ip\n",
    "import savvy.network_tools as nt\n",
    "import savvy.data_processing as dp\n",
    "\n",
    "from bokeh.plotting import show, output_notebook\n",
    "output_notebook()"
   ]
  },
  {
   "cell_type": "code",
   "execution_count": null,
   "id": "9bf5b3d6-1313-4f3c-9d74-26914a07024b",
   "metadata": {},
   "outputs": [],
   "source": [
    "savvy_d = dp.format_salib_output(Si, run_name='630AM_6_Parameter_Narrow_Dist', pretty_names={'FleetComposition_fleet_composition': \"Fleet Composition\", \"CarFollowingParameters_delta\" : \"Delta\", \"PersonalCar_tau\": \"Tau_PC\"})"
   ]
  },
  {
   "cell_type": "code",
   "execution_count": null,
   "id": "b9ebaa0e-456a-4f9a-8c5b-5d83b2e66665",
   "metadata": {},
   "outputs": [],
   "source": [
    "# df_list = Si.to_df()\n",
    "# pretty_names={'FleetComposition_fleet_composition': \"Fleet Composition\", \"CarFollowingParameters_delta\" : \"Delta\", \"PersonalCar_tau\": \"Tau_PC\"}\n",
    "\n",
    "# # combine S1 and ST\n",
    "# df_list[0] = pd.concat((df_list[0], df_list[1]), axis=1)\n",
    "# df_list.pop(1)\n",
    "# df_list[0]['Parameter'] = df_list[0].index\n",
    "\n",
    "# df_list[0][\"Parameter\"] = df_list[0]['Parameter'].map(pretty_names).fillna(df_list[0]['Parameter'])\n",
    "# df_list[0]"
   ]
  },
  {
   "cell_type": "code",
   "execution_count": null,
   "id": "bfc69b95-8d77-49e5-b5d6-2ad4837e0abe",
   "metadata": {},
   "outputs": [],
   "source": [
    "# sa_dict = dp.get_sa_data()\n",
    "ip.interact_with_plot_all_outputs(savvy_d)"
   ]
  },
  {
   "cell_type": "code",
   "execution_count": null,
   "id": "1f0b119c-6ddb-4a41-b7b7-3eb01181c479",
   "metadata": {},
   "outputs": [],
   "source": [
    "ip.plot_all_second_order(savvy_d, top=6, mirror=True)"
   ]
  },
  {
   "cell_type": "code",
   "execution_count": null,
   "id": "a6c0f419-326a-4b55-a656-66152007552d",
   "metadata": {},
   "outputs": [],
   "source": [
    "sa_dict_net = copy.deepcopy(savvy_d)\n",
    "g = nt.build_graph(savvy_d['630AM_6_Parameter_Narrow_Dist'], sens='ST', top=10, min_sens=1e-6, edge_cutoff=-2, edge_width=100,) #log=True)\n",
    "nt.plot_network_circle(g, inline=True, scale=100, output_size=(800, 800))\n",
    "# test = nt.plot_network_random(g, scale=200)"
   ]
  },
  {
   "cell_type": "markdown",
   "id": "cee976b5",
   "metadata": {
    "tags": []
   },
   "source": [
    "## Plotting the Results"
   ]
  },
  {
   "cell_type": "markdown",
   "id": "b38e96df-8e65-4a76-81e5-d214deddb446",
   "metadata": {},
   "source": [
    "### Surface Plot"
   ]
  },
  {
   "cell_type": "code",
   "execution_count": null,
   "id": "911f689c-b360-4932-937c-da471431b150",
   "metadata": {},
   "outputs": [],
   "source": [
    "from scipy import interpolate"
   ]
  },
  {
   "cell_type": "code",
   "execution_count": null,
   "id": "9e12c58d-9cd8-4263-a4b0-d3131fc6bc9c",
   "metadata": {},
   "outputs": [],
   "source": [
    "x_name = \"PersonalCar_tau\"\n",
    "y_name = \"PersonalCar_accel\""
   ]
  },
  {
   "cell_type": "code",
   "execution_count": null,
   "id": "bb8daea1-1b30-4bdb-931c-17d263d7a4a0",
   "metadata": {},
   "outputs": [],
   "source": [
    "series = results_df.groupby(['PersonalCar_tau', 'PersonalCar_accel'])[\"Fuel [gal]\"].median()\n",
    "series = series.reset_index()\n",
    "# series.sort_values('FleetComposition_fleet_composition', ascending=False).head(30)"
   ]
  },
  {
   "cell_type": "code",
   "execution_count": null,
   "id": "20163de0-57d5-4bc8-a7f4-ce49dcb96762",
   "metadata": {},
   "outputs": [],
   "source": [
    "x = series['FleetComposition_fleet_composition'].values\n",
    "y = series['Class8Truck_accel'].values\n",
    "z = series['Fuel [gal]'].values\n",
    "# X, Y = np.meshgrid(x, y)"
   ]
  },
  {
   "cell_type": "code",
   "execution_count": null,
   "id": "f1ae6a15-fb04-43df-be8c-90be7160267b",
   "metadata": {},
   "outputs": [],
   "source": [
    "f = interpolate.interp2d(x, y, z, kind=\"cubic\")"
   ]
  },
  {
   "cell_type": "code",
   "execution_count": null,
   "id": "c6e9c2f3-9e6a-4a11-8739-8251ee288d43",
   "metadata": {},
   "outputs": [],
   "source": [
    "xx = np.linspace(min(x), max(x), 100)\n",
    "yy = np.linspace(min(y), max(y), 100)\n",
    "znew = f(xx, yy)"
   ]
  },
  {
   "cell_type": "code",
   "execution_count": null,
   "id": "262bf7d4-6278-4595-8ee3-cbad0b36316d",
   "metadata": {},
   "outputs": [],
   "source": [
    "series['Fuel [gal]'].max()"
   ]
  },
  {
   "cell_type": "code",
   "execution_count": null,
   "id": "38ab7458-31a5-4d90-97fb-96b8f0bacd48",
   "metadata": {},
   "outputs": [],
   "source": [
    "fig = go.Figure(data=go.Heatmap(\n",
    "                    x=xx,\n",
    "                    y=yy,\n",
    "                    z=znew,\n",
    "                    zmin=min(z), \n",
    "                    zmax=max(z)\n",
    "                )\n",
    "               )\n",
    "\n",
    "fig.update_layout()\n",
    "fig.show()"
   ]
  },
  {
   "cell_type": "code",
   "execution_count": null,
   "id": "5b39bfd1-d51d-4b17-8ceb-d92b51944c2d",
   "metadata": {},
   "outputs": [],
   "source": [
    "dict(cmin=min(z), cmax=max(z))"
   ]
  },
  {
   "cell_type": "markdown",
   "id": "8661f42c-5e44-413c-8f80-12ee4990acf4",
   "metadata": {},
   "source": [
    "### FC vs Sim #"
   ]
  },
  {
   "cell_type": "code",
   "execution_count": null,
   "id": "0d884e81-2673-4900-8c50-69689035784c",
   "metadata": {},
   "outputs": [],
   "source": [
    "fig = go.Figure()\n",
    "fig.add_trace(go.Scatter(x=results_df.index, y=results_df['Fuel [gal]'], mode='lines'))\n",
    "fig.update_layout(yaxis=dict(title=\"Cummulative Fuel Consumption [Gallons]\"),\n",
    "                  xaxis=dict(title='Sample Number')\n",
    "                 )\n",
    "fig.show()"
   ]
  },
  {
   "cell_type": "code",
   "execution_count": null,
   "id": "fd99e34f",
   "metadata": {},
   "outputs": [],
   "source": [
    "# fig = go.Figure()\n",
    "# fig.add_trace(go.Scatter(x=results_df['FleetComposition_fleet_composition'], y=results_df['Fuel [gal]'], mode='markers'))\n",
    "# fig.update_layout(yaxis=dict(title=\"Cummulative Fuel Consumption [Gallons]\"),\n",
    "#                   xaxis=dict(title='Fleet Composition [% Truck]')\n",
    "#                  )\n",
    "# fig.show()"
   ]
  },
  {
   "cell_type": "code",
   "execution_count": null,
   "id": "904161d6",
   "metadata": {},
   "outputs": [],
   "source": [
    "# fig = go.Figure()\n",
    "# fig.add_trace(go.Scatter(x=results_df['PersonalCar_tau'], y=results_df['Fuel [gal]'], mode='markers'))\n",
    "# fig.update_layout(yaxis=dict(title=\"Cummulative Fuel Consumption [Gallons]\"),\n",
    "#                   xaxis=dict(title='Personal Car Tau [s]')\n",
    "#                  )\n",
    "# fig.show()"
   ]
  },
  {
   "cell_type": "code",
   "execution_count": null,
   "id": "c901c6e7",
   "metadata": {},
   "outputs": [],
   "source": [
    "# fig = go.Figure()\n",
    "# fig.add_trace(go.Scatter(x=results_df['CarFollowingParameters_delta'], y=results_df['Fuel [gal]'], mode='markers'))\n",
    "# fig.update_layout(yaxis=dict(title=\"Cummulative Fuel Consumption [Gallons]\"),\n",
    "#                   xaxis=dict(title='Personal Car Delta')\n",
    "#                  )\n",
    "# fig.show()"
   ]
  },
  {
   "cell_type": "code",
   "execution_count": null,
   "id": "089be69a",
   "metadata": {},
   "outputs": [],
   "source": [
    "# fig = go.Figure()\n",
    "# fig.add_trace(go.Scatter(x=results_df['PersonalCar_accel'], y=results_df['Fuel [gal]'], mode='markers'))\n",
    "# fig.update_layout(yaxis=dict(title=\"Cummulative Fuel Consumption [Gallons]\"),\n",
    "#                   xaxis=dict(title='Personal Car Accel [m/s^2]')\n",
    "#                  )\n",
    "# fig.show()"
   ]
  },
  {
   "cell_type": "code",
   "execution_count": null,
   "id": "6963f3d3",
   "metadata": {},
   "outputs": [],
   "source": [
    "# fig = go.Figure()\n",
    "# fig.add_trace(go.Scatter(x=results_df['Class8Truck_tau'], y=results_df['Fuel [gal]'], mode='markers'))\n",
    "# fig.update_layout(yaxis=dict(title=\"Cummulative Fuel Consumption [Gallons]\"),\n",
    "#                   xaxis=dict(title='Class8Truck Tau [s]')\n",
    "#                  )\n",
    "# fig.show()"
   ]
  },
  {
   "cell_type": "code",
   "execution_count": null,
   "id": "f9c7d8b2",
   "metadata": {},
   "outputs": [],
   "source": [
    "# fig = go.Figure()\n",
    "# fig.add_trace(go.Scatter(x=results_df['Class8Truck_delta'], y=results_df['Fuel [gal]'], mode='markers'))\n",
    "# fig.update_layout(yaxis=dict(title=\"Cummulative Fuel Consumption [Gallons]\"),\n",
    "#                   xaxis=dict(title='Class8Truck Delta')\n",
    "#                  )\n",
    "# fig.show()"
   ]
  },
  {
   "cell_type": "code",
   "execution_count": null,
   "id": "6ea2702d",
   "metadata": {},
   "outputs": [],
   "source": [
    "# fig = go.Figure()\n",
    "# fig.add_trace(go.Scatter(x=results_df['Class8Truck_accel'], y=results_df['Fuel [gal]'], mode='markers'))\n",
    "# fig.update_layout(yaxis=dict(title=\"Cummulative Fuel Consumption [Gallons]\"),\n",
    "#                   xaxis=dict(title='Class8Truck Accel [m/s^2]')\n",
    "#                  )\n",
    "# fig.show()"
   ]
  }
 ],
 "metadata": {
  "kernelspec": {
   "display_name": "Python 3",
   "language": "python",
   "name": "python3"
  },
  "language_info": {
   "codemirror_mode": {
    "name": "ipython",
    "version": 3
   },
   "file_extension": ".py",
   "mimetype": "text/x-python",
   "name": "python",
   "nbconvert_exporter": "python",
   "pygments_lexer": "ipython3",
   "version": "3.6.9"
  }
 },
 "nbformat": 4,
 "nbformat_minor": 5
}
