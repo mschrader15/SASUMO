{
 "cells": [
  {
   "cell_type": "markdown",
   "id": "05db4c54-9c68-4f69-9989-29c1e4f315f8",
   "metadata": {},
   "source": [
    "# Analyzing SASUMO outputs"
   ]
  },
  {
   "cell_type": "code",
   "execution_count": 1,
   "id": "987294a1-abaa-4b25-904b-3fd496ffc4fc",
   "metadata": {},
   "outputs": [],
   "source": [
    "%%capture\n",
    "!pip install SALib"
   ]
  },
  {
   "cell_type": "code",
   "execution_count": 32,
   "id": "6c9454b4-d013-4e04-a4b7-a27459fa34d8",
   "metadata": {},
   "outputs": [],
   "source": [
    "import os\n",
    "import json\n",
    "import sys\n",
    "import pickle\n",
    "import csv\n",
    "\n",
    "import pandas as pd\n",
    "from SALib.analyze import sobol"
   ]
  },
  {
   "cell_type": "code",
   "execution_count": 2,
   "id": "302cc3fb-7b88-4876-a939-35063c0da448",
   "metadata": {},
   "outputs": [],
   "source": [
    "def find_root(path):\n",
    "    if os.path.split(path)[-1] != 'airport-harper-sumo':\n",
    "        return find_root(os.path.split(path)[0])\n",
    "    return path"
   ]
  },
  {
   "cell_type": "code",
   "execution_count": 3,
   "id": "65c00af2-faa1-495b-81fa-9078fb3f481c",
   "metadata": {},
   "outputs": [
    {
     "name": "stdout",
     "output_type": "stream",
     "text": [
      "adding /home/max/remote/airport-harper-sumo to path\n"
     ]
    }
   ],
   "source": [
    "PATH = !pwd  # a bit of Jupyter Magic to get the working path\n",
    "PATH = find_root(PATH[0])\n",
    "if PATH not in sys.path:\n",
    "    print(f\"adding {PATH} to path\")\n",
    "    sys.path.append(PATH)"
   ]
  },
  {
   "cell_type": "code",
   "execution_count": 10,
   "id": "e6588cf1-54ac-4741-94f7-3e699ec10642",
   "metadata": {},
   "outputs": [],
   "source": [
    "sys.path.append(os.path.join(ROOT, 'SASUMO', 'SASUMO', 'params'))"
   ]
  },
  {
   "cell_type": "code",
   "execution_count": 14,
   "id": "c0a431f6-47be-4e94-8986-720ffacac639",
   "metadata": {},
   "outputs": [],
   "source": [
    "from SASUMO.SASUMO.params import Settings4SASUMO"
   ]
  },
  {
   "cell_type": "markdown",
   "id": "1304621c-be79-4a11-ad17-973691215caf",
   "metadata": {},
   "source": [
    "## Defining the Analysis Root"
   ]
  },
  {
   "cell_type": "code",
   "execution_count": 12,
   "id": "b009b63c-44c7-4b1b-967b-2f13d7a99af1",
   "metadata": {},
   "outputs": [],
   "source": [
    "ROOT = \"/home/max/tmp/airport_harper_sumo_sasumo/first_try/2021_09_09-01_38_36\"\n",
    "TOP_LEVEL_SETTINGS = os.path.join(ROOT, \"first_try.pkl\")\n",
    "OUTPUT= os.path.join(ROOT, \"output.txt\")\n",
    "PROBLEM = os.path.join(ROOT, \"SALib_Problem.json\")"
   ]
  },
  {
   "cell_type": "code",
   "execution_count": 15,
   "id": "ccff6219-fab3-4bef-a46c-8a303995acf0",
   "metadata": {},
   "outputs": [
    {
     "ename": "ModuleNotFoundError",
     "evalue": "No module named 'params'",
     "output_type": "error",
     "traceback": [
      "\u001b[0;31m---------------------------------------------------------------------------\u001b[0m",
      "\u001b[0;31mModuleNotFoundError\u001b[0m                       Traceback (most recent call last)",
      "\u001b[0;32m/tmp/ipykernel_55534/37414860.py\u001b[0m in \u001b[0;36m<module>\u001b[0;34m\u001b[0m\n\u001b[1;32m      1\u001b[0m \u001b[0;31m# with open(TOP_LEVEL_SETTINGS, 'rb') as f:\u001b[0m\u001b[0;34m\u001b[0m\u001b[0;34m\u001b[0m\u001b[0;34m\u001b[0m\u001b[0m\n\u001b[0;32m----> 2\u001b[0;31m \u001b[0msettings\u001b[0m \u001b[0;34m=\u001b[0m \u001b[0mSettings4SASUMO\u001b[0m\u001b[0;34m(\u001b[0m\u001b[0mTOP_LEVEL_SETTINGS\u001b[0m\u001b[0;34m)\u001b[0m\u001b[0;34m\u001b[0m\u001b[0;34m\u001b[0m\u001b[0m\n\u001b[0m",
      "\u001b[0;32m~/remote/airport-harper-sumo/SASUMO/SASUMO/params/yaml_handler.py\u001b[0m in \u001b[0;36m__init__\u001b[0;34m(self, file_path)\u001b[0m\n\u001b[1;32m    400\u001b[0m         \u001b[0;32melse\u001b[0m\u001b[0;34m:\u001b[0m\u001b[0;34m\u001b[0m\u001b[0;34m\u001b[0m\u001b[0m\n\u001b[1;32m    401\u001b[0m             \u001b[0;32mwith\u001b[0m \u001b[0mopen\u001b[0m\u001b[0;34m(\u001b[0m\u001b[0mfile_path\u001b[0m\u001b[0;34m,\u001b[0m \u001b[0;34m'rb'\u001b[0m\u001b[0;34m)\u001b[0m \u001b[0;32mas\u001b[0m \u001b[0mf\u001b[0m\u001b[0;34m:\u001b[0m\u001b[0;34m\u001b[0m\u001b[0;34m\u001b[0m\u001b[0m\n\u001b[0;32m--> 402\u001b[0;31m                 \u001b[0mself\u001b[0m \u001b[0;34m=\u001b[0m \u001b[0mpickle\u001b[0m\u001b[0;34m.\u001b[0m\u001b[0mload\u001b[0m\u001b[0;34m(\u001b[0m\u001b[0mf\u001b[0m\u001b[0;34m,\u001b[0m \u001b[0mfix_imports\u001b[0m\u001b[0;34m=\u001b[0m\u001b[0;32mTrue\u001b[0m\u001b[0;34m)\u001b[0m\u001b[0;34m\u001b[0m\u001b[0;34m\u001b[0m\u001b[0m\n\u001b[0m\u001b[1;32m    403\u001b[0m \u001b[0;34m\u001b[0m\u001b[0m\n\u001b[1;32m    404\u001b[0m     \u001b[0;31m# def __getattribute__(self, name: str) -> Any:\u001b[0m\u001b[0;34m\u001b[0m\u001b[0;34m\u001b[0m\u001b[0;34m\u001b[0m\u001b[0m\n",
      "\u001b[0;31mModuleNotFoundError\u001b[0m: No module named 'params'"
     ]
    }
   ],
   "source": [
    "# with open(TOP_LEVEL_SETTINGS, 'rb') as f:\n",
    "settings = Settings4SASUMO(TOP_LEVEL_SETTINGS)"
   ]
  },
  {
   "cell_type": "markdown",
   "id": "5fb1eb30-cb3f-4464-bdbc-b377d7254be1",
   "metadata": {},
   "source": [
    "## Open up the Problem"
   ]
  },
  {
   "cell_type": "code",
   "execution_count": 28,
   "id": "e578ff0b-f618-4653-b908-aa30af22c191",
   "metadata": {},
   "outputs": [
    {
     "data": {
      "text/plain": [
       "{'num_vars': 7,\n",
       " 'names': ['FleetComposition_fleet_composition',\n",
       "  'PersonalCar_tau',\n",
       "  'PersonalCar_delta',\n",
       "  'PersonalCar_accel',\n",
       "  'Class8Truck_tau',\n",
       "  'Class8Truck_delta',\n",
       "  'Class8Truck_accel'],\n",
       " 'bounds': [[0.0, 0.7],\n",
       "  [0.5, 3],\n",
       "  [1, 10],\n",
       "  [2.5, 6],\n",
       "  [0.5, 3],\n",
       "  [3, 10],\n",
       "  [1, 3]]}"
      ]
     },
     "execution_count": 28,
     "metadata": {},
     "output_type": "execute_result"
    }
   ],
   "source": [
    "with open(PROBLEM, 'r') as f:\n",
    "    problem = json.load(f)\n",
    "problem"
   ]
  },
  {
   "cell_type": "markdown",
   "id": "908ba712-a19d-4cf8-9889-255abf8e4909",
   "metadata": {},
   "source": [
    "## Open the Results"
   ]
  },
  {
   "cell_type": "code",
   "execution_count": 37,
   "id": "b2bb1968-aef7-45a8-bd08-5f61ef2066bf",
   "metadata": {},
   "outputs": [
    {
     "data": {
      "text/html": [
       "<div>\n",
       "<style scoped>\n",
       "    .dataframe tbody tr th:only-of-type {\n",
       "        vertical-align: middle;\n",
       "    }\n",
       "\n",
       "    .dataframe tbody tr th {\n",
       "        vertical-align: top;\n",
       "    }\n",
       "\n",
       "    .dataframe thead th {\n",
       "        text-align: right;\n",
       "    }\n",
       "</style>\n",
       "<table border=\"1\" class=\"dataframe\">\n",
       "  <thead>\n",
       "    <tr style=\"text-align: right;\">\n",
       "      <th></th>\n",
       "      <th>Results</th>\n",
       "    </tr>\n",
       "    <tr>\n",
       "      <th>Sample_Num</th>\n",
       "      <th></th>\n",
       "    </tr>\n",
       "  </thead>\n",
       "  <tbody>\n",
       "    <tr>\n",
       "      <th>0</th>\n",
       "      <td>292692.802002</td>\n",
       "    </tr>\n",
       "    <tr>\n",
       "      <th>1</th>\n",
       "      <td>288465.041001</td>\n",
       "    </tr>\n",
       "    <tr>\n",
       "      <th>2</th>\n",
       "      <td>292238.011002</td>\n",
       "    </tr>\n",
       "    <tr>\n",
       "      <th>3</th>\n",
       "      <td>281111.188001</td>\n",
       "    </tr>\n",
       "    <tr>\n",
       "      <th>4</th>\n",
       "      <td>294219.075002</td>\n",
       "    </tr>\n",
       "  </tbody>\n",
       "</table>\n",
       "</div>"
      ],
      "text/plain": [
       "                  Results\n",
       "Sample_Num               \n",
       "0           292692.802002\n",
       "1           288465.041001\n",
       "2           292238.011002\n",
       "3           281111.188001\n",
       "4           294219.075002"
      ]
     },
     "execution_count": 37,
     "metadata": {},
     "output_type": "execute_result"
    }
   ],
   "source": [
    "results_df = pd.read_csv(OUTPUT)\n",
    "results_df.set_index('Sample_Num', inplace=True)\n",
    "results_df.sort_index(inplace=True)\n",
    "results_df.head()"
   ]
  },
  {
   "cell_type": "markdown",
   "id": "c7a71f65-0268-4d3f-9591-21d3efa558db",
   "metadata": {},
   "source": [
    "## Perform the Sobol Analysis"
   ]
  },
  {
   "cell_type": "code",
   "execution_count": 40,
   "id": "e738a5de-9aa3-4ca2-b2c1-6905388d40b7",
   "metadata": {},
   "outputs": [
    {
     "ename": "RuntimeError",
     "evalue": "\n        Incorrect number of samples in model output file.\n        Confirm that calc_second_order matches option used during sampling.",
     "output_type": "error",
     "traceback": [
      "\u001b[0;31m---------------------------------------------------------------------------\u001b[0m",
      "\u001b[0;31mRuntimeError\u001b[0m                              Traceback (most recent call last)",
      "\u001b[0;32m/tmp/ipykernel_55534/2481102120.py\u001b[0m in \u001b[0;36m<module>\u001b[0;34m\u001b[0m\n\u001b[0;32m----> 1\u001b[0;31m \u001b[0mSi\u001b[0m \u001b[0;34m=\u001b[0m \u001b[0msobol\u001b[0m\u001b[0;34m.\u001b[0m\u001b[0manalyze\u001b[0m\u001b[0;34m(\u001b[0m\u001b[0mproblem\u001b[0m\u001b[0;34m,\u001b[0m \u001b[0mresults_df\u001b[0m\u001b[0;34m[\u001b[0m\u001b[0;34m'Results'\u001b[0m\u001b[0;34m]\u001b[0m\u001b[0;34m.\u001b[0m\u001b[0mvalues\u001b[0m\u001b[0;34m,\u001b[0m \u001b[0mprint_to_console\u001b[0m\u001b[0;34m=\u001b[0m\u001b[0;32mTrue\u001b[0m\u001b[0;34m,\u001b[0m \u001b[0mcalc_second_order\u001b[0m\u001b[0;34m=\u001b[0m\u001b[0;32mFalse\u001b[0m\u001b[0;34m)\u001b[0m\u001b[0;34m\u001b[0m\u001b[0;34m\u001b[0m\u001b[0m\n\u001b[0m",
      "\u001b[0;32m~/remote/airport-harper-sumo/venv/lib/python3.8/site-packages/SALib/analyze/sobol.py\u001b[0m in \u001b[0;36manalyze\u001b[0;34m(problem, Y, calc_second_order, num_resamples, conf_level, print_to_console, parallel, n_processors, seed)\u001b[0m\n\u001b[1;32m     80\u001b[0m         \u001b[0mN\u001b[0m \u001b[0;34m=\u001b[0m \u001b[0mint\u001b[0m\u001b[0;34m(\u001b[0m\u001b[0mY\u001b[0m\u001b[0;34m.\u001b[0m\u001b[0msize\u001b[0m \u001b[0;34m/\u001b[0m \u001b[0;34m(\u001b[0m\u001b[0mD\u001b[0m \u001b[0;34m+\u001b[0m \u001b[0;36m2\u001b[0m\u001b[0;34m)\u001b[0m\u001b[0;34m)\u001b[0m\u001b[0;34m\u001b[0m\u001b[0;34m\u001b[0m\u001b[0m\n\u001b[1;32m     81\u001b[0m     \u001b[0;32melse\u001b[0m\u001b[0;34m:\u001b[0m\u001b[0;34m\u001b[0m\u001b[0;34m\u001b[0m\u001b[0m\n\u001b[0;32m---> 82\u001b[0;31m         raise RuntimeError(\"\"\"\n\u001b[0m\u001b[1;32m     83\u001b[0m         \u001b[0mIncorrect\u001b[0m \u001b[0mnumber\u001b[0m \u001b[0mof\u001b[0m \u001b[0msamples\u001b[0m \u001b[0;32min\u001b[0m \u001b[0mmodel\u001b[0m \u001b[0moutput\u001b[0m \u001b[0mfile\u001b[0m\u001b[0;34m.\u001b[0m\u001b[0;34m\u001b[0m\u001b[0;34m\u001b[0m\u001b[0m\n\u001b[1;32m     84\u001b[0m         Confirm that calc_second_order matches option used during sampling.\"\"\")\n",
      "\u001b[0;31mRuntimeError\u001b[0m: \n        Incorrect number of samples in model output file.\n        Confirm that calc_second_order matches option used during sampling."
     ]
    }
   ],
   "source": [
    "Si = sobol.analyze(problem, results_df['Results'].values, print_to_console=True, calc_second_order=False)"
   ]
  },
  {
   "cell_type": "code",
   "execution_count": 43,
   "id": "3d822161-9df0-497a-b07c-75a519944f81",
   "metadata": {},
   "outputs": [
    {
     "data": {
      "text/plain": [
       "100"
      ]
     },
     "execution_count": 43,
     "metadata": {},
     "output_type": "execute_result"
    }
   ],
   "source": [
    "len(results_df['Results'].values)"
   ]
  },
  {
   "cell_type": "code",
   "execution_count": 44,
   "id": "fe22ce93-b535-4de2-b431-dafd0f3dd31d",
   "metadata": {},
   "outputs": [
    {
     "data": {
      "text/plain": [
       "{'num_vars': 7,\n",
       " 'names': ['FleetComposition_fleet_composition',\n",
       "  'PersonalCar_tau',\n",
       "  'PersonalCar_delta',\n",
       "  'PersonalCar_accel',\n",
       "  'Class8Truck_tau',\n",
       "  'Class8Truck_delta',\n",
       "  'Class8Truck_accel'],\n",
       " 'bounds': [[0.0, 0.7],\n",
       "  [0.5, 3],\n",
       "  [1, 10],\n",
       "  [2.5, 6],\n",
       "  [0.5, 3],\n",
       "  [3, 10],\n",
       "  [1, 3]]}"
      ]
     },
     "execution_count": 44,
     "metadata": {},
     "output_type": "execute_result"
    }
   ],
   "source": [
    "problem"
   ]
  }
 ],
 "metadata": {
  "kernelspec": {
   "display_name": "Python 3",
   "language": "python",
   "name": "python3"
  },
  "language_info": {
   "codemirror_mode": {
    "name": "ipython",
    "version": 3
   },
   "file_extension": ".py",
   "mimetype": "text/x-python",
   "name": "python",
   "nbconvert_exporter": "python",
   "pygments_lexer": "ipython3",
   "version": "3.8.11"
  }
 },
 "nbformat": 4,
 "nbformat_minor": 5
}
